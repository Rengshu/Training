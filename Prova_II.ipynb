{
  "nbformat": 4,
  "nbformat_minor": 0,
  "metadata": {
    "colab": {
      "provenance": [],
      "authorship_tag": "ABX9TyOSMbV3Ewf/JONhpYR3J/Nu",
      "include_colab_link": true
    },
    "kernelspec": {
      "name": "python3",
      "display_name": "Python 3"
    },
    "language_info": {
      "name": "python"
    }
  },
  "cells": [
    {
      "cell_type": "markdown",
      "metadata": {
        "id": "view-in-github",
        "colab_type": "text"
      },
      "source": [
        "<a href=\"https://colab.research.google.com/github/Rengshu/Training/blob/main/Prova_II.ipynb\" target=\"_parent\"><img src=\"https://colab.research.google.com/assets/colab-badge.svg\" alt=\"Open In Colab\"/></a>"
      ]
    },
    {
      "cell_type": "markdown",
      "source": [
        "# Questão 1"
      ],
      "metadata": {
        "id": "lixRNSMcj1Nh"
      }
    },
    {
      "cell_type": "code",
      "execution_count": 286,
      "metadata": {
        "colab": {
          "base_uri": "https://localhost:8080/"
        },
        "id": "j0yF1tVodeKa",
        "outputId": "a51f4d50-4749-428a-e175-a6555ec3bff0"
      },
      "outputs": [
        {
          "output_type": "stream",
          "name": "stdout",
          "text": [
            "as amostras de aluminio que nós temos são :[53.0, 70.2, 84.3, 69.5, 77.8, 87.5, 53.4, 82.5, 67.3, 54.1, 70.5, 71.4, 95.4, 51.1, 74.4, 55.7, 63.5, 85.8, 53.5, 64.3, 82.7, 78.5, 55.7, 69.1, 72.3, 59.5, 55.3, 73.0, 52.4, 50.7]\n"
          ]
        }
      ],
      "source": [
        "import numpy as np\n",
        "import matplotlib.pyplot as plt\n",
        "import pandas as pd\n",
        "import seaborn as sns\n",
        "import plotly.express as p\n",
        "Amostras_Al=[53.0, 70.2, 84.3, 69.5, 77.8, 87.5, 53.4, 82.5, 67.3, 54.1, 70.5, 71.4, 95.4, 51.1, 74.4, 55.7, 63.5, 85.8, 53.5, 64.3, 82.7, 78.5, 55.7, 69.1, 72.3, 59.5, 55.3, 73.0, 52.4, 50.7]\n",
        "Amostras_Al_pd=pd.DataFrame([53.0, 70.2, 84.3, 69.5, 77.8, 87.5, 53.4, 82.5, 67.3, 54.1, 70.5, 71.4, 95.4, 51.1, 74.4, 55.7, 63.5, 85.8, 53.5, 64.3, 82.7, 78.5, 55.7, 69.1, 72.3, 59.5, 55.3, 73.0, 52.4, 50.7])\n",
        "print(\"as amostras de aluminio que nós temos são :{}\".format(Amostras_Al))"
      ]
    },
    {
      "cell_type": "code",
      "source": [
        "Num_Amostras_Al=len(Amostras_Al)\n",
        "print(Num_Amostras_Al)"
      ],
      "metadata": {
        "colab": {
          "base_uri": "https://localhost:8080/"
        },
        "id": "EK7YgUxudrwY",
        "outputId": "20c6692c-12c4-4d39-9a46-66fc25477353"
      },
      "execution_count": 20,
      "outputs": [
        {
          "output_type": "stream",
          "name": "stdout",
          "text": [
            "30\n"
          ]
        }
      ]
    },
    {
      "cell_type": "code",
      "source": [
        "Soma_Amostras_Al=sum(Amostras_Al)\n",
        "print(Soma_Amostras_Al)"
      ],
      "metadata": {
        "colab": {
          "base_uri": "https://localhost:8080/"
        },
        "id": "1oPPj8dPfL9N",
        "outputId": "f4ba1ddb-6422-40e5-cf6b-18175129452e"
      },
      "execution_count": 21,
      "outputs": [
        {
          "output_type": "stream",
          "name": "stdout",
          "text": [
            "2034.4\n"
          ]
        }
      ]
    },
    {
      "cell_type": "code",
      "source": [
        "Media=Soma_Amostras_Al/Num_Amostras_Al\n",
        "print(Media)"
      ],
      "metadata": {
        "colab": {
          "base_uri": "https://localhost:8080/"
        },
        "id": "VyB82WW1fiI-",
        "outputId": "3dfd5116-b295-4dfc-8017-b43126130f87"
      },
      "execution_count": 22,
      "outputs": [
        {
          "output_type": "stream",
          "name": "stdout",
          "text": [
            "67.81333333333333\n"
          ]
        }
      ]
    },
    {
      "cell_type": "code",
      "source": [
        "print(Amostras_Al_pd.mean())"
      ],
      "metadata": {
        "colab": {
          "base_uri": "https://localhost:8080/"
        },
        "id": "t6mUfCA9lCK7",
        "outputId": "de0fcef4-35fa-4435-97fb-9dbab689d0a5"
      },
      "execution_count": 31,
      "outputs": [
        {
          "output_type": "stream",
          "name": "stdout",
          "text": [
            "0    67.813333\n",
            "dtype: float64\n"
          ]
        }
      ]
    },
    {
      "cell_type": "code",
      "source": [
        "print(Amostras_Al_pd.median())"
      ],
      "metadata": {
        "colab": {
          "base_uri": "https://localhost:8080/"
        },
        "id": "fJ_968yJiqDt",
        "outputId": "b69f5f74-d86d-404a-ad7f-2f5f4c321f24"
      },
      "execution_count": 28,
      "outputs": [
        {
          "output_type": "stream",
          "name": "stdout",
          "text": [
            "0    69.3\n",
            "dtype: float64\n"
          ]
        }
      ]
    },
    {
      "cell_type": "code",
      "source": [
        "print(Amostras_Al_pd.std())"
      ],
      "metadata": {
        "colab": {
          "base_uri": "https://localhost:8080/"
        },
        "id": "l3OVP_1ekYCx",
        "outputId": "52cc4166-d345-40f6-995e-7f810e2bffd7"
      },
      "execution_count": 60,
      "outputs": [
        {
          "output_type": "stream",
          "name": "stdout",
          "text": [
            "0    12.725368\n",
            "dtype: float64\n"
          ]
        }
      ]
    },
    {
      "cell_type": "code",
      "source": [
        "print(Amostras_Al_pd.quantile(0.25))"
      ],
      "metadata": {
        "colab": {
          "base_uri": "https://localhost:8080/"
        },
        "id": "5JigCuFEls5_",
        "outputId": "a46a205b-a219-4cb7-b370-664449578d70"
      },
      "execution_count": 36,
      "outputs": [
        {
          "output_type": "stream",
          "name": "stdout",
          "text": [
            "0    55.4\n",
            "Name: 0.25, dtype: float64\n"
          ]
        }
      ]
    },
    {
      "cell_type": "code",
      "source": [
        "fig, ax = plt.subplots()\n",
        "ax.boxplot(Amostras_Al_pd)\n",
        "ax.set_title('Valores da lista de dureza do alumínio')\n",
        "ax.set_xlabel('Conjunto de Dados')\n",
        "ax.set_ylabel('dureza')\n",
        "plt.show()"
      ],
      "metadata": {
        "colab": {
          "base_uri": "https://localhost:8080/",
          "height": 472
        },
        "id": "kqN1sKLTnDE9",
        "outputId": "4a5df750-24cc-481b-d594-14bfd71cc317"
      },
      "execution_count": 39,
      "outputs": [
        {
          "output_type": "display_data",
          "data": {
            "text/plain": [
              "<Figure size 640x480 with 1 Axes>"
            ],
            "image/png": "[encoded data removed]"
          },
          "metadata": {}
        }
      ]
    },
    {
      "cell_type": "markdown",
      "source": [
        "# Questão 2"
      ],
      "metadata": {
        "id": "R8L9-Y64kDs0"
      }
    },
    {
      "cell_type": "code",
      "source": [
        "Num_casas=[2,2,3,10,13,14,15,15,16,16,18,18,20,21,22,22,23,24,25,25,26,27,29,29,30,32,36,42,44,45,45,45,48,52,58,59,61,61,61,65,66,66,68,75,78,80,89,90,92,97]"
      ],
      "metadata": {
        "id": "KuN8M87JzkvW"
      },
      "execution_count": 70,
      "outputs": []
    },
    {
      "cell_type": "code",
      "source": [
        "plt.hist(Num_casas, 50, rwidth=0.5)\n",
        "plt.show()"
      ],
      "metadata": {
        "colab": {
          "base_uri": "https://localhost:8080/",
          "height": 430
        },
        "id": "pYUT59Y6oP2H",
        "outputId": "673923f7-d1f7-47b6-ab1a-947bb7474313"
      },
      "execution_count": 71,
      "outputs": [
        {
          "output_type": "display_data",
          "data": {
            "text/plain": [
              "<Figure size 640x480 with 1 Axes>"
            ],
            "image/png": "[encoded data removed]"
          },
          "metadata": {}
        }
      ]
    },
    {
      "cell_type": "markdown",
      "source": [
        "# Questão 3"
      ],
      "metadata": {
        "id": "87mbsYMgkMVd"
      }
    },
    {
      "cell_type": "code",
      "source": [
        "Seção=[\"P\",\"P\",\"P\",\"P\",\"P\",\"P\",\"P\",\"T\",\"T\",\"T\",\"T\",\"T\",\"T\",\"T\",\"V\",\"V\",\"V\",\"V\",\"V\",\"V\",\"V\",\"V\",\"V\",\"V\",\"V\"]\n",
        "Administr=[8.0,8.0,8.0,6.0,8.0,8.0,8.0,10.0,8.0,10.0,8.0,8.0,6.0,10.0,8.0,8.0,8.0,6.0,6.0,6.0,8.0,6.0,8.0,8.0,8.0]\n",
        "Direito=[9.0,9.0,9.0,9.0,9.0,9.0,9.0,9.0,9.0,9.0,9.0,9.0,9.0,9.0,9.0,9.0,9.0,9.0,9.0,9.0,9.0,9.0,9.0,9.0,9.0]\n",
        "Redação=[8.6,7.0,8.0,8.6,8.0,8.5,8.2,7.5,9.4,7.9,8.6,8.3,7.0,8.6,8.6,9.5,6.3,7.6,6.8,7.5,7.7,8.7,7.3,8.5,7.0]\n",
        "Estatística=[9.0,9.0,8.0,8.0,9.0,10.0,8.0,8.0,9.0,8.0,10.0,7.0,7.0,9.0,9.0,7.0,8.0,9.0,4.0,7.0,7.0,8.0,10.0,9.0,9.0]\n",
        "Inglês=[\"B\",\"B\",\"D\",\"D\",\"A\",\"B\",\"D\",\"B\",\"B\",\"B\",\"C\",\"D\",\"B\",\"A\",\"C\",\"A\",\"D\",\"C\",\"D\",\"C\",\"D\",\"C\",\"C\",\"A\",\"B\"]\n",
        "Metodologia=[\"A\",\"C\",\"B\",\"C\",\"A\",\"A\",\"C\",\"C\",\"B\",\"C\",\"B\",\"B\",\"C\",\"B\",\"B\",\"A\",\"C\",\"C\",\"C\",\"B\",\"B\",\"A\",\"C\",\"A\",\"A\"]\n",
        "Política=[9.0,6.5,9.0,6.0,6.5,6.5,9.0,6.0,10.0,9.0,10.0,6.5,6.0,10.0,10.0,9.0,10.0,6.0,6.0,6.0,6.5,6.0,9.0,6.5,9.0]\n",
        "Economia=[8.5,8.0,8.5,8.5,9.0,9.5,7.0,8.5,8.0,7.5,8.5,8.0,8.5,7.5,7.0,7.5,7.5,8.5,9.5,8.5,8.0,9.0,7.0,9.0,8.5]\n",
        "len(Economia)\n"
      ],
      "metadata": {
        "colab": {
          "base_uri": "https://localhost:8080/"
        },
        "id": "vutK9EhFrDq2",
        "outputId": "98d0a0ce-41b1-422c-b44b-b9af1920c150"
      },
      "execution_count": 155,
      "outputs": [
        {
          "output_type": "execute_result",
          "data": {
            "text/plain": [
              "25"
            ]
          },
          "metadata": {},
          "execution_count": 155
        }
      ]
    },
    {
      "cell_type": "code",
      "source": [
        "dfzip_1=list(zip(Seção,Administr,Direito,Redação,Estatística,Inglês,Metodologia,Política,Economia))"
      ],
      "metadata": {
        "id": "mQk7Zcup8NCM"
      },
      "execution_count": 102,
      "outputs": []
    },
    {
      "cell_type": "code",
      "source": [
        "df=pd.DataFrame(dfzip_1, columns=(\"Seção\",\"Admin.\",\"Direit.\",\"Redac.\",\"Estatís.\",\"Inglês\",\"Metod.\",\"Polít.\",\"Econo.\"))\n",
        "print(df)"
      ],
      "metadata": {
        "colab": {
          "base_uri": "https://localhost:8080/"
        },
        "id": "-R2VIDhj9oMf",
        "outputId": "d14ca54d-e3bc-4037-c653-1e8913dbabd2"
      },
      "execution_count": 105,
      "outputs": [
        {
          "output_type": "stream",
          "name": "stdout",
          "text": [
            "   Seção  Admin.  Direit.  Redac.  Estatís. Inglês Metod.  Polít.  Econo.\n",
            "0      P     8.0      9.0     8.6       9.0      B      A     9.0     8.5\n",
            "1      P     8.0      9.0     7.0       9.0      B      C     6.5     8.0\n",
            "2      P     8.0      9.0     8.0       8.0      D      B     9.0     8.5\n",
            "3      P     6.0      9.0     8.6       8.0      D      C     6.0     8.5\n",
            "4      P     8.0      9.0     8.0       9.0      A      A     6.5     9.0\n",
            "5      P     8.0      9.0     8.5      10.0      B      A     6.5     9.5\n",
            "6      P     8.0      9.0     8.2       8.0      D      C     9.0     7.0\n",
            "7      T    10.0      9.0     7.5       8.0      B      C     6.0     8.5\n",
            "8      T     8.0      9.0     9.4       9.0      B      B    10.0     8.0\n",
            "9      T    10.0      9.0     7.9       8.0      B      C     9.0     7.5\n",
            "10     T     8.0      9.0     8.6      10.0      B      B    10.0     8.5\n",
            "11     T     8.0      9.0     8.3       7.0      C      B     6.5     8.0\n",
            "12     T     6.0      9.0     7.0       7.0      D      C     6.0     8.5\n",
            "13     T    10.0      9.0     8.6       9.0      B      B    10.0     7.5\n",
            "14     V     8.0      9.0     8.6       9.0      A      B    10.0     7.0\n",
            "15     V     8.0      9.0     9.5       7.0      C      A     9.0     7.5\n",
            "16     V     8.0      9.0     6.3       8.0      A      C    10.0     7.5\n",
            "17     V     6.0      9.0     7.6       9.0      D      C     6.0     8.5\n",
            "18     V     6.0      9.0     6.8       4.0      C      C     6.0     9.5\n",
            "19     V     6.0      9.0     7.5       7.0      D      B     6.0     8.5\n",
            "20     V     8.0      9.0     7.7       7.0      C      B     6.5     8.0\n",
            "21     V     6.0      9.0     8.7       8.0      D      A     6.0     9.0\n",
            "22     V     8.0      9.0     7.3      10.0      C      C     9.0     7.0\n",
            "23     V     8.0      9.0     8.5       9.0      C      A     6.5     9.0\n",
            "24     V     8.0      9.0     7.0       9.0      A      A     9.0     8.5\n"
          ]
        }
      ]
    },
    {
      "cell_type": "code",
      "source": [
        "Seção_P=[\"P\",\"P\",\"P\",\"P\",\"P\",\"P\",\"P\"]\n",
        "Administr_P=[8.0,8.0,8.0,6.0,8.0,8.0,8.0]\n",
        "Direito_P=[9.0,9.0,9.0,9.0,9.0,9.0,9.0]\n",
        "Redação_P=[8.6,7.0,8.0,8.6,8.0,8.5,8.2]\n",
        "Estatística_P=[9.0,9.0,8.0,8.0,9.0,10.0,8.0]\n",
        "Inglês_P=[\"B\",\"B\",\"D\",\"D\",\"A\",\"B\",\"D\"]\n",
        "Metodologia_P=[\"A\",\"C\",\"B\",\"C\",\"A\",\"A\",\"C\"]\n",
        "Política_P=[9.0,6.5,9.0,6.0,6.5,6.5,9.0]\n",
        "Economia_P=[8.5,8.0,8.5,8.5,9.0,9.5,7.0]\n",
        "len(Economia_P)"
      ],
      "metadata": {
        "colab": {
          "base_uri": "https://localhost:8080/"
        },
        "id": "QGVW4Dak_fXM",
        "outputId": "9dc1dcd2-8723-4035-b585-a7dee0bd4ee8"
      },
      "execution_count": 115,
      "outputs": [
        {
          "output_type": "execute_result",
          "data": {
            "text/plain": [
              "7"
            ]
          },
          "metadata": {},
          "execution_count": 115
        }
      ]
    },
    {
      "cell_type": "code",
      "source": [
        "dfzip_P=list(zip(Seção_P,Administr_P,Direito_P,Redação_P,Estatística_P,Inglês_P,Metodologia_P,Política_P,Economia_P))\n",
        "df_P=pd.DataFrame(dfzip_P, columns=(\"Seção\",\"Admin.\",\"Direit.\",\"Redac.\",\"Estatís.\",\"Inglês\",\"Metod.\",\"Polít.\",\"Econo.\"))\n",
        "print(df_P)"
      ],
      "metadata": {
        "colab": {
          "base_uri": "https://localhost:8080/"
        },
        "id": "yheh0pbtB5Hp",
        "outputId": "669b1d52-5def-45e9-cc11-7594a97b0ea1"
      },
      "execution_count": 118,
      "outputs": [
        {
          "output_type": "stream",
          "name": "stdout",
          "text": [
            "  Seção  Admin.  Direit.  Redac.  Estatís. Inglês Metod.  Polít.  Econo.\n",
            "0     P     8.0      9.0     8.6       9.0      B      A     9.0     8.5\n",
            "1     P     8.0      9.0     7.0       9.0      B      C     6.5     8.0\n",
            "2     P     8.0      9.0     8.0       8.0      D      B     9.0     8.5\n",
            "3     P     6.0      9.0     8.6       8.0      D      C     6.0     8.5\n",
            "4     P     8.0      9.0     8.0       9.0      A      A     6.5     9.0\n",
            "5     P     8.0      9.0     8.5      10.0      B      A     6.5     9.5\n",
            "6     P     8.0      9.0     8.2       8.0      D      C     9.0     7.0\n"
          ]
        }
      ]
    },
    {
      "cell_type": "code",
      "source": [
        "Seção_T=[\"T\",\"T\",\"T\",\"T\",\"T\",\"T\",\"T\"]\n",
        "Administr_T=[10.0,8.0,10.0,8.0,8.0,6.0,10.0]\n",
        "Direito_T=[9.0,9.0,9.0,9.0,9.0,9.0,9.0]\n",
        "Redação_T=[7.5,9.4,7.9,8.6,8.3,7.0,8.6]\n",
        "Estatística_T=[8.0,9.0,8.0,10.0,7.0,7.0,9.0]\n",
        "Inglês_T=[\"B\",\"B\",\"B\",\"B\",\"C\",\"D\",\"B\"]\n",
        "Metodologia_T=[\"C\",\"B\",\"C\",\"B\",\"B\",\"C\",\"B\"]\n",
        "Política_T=[6.0,10.0,9.0,10.0,6.5,6.0,10.0]\n",
        "Economia_T=[8.5,8.0,7.5,8.5,8.0,8.5,7.5]"
      ],
      "metadata": {
        "id": "VsaQjClgC2Zc"
      },
      "execution_count": 131,
      "outputs": []
    },
    {
      "cell_type": "code",
      "source": [
        "dfzip_T=list(zip(Seção_T,Administr_T,Direito_T,Redação_T,Estatística_T,Inglês_T,Metodologia_T,Política_T,Economia_T))\n",
        "df_T=pd.DataFrame(dfzip_T, columns=(\"Seção\",\"Admin.\",\"Direit.\",\"Redac.\",\"Estatís.\",\"Inglês\",\"Metod.\",\"Polít.\",\"Econo.\"))\n",
        "print(df_T)"
      ],
      "metadata": {
        "colab": {
          "base_uri": "https://localhost:8080/"
        },
        "id": "41-F7aE9EDIj",
        "outputId": "a23ad317-eb6d-4e3d-8747-794bc43fb853"
      },
      "execution_count": 130,
      "outputs": [
        {
          "output_type": "stream",
          "name": "stdout",
          "text": [
            "  Seção  Admin.  Direit.  Redac.  Estatís. Inglês Metod.  Polít.  Econo.\n",
            "0     T    10.0      9.0     7.5       8.0      B      C     6.0     8.5\n",
            "1     T     8.0      9.0     9.4       9.0      B      B    10.0     8.0\n",
            "2     T    10.0      9.0     7.9       8.0      B      C     9.0     7.5\n",
            "3     T     8.0      9.0     8.6      10.0      B      B    10.0     8.5\n",
            "4     T     8.0      9.0     8.3       7.0      C      B     6.5     8.0\n",
            "5     T     6.0      9.0     7.0       7.0      D      C     6.0     8.5\n",
            "6     T    10.0      9.0     8.6       9.0      B      B    10.0     7.5\n"
          ]
        }
      ]
    },
    {
      "cell_type": "code",
      "source": [
        "Seção_V=[\"V\",\"V\",\"V\",\"V\",\"V\",\"V\",\"V\",\"V\",\"V\",\"V\",\"V\"]\n",
        "Administr_V=[8.0,8.0,8.0,6.0,6.0,6.0,8.0,6.0,8.0,8.0,8.0]\n",
        "Direito_V=[9.0,9.0,9.0,9.0,9.0,9.0,9.0,9.0,9.0,9.0,9.0]\n",
        "Redação_V=[8.6,9.5,6.3,7.6,6.8,7.5,7.7,8.7,7.3,8.5,7.0]\n",
        "Estatística_V=[9.0,7.0,8.0,9.0,4.0,7.0,7.0,8.0,10.0,9.0,9.0]\n",
        "Inglês_V=[\"C\",\"A\",\"D\",\"C\",\"D\",\"C\",\"D\",\"C\",\"C\",\"A\",\"B\"]\n",
        "Metodologia_V=[\"B\",\"A\",\"C\",\"C\",\"C\",\"B\",\"B\",\"A\",\"C\",\"A\",\"A\"]\n",
        "Política_V=[10.0,9.0,10.0,6.0,6.0,6.0,6.5,6.0,9.0,6.5,9.0]\n",
        "Economia_V=[7.0,7.5,7.5,8.5,9.5,8.5,8.0,9.0,7.0,9.0,8.5]"
      ],
      "metadata": {
        "colab": {
          "base_uri": "https://localhost:8080/"
        },
        "id": "8zg4NR74EYPO",
        "outputId": "bf6d6eeb-3907-4f2d-946e-4a12b33f9161"
      },
      "execution_count": 144,
      "outputs": [
        {
          "output_type": "execute_result",
          "data": {
            "text/plain": [
              "11"
            ]
          },
          "metadata": {},
          "execution_count": 144
        }
      ]
    },
    {
      "cell_type": "code",
      "source": [
        "dfzip_V=list(zip(Seção_V,Administr_V,Direito_V,Redação_V,Estatística_V,Inglês_V,Metodologia_V,Política_V,Economia_V))\n",
        "df_V=pd.DataFrame(dfzip_V, columns=(\"Seção\",\"Admin.\",\"Direit.\",\"Redac.\",\"Estatís.\",\"Inglês\",\"Metod.\",\"Polít.\",\"Econo.\"))\n",
        "print(df_V)"
      ],
      "metadata": {
        "colab": {
          "base_uri": "https://localhost:8080/"
        },
        "id": "vs-KovCZF93O",
        "outputId": "a0cb9f88-8fc9-41db-e31d-8090c03646d2"
      },
      "execution_count": 145,
      "outputs": [
        {
          "output_type": "stream",
          "name": "stdout",
          "text": [
            "   Seção  Admin.  Direit.  Redac.  Estatís. Inglês Metod.  Polít.  Econo.\n",
            "0      V     8.0      9.0     8.6       9.0      C      B    10.0     7.0\n",
            "1      V     8.0      9.0     9.5       7.0      A      A     9.0     7.5\n",
            "2      V     8.0      9.0     6.3       8.0      D      C    10.0     7.5\n",
            "3      V     6.0      9.0     7.6       9.0      C      C     6.0     8.5\n",
            "4      V     6.0      9.0     6.8       4.0      D      C     6.0     9.5\n",
            "5      V     6.0      9.0     7.5       7.0      C      B     6.0     8.5\n",
            "6      V     8.0      9.0     7.7       7.0      D      B     6.5     8.0\n",
            "7      V     6.0      9.0     8.7       8.0      C      A     6.0     9.0\n",
            "8      V     8.0      9.0     7.3      10.0      C      C     9.0     7.0\n",
            "9      V     8.0      9.0     8.5       9.0      A      A     6.5     9.0\n",
            "10     V     8.0      9.0     7.0       9.0      B      A     9.0     8.5\n"
          ]
        }
      ]
    },
    {
      "cell_type": "code",
      "source": [
        "dfzip_d=list(zip(Direito,Estatística,Política))"
      ],
      "metadata": {
        "id": "Ec8SVCphMMdL"
      },
      "execution_count": 149,
      "outputs": []
    },
    {
      "cell_type": "code",
      "source": [
        "df_d=pd.DataFrame(dfzip_d, columns=(\"Direit.\",\"Estatís.\",\"Polít.\"))\n",
        "print(df_d)"
      ],
      "metadata": {
        "colab": {
          "base_uri": "https://localhost:8080/"
        },
        "id": "rtE7YWC5Jd2E",
        "outputId": "a6bb057a-a369-42dd-9da3-767f1a3537b1"
      },
      "execution_count": 150,
      "outputs": [
        {
          "output_type": "stream",
          "name": "stdout",
          "text": [
            "    Direit.  Estatís.  Polít.\n",
            "0       9.0       9.0     9.0\n",
            "1       9.0       9.0     6.5\n",
            "2       9.0       8.0     9.0\n",
            "3       9.0       8.0     6.0\n",
            "4       9.0       9.0     6.5\n",
            "5       9.0      10.0     6.5\n",
            "6       9.0       8.0     9.0\n",
            "7       9.0       8.0     6.0\n",
            "8       9.0       9.0    10.0\n",
            "9       9.0       8.0     9.0\n",
            "10      9.0      10.0    10.0\n",
            "11      9.0       7.0     6.5\n",
            "12      9.0       7.0     6.0\n",
            "13      9.0       9.0    10.0\n",
            "14      9.0       9.0    10.0\n",
            "15      9.0       7.0     9.0\n",
            "16      9.0       8.0    10.0\n",
            "17      9.0       9.0     6.0\n",
            "18      9.0       4.0     6.0\n",
            "19      9.0       7.0     6.0\n",
            "20      9.0       7.0     6.5\n",
            "21      9.0       8.0     6.0\n",
            "22      9.0      10.0     9.0\n",
            "23      9.0       9.0     6.5\n",
            "24      9.0       9.0     9.0\n"
          ]
        }
      ]
    },
    {
      "cell_type": "code",
      "source": [
        "df_d.boxplot()"
      ],
      "metadata": {
        "colab": {
          "base_uri": "https://localhost:8080/",
          "height": 447
        },
        "id": "QwaSRYzwPThp",
        "outputId": "fcb9a807-3f38-4018-9076-1c546b629ac1"
      },
      "execution_count": 151,
      "outputs": [
        {
          "output_type": "execute_result",
          "data": {
            "text/plain": [
              "<Axes: >"
            ]
          },
          "metadata": {},
          "execution_count": 151
        },
        {
          "output_type": "display_data",
          "data": {
            "text/plain": [
              "<Figure size 640x480 with 1 Axes>"
            ],
            "image/png": "[encoded data removed]"
          },
          "metadata": {}
        }
      ]
    },
    {
      "cell_type": "code",
      "source": [
        "plt.hist(Redação, 5, rwidth=0.9)\n",
        "plt.show()"
      ],
      "metadata": {
        "colab": {
          "base_uri": "https://localhost:8080/",
          "height": 430
        },
        "id": "IkrtX8feP4_4",
        "outputId": "84b949be-2f38-4d2c-dd1c-d21941f0dc7d"
      },
      "execution_count": 152,
      "outputs": [
        {
          "output_type": "display_data",
          "data": {
            "text/plain": [
              "<Figure size 640x480 with 1 Axes>"
            ],
            "image/png": "[encoded data removed]"
          },
          "metadata": {}
        }
      ]
    },
    {
      "cell_type": "code",
      "source": [
        "Metodologia=[\"A\",\"C\",\"B\",\"C\",\"A\",\"A\",\"C\",\"C\",\"B\",\"C\",\"B\",\"B\",\"C\",\"B\",\"B\",\"A\",\"C\",\"C\",\"C\",\"B\",\"B\",\"A\",\"C\",\"A\",\"A\"]\n",
        "Metodologia_A=[\"A\",\"A\",\"A\",\"A\",\"A\",\"A\",\"A\"]\n",
        "Metodologia_C=[\"C\",\"C\",\"C\",\"C\",\"C\",\"C\",\"C\",\"C\",\"C\",\"C\"]\n",
        "Metodologia_B=[\"B\",\"B\",\"B\",\"B\",\"B\",\"B\",\"B\",\"B\"]\n",
        "Quant_A=[len(Metodologia_A)]\n",
        "Quant_B=[len(Metodologia_B)]\n",
        "Quant_C=[len(Metodologia_C)]\n",
        "dfzip_Met=list(zip(Quant_A,Quant_B,Quant_C))\n",
        "df_Met=pd.DataFrame(dfzip_Met, columns=(\"A\",\"B\",\"C\"))\n",
        "print(df_Met)"
      ],
      "metadata": {
        "colab": {
          "base_uri": "https://localhost:8080/"
        },
        "id": "USTRbBcuTQP0",
        "outputId": "ab1c88d5-b40a-461f-ca30-fb49204cdf5f"
      },
      "execution_count": 190,
      "outputs": [
        {
          "output_type": "stream",
          "name": "stdout",
          "text": [
            "   A  B   C\n",
            "0  7  8  10\n"
          ]
        }
      ]
    },
    {
      "cell_type": "code",
      "source": [
        "df_Met.boxplot()"
      ],
      "metadata": {
        "colab": {
          "base_uri": "https://localhost:8080/",
          "height": 447
        },
        "id": "hEw4Yg6UWL9U",
        "outputId": "a9b36f7a-586f-4539-97ae-2a48a75257bc"
      },
      "execution_count": 191,
      "outputs": [
        {
          "output_type": "execute_result",
          "data": {
            "text/plain": [
              "<Axes: >"
            ]
          },
          "metadata": {},
          "execution_count": 191
        },
        {
          "output_type": "display_data",
          "data": {
            "text/plain": [
              "<Figure size 640x480 with 1 Axes>"
            ],
            "image/png": "[encoded data removed]"
          },
          "metadata": {}
        }
      ]
    },
    {
      "cell_type": "code",
      "source": [
        "dfzip_num=list(zip(Administr,Direito,Redação,Estatística,Política,Economia))\n",
        "df_num=pd.DataFrame(dfzip_num, columns=(\"Admin.\",\"Direit.\",\"Redac.\",\"Estatís.\",\"Polít.\",\"Econo.\"))\n",
        "print(df_num)"
      ],
      "metadata": {
        "colab": {
          "base_uri": "https://localhost:8080/"
        },
        "id": "jvpVOTT0XmJr",
        "outputId": "75c9a405-d336-4582-87b3-06fb0cc7d8d1"
      },
      "execution_count": 195,
      "outputs": [
        {
          "output_type": "stream",
          "name": "stdout",
          "text": [
            "    Admin.  Direit.  Redac.  Estatís.  Polít.  Econo.\n",
            "0      8.0      9.0     8.6       9.0     9.0     8.5\n",
            "1      8.0      9.0     7.0       9.0     6.5     8.0\n",
            "2      8.0      9.0     8.0       8.0     9.0     8.5\n",
            "3      6.0      9.0     8.6       8.0     6.0     8.5\n",
            "4      8.0      9.0     8.0       9.0     6.5     9.0\n",
            "5      8.0      9.0     8.5      10.0     6.5     9.5\n",
            "6      8.0      9.0     8.2       8.0     9.0     7.0\n",
            "7     10.0      9.0     7.5       8.0     6.0     8.5\n",
            "8      8.0      9.0     9.4       9.0    10.0     8.0\n",
            "9     10.0      9.0     7.9       8.0     9.0     7.5\n",
            "10     8.0      9.0     8.6      10.0    10.0     8.5\n",
            "11     8.0      9.0     8.3       7.0     6.5     8.0\n",
            "12     6.0      9.0     7.0       7.0     6.0     8.5\n",
            "13    10.0      9.0     8.6       9.0    10.0     7.5\n",
            "14     8.0      9.0     8.6       9.0    10.0     7.0\n",
            "15     8.0      9.0     9.5       7.0     9.0     7.5\n",
            "16     8.0      9.0     6.3       8.0    10.0     7.5\n",
            "17     6.0      9.0     7.6       9.0     6.0     8.5\n",
            "18     6.0      9.0     6.8       4.0     6.0     9.5\n",
            "19     6.0      9.0     7.5       7.0     6.0     8.5\n",
            "20     8.0      9.0     7.7       7.0     6.5     8.0\n",
            "21     6.0      9.0     8.7       8.0     6.0     9.0\n",
            "22     8.0      9.0     7.3      10.0     9.0     7.0\n",
            "23     8.0      9.0     8.5       9.0     6.5     9.0\n",
            "24     8.0      9.0     7.0       9.0     9.0     8.5\n"
          ]
        }
      ]
    },
    {
      "cell_type": "code",
      "source": [
        "print(df_num.mean())"
      ],
      "metadata": {
        "colab": {
          "base_uri": "https://localhost:8080/"
        },
        "id": "udYs8Aa9YiVD",
        "outputId": "596176fb-2cb3-4194-cfaf-30c07db0dcea"
      },
      "execution_count": 196,
      "outputs": [
        {
          "output_type": "stream",
          "name": "stdout",
          "text": [
            "Admin.      7.760\n",
            "Direit.     9.000\n",
            "Redac.      7.988\n",
            "Estatís.    8.240\n",
            "Polít.      7.760\n",
            "Econo.      8.220\n",
            "dtype: float64\n"
          ]
        }
      ]
    },
    {
      "cell_type": "code",
      "source": [
        "print(df_num.std())"
      ],
      "metadata": {
        "colab": {
          "base_uri": "https://localhost:8080/"
        },
        "id": "er_k7PHnY1d9",
        "outputId": "c511b5e4-519a-454c-9cdb-c468defdf2f9"
      },
      "execution_count": 197,
      "outputs": [
        {
          "output_type": "stream",
          "name": "stdout",
          "text": [
            "Admin.      1.200000\n",
            "Direit.     0.000000\n",
            "Redac.      0.808971\n",
            "Estatís.    1.300000\n",
            "Polít.      1.671576\n",
            "Econo.      0.722842\n",
            "dtype: float64\n"
          ]
        }
      ]
    },
    {
      "cell_type": "code",
      "source": [
        "Inglês=[\"B\",\"B\",\"D\",\"D\",\"A\",\"B\",\"D\",\"B\",\"B\",\"B\",\"C\",\"D\",\"B\",\"A\",\"C\",\"A\",\"D\",\"C\",\"D\",\"C\",\"D\",\"C\",\"C\",\"A\",\"B\"]\n",
        "Inglês_A=[\"A\",\"A\",\"A\",\"A\"]\n",
        "Inglês_B=[\"B\",\"B\",\"B\",\"B\",\"B\",\"B\",\"B\",\"B\",]\n",
        "Inglês_C=[\"C\",\"C\",\"C\",\"C\",\"C\",\"C\"]\n",
        "Inglês_D=[\"D\",\"D\",\"D\",\"D\",\"D\",\"D\",\"D\"]\n",
        "Ing_Quant_A=[len(Inglês_A)]\n",
        "Ing_Quant_B=[len(Inglês_B)]\n",
        "Ing_Quant_C=[len(Inglês_C)]\n",
        "Ing_Quant_D=[len(Inglês_D)]\n",
        "dfzip_Ing=list(zip(Ing_Quant_A,Ing_Quant_B,Ing_Quant_C,Ing_Quant_D))\n",
        "df_Ing=pd.DataFrame(dfzip_Ing, columns=(\"A\",\"B\",\"C\",\"D\"))\n",
        "print(df_Ing)\n",
        "print(df_Met)"
      ],
      "metadata": {
        "colab": {
          "base_uri": "https://localhost:8080/"
        },
        "id": "OPbyLwUaZmaS",
        "outputId": "bbf105ed-3ac1-4551-f175-eba5684768e3"
      },
      "execution_count": 209,
      "outputs": [
        {
          "output_type": "stream",
          "name": "stdout",
          "text": [
            "   A  B  C  D\n",
            "0  4  8  6  7\n",
            "   A  B   C\n",
            "0  7  8  10\n"
          ]
        }
      ]
    },
    {
      "cell_type": "code",
      "source": [
        "#levando em consideração que D=1/C=2/B=3/A=4\n",
        "PtIng_A=4*len(Inglês_A)\n",
        "PtIng_B=3*len(Inglês_B)\n",
        "PtIng_C=2*len(Inglês_C)\n",
        "PtIng_D=1*len(Inglês_D)\n",
        "PtIng=(PtIng_A+PtIng_B+PtIng_C+PtIng_D)\n",
        "print(PtIng)"
      ],
      "metadata": {
        "colab": {
          "base_uri": "https://localhost:8080/"
        },
        "id": "lCCl8_ccb9eX",
        "outputId": "899422cf-78dc-4300-8a3a-cfd13fd27786"
      },
      "execution_count": 229,
      "outputs": [
        {
          "output_type": "stream",
          "name": "stdout",
          "text": [
            "59\n"
          ]
        }
      ]
    },
    {
      "cell_type": "code",
      "source": [
        "PtMet_A=4*len(Metodologia_A)\n",
        "PtMet_B=3*len(Metodologia_B)\n",
        "PtMet_C=2*len(Metodologia_C)\n",
        "PtMet=(PtMet_A+PtMet_B+PtMet_C)\n",
        "print(PtMet)"
      ],
      "metadata": {
        "colab": {
          "base_uri": "https://localhost:8080/"
        },
        "id": "P3QXPSGVgHxT",
        "outputId": "64337431-f279-474b-ae51-a6e0aa41c8a9"
      },
      "execution_count": 231,
      "outputs": [
        {
          "output_type": "stream",
          "name": "stdout",
          "text": [
            "72\n"
          ]
        }
      ]
    },
    {
      "cell_type": "code",
      "source": [
        "if PtMet>PtIng:\n",
        " print(\"Metodologia apresentou o maior conceito entre as variaveis categóricas\")\n",
        "else:\n",
        "  print(\"Inglês apresentou o maior conceito entre as variaveis categóricas\")"
      ],
      "metadata": {
        "colab": {
          "base_uri": "https://localhost:8080/"
        },
        "id": "DH5z3mmPgx18",
        "outputId": "38ad5743-5db7-4fda-efa3-8cc03cc07ed5"
      },
      "execution_count": 232,
      "outputs": [
        {
          "output_type": "stream",
          "name": "stdout",
          "text": [
            "Metodologia apresentou o maior conceito entre as variaveis categóricas\n"
          ]
        }
      ]
    },
    {
      "cell_type": "markdown",
      "source": [
        "# Questão 4"
      ],
      "metadata": {
        "id": "mUkEknTUjx6T"
      }
    },
    {
      "cell_type": "markdown",
      "source": [
        "# A)"
      ],
      "metadata": {
        "id": "ugMJPjlYmn_o"
      }
    },
    {
      "cell_type": "code",
      "source": [
        "Tempo_entrega = [9.95,24.45,31.75,35.00,25.02,16.86,14.38,9.60,24.35,27.50,17.08,37.00,41.95,11.66,21.65,17.89,69.00,10.30,34.93,46.59,44.88,54.12,56.63,22.13,21.15]\n",
        "Tempo_entrega_pd=pd.DataFrame([9.95,24.45,31.75,35.00,25.02,16.86,14.38,9.60,24.35,27.50,17.08,37.00,41.95,11.66,21.65,17.89,69.00,10.30,34.93,46.59,44.88,54.12,56.63,22.13,21.15])\n",
        "N_caixas = [2,8,11,10,8,4,2,2,9,8,4,11,12,2,4,4,20,1,10,15,15,16,17,6,5]\n",
        "N_caixas_pd=pd.DataFrame([2,8,11,10,8,4,2,2,9,8,4,11,12,2,4,4,20,1,10,15,15,16,17,6,5])"
      ],
      "metadata": {
        "id": "l1JEJFshjwqu"
      },
      "execution_count": 267,
      "outputs": []
    },
    {
      "cell_type": "code",
      "source": [
        "Media_tempo=sum(Tempo_entrega)/len(Tempo_entrega)\n",
        "print(Media_tempo)"
      ],
      "metadata": {
        "colab": {
          "base_uri": "https://localhost:8080/"
        },
        "id": "sdredG1xli7o",
        "outputId": "bb9c6b36-5724-4f40-df00-02b0491d54c7"
      },
      "execution_count": 253,
      "outputs": [
        {
          "output_type": "stream",
          "name": "stdout",
          "text": [
            "29.032799999999998\n"
          ]
        }
      ]
    },
    {
      "cell_type": "code",
      "source": [
        "Media_Ncaixas= sum(N_caixas)/len(N_caixas)\n",
        "print(\"a media do numero de caixas é :{}\".format(Media_Ncaixas))\n"
      ],
      "metadata": {
        "colab": {
          "base_uri": "https://localhost:8080/"
        },
        "id": "vTp-V7apmy12",
        "outputId": "c428a8f0-b51a-4e0c-972b-c790119e460f"
      },
      "execution_count": 273,
      "outputs": [
        {
          "output_type": "stream",
          "name": "stdout",
          "text": [
            "a media do numero de caixas é :8.24\n"
          ]
        }
      ]
    },
    {
      "cell_type": "code",
      "source": [
        "print(\" o desvio padrão do tempo de entrega é :{}\".format(Tempo_entrega_pd.std()))"
      ],
      "metadata": {
        "colab": {
          "base_uri": "https://localhost:8080/"
        },
        "id": "c7mjHOd-mHz0",
        "outputId": "ff3e9fcc-5bd8-4ce9-c0eb-18b120f6b7bb"
      },
      "execution_count": 274,
      "outputs": [
        {
          "output_type": "stream",
          "name": "stdout",
          "text": [
            " o desvio padrão do tempo de entrega é :0    15.950372\n",
            "dtype: float64\n"
          ]
        }
      ]
    },
    {
      "cell_type": "code",
      "source": [
        "print(\"a media do tempo de entrega é :{}\".format(Tempo_entrega_pd.mean()))"
      ],
      "metadata": {
        "colab": {
          "base_uri": "https://localhost:8080/"
        },
        "id": "snP9olhemcko",
        "outputId": "f005aba4-6507-4bd5-e2d4-6585cf3bc4d0"
      },
      "execution_count": 278,
      "outputs": [
        {
          "output_type": "stream",
          "name": "stdout",
          "text": [
            "a media do tempo de entrega é :0    29.0328\n",
            "dtype: float64\n"
          ]
        }
      ]
    },
    {
      "cell_type": "code",
      "source": [
        "print(\"o desvio padrão do numero de caixas é :{}\".format(N_caixas_pd.std()))"
      ],
      "metadata": {
        "colab": {
          "base_uri": "https://localhost:8080/"
        },
        "id": "KRXnh3denun1",
        "outputId": "6f2ab2c5-725f-4e3b-c70c-55be3e6e8a76"
      },
      "execution_count": 277,
      "outputs": [
        {
          "output_type": "stream",
          "name": "stdout",
          "text": [
            "o desvio padrão do numero de caixas é :0    5.395059\n",
            "dtype: float64\n"
          ]
        }
      ]
    },
    {
      "cell_type": "code",
      "source": [
        "print(\"a média do numero de caixas é :{}\".format(N_caixas_pd.mean()))"
      ],
      "metadata": {
        "colab": {
          "base_uri": "https://localhost:8080/"
        },
        "id": "65XK4B9SnyYY",
        "outputId": "6e4d2135-ce46-47bc-c83b-3440d64fdb98"
      },
      "execution_count": 275,
      "outputs": [
        {
          "output_type": "stream",
          "name": "stdout",
          "text": [
            "a média do numero de caixas é :0    8.24\n",
            "dtype: float64\n"
          ]
        }
      ]
    },
    {
      "cell_type": "markdown",
      "source": [
        "# B)"
      ],
      "metadata": {
        "id": "clgYY4AVmqb1"
      }
    },
    {
      "cell_type": "code",
      "source": [
        "dfzip_4b=list(zip(N_caixas,Tempo_entrega))\n",
        "df_4b=pd.DataFrame(dfzip_4b, columns=(\"Num_caixas\",\"Tempo_Entrega\"))\n",
        "print(df_4b)"
      ],
      "metadata": {
        "colab": {
          "base_uri": "https://localhost:8080/"
        },
        "id": "D4R9EJr7mjxh",
        "outputId": "8dfc0f5c-b9fa-4041-8c53-d88f97aafc76"
      },
      "execution_count": 284,
      "outputs": [
        {
          "output_type": "stream",
          "name": "stdout",
          "text": [
            "    Num_caixas  Tempo_Entrega\n",
            "0            2           9.95\n",
            "1            8          24.45\n",
            "2           11          31.75\n",
            "3           10          35.00\n",
            "4            8          25.02\n",
            "5            4          16.86\n",
            "6            2          14.38\n",
            "7            2           9.60\n",
            "8            9          24.35\n",
            "9            8          27.50\n",
            "10           4          17.08\n",
            "11          11          37.00\n",
            "12          12          41.95\n",
            "13           2          11.66\n",
            "14           4          21.65\n",
            "15           4          17.89\n",
            "16          20          69.00\n",
            "17           1          10.30\n",
            "18          10          34.93\n",
            "19          15          46.59\n",
            "20          15          44.88\n",
            "21          16          54.12\n",
            "22          17          56.63\n",
            "23           6          22.13\n",
            "24           5          21.15\n"
          ]
        }
      ]
    },
    {
      "cell_type": "markdown",
      "source": [
        "# C)"
      ],
      "metadata": {
        "id": "Vcd1pWipq-KL"
      }
    },
    {
      "cell_type": "code",
      "source": [
        "sns.set_style(\"white\")\n",
        "plt.figure(figsize=(10, 10))\n",
        "Entrega_de_caixas = sns.scatterplot(x='Num_caixas', y='Tempo_Entrega', data=df_4b)\n",
        "plt.show"
      ],
      "metadata": {
        "colab": {
          "base_uri": "https://localhost:8080/",
          "height": 867
        },
        "id": "mB1UYZVdq_4Q",
        "outputId": "30827bcc-0d5a-4c83-a43b-bd2b5d90aa0a"
      },
      "execution_count": 297,
      "outputs": [
        {
          "output_type": "execute_result",
          "data": {
            "text/plain": [
              "<function matplotlib.pyplot.show(close=None, block=None)>"
            ]
          },
          "metadata": {},
          "execution_count": 297
        },
        {
          "output_type": "display_data",
          "data": {
            "text/plain": [
              "<Figure size 1000x1000 with 1 Axes>"
            ],
            "image/png": "[encoded data removed]"
          },
          "metadata": {}
        }
      ]
    },
    {
      "cell_type": "markdown",
      "source": [
        "# D)"
      ],
      "metadata": {
        "id": "IQTgyqbtud25"
      }
    },
    {
      "cell_type": "code",
      "source": [
        "correlation=df_4b.corr()\n",
        "correlation"
      ],
      "metadata": {
        "colab": {
          "base_uri": "https://localhost:8080/",
          "height": 1000
        },
        "id": "K-rD91nZudmC",
        "outputId": "942dfe4d-2907-4e56-aa9e-e97598a41962"
      },
      "execution_count": 305,
      "outputs": [
        {
          "output_type": "execute_result",
          "data": {
            "text/plain": [
              "               Num_caixas  Tempo_Entrega\n",
              "Num_caixas       1.000000       0.981812\n",
              "Tempo_Entrega    0.981812       1.000000"
            ],
            "text/html": [
              "\n",
              "  <div id=\"df-2f8e8708-326e-46fd-aa1a-43b273a6f355\" class=\"colab-df-container\">\n",
              "    <div>\n",
              "<style scoped>\n",
              "    .dataframe tbody tr th:only-of-type {\n",
              "        vertical-align: middle;\n",
              "    }\n",
              "\n",
              "    .dataframe tbody tr th {\n",
              "        vertical-align: top;\n",
              "    }\n",
              "\n",
              "    .dataframe thead th {\n",
              "        text-align: right;\n",
              "    }\n",
              "</style>\n",
              "<table border=\"1\" class=\"dataframe\">\n",
              "  <thead>\n",
              "    <tr style=\"text-align: right;\">\n",
              "      <th></th>\n",
              "      <th>Num_caixas</th>\n",
              "      <th>Tempo_Entrega</th>\n",
              "    </tr>\n",
              "  </thead>\n",
              "  <tbody>\n",
              "    <tr>\n",
              "      <th>Num_caixas</th>\n",
              "      <td>1.000000</td>\n",
              "      <td>0.981812</td>\n",
              "    </tr>\n",
              "    <tr>\n",
              "      <th>Tempo_Entrega</th>\n",
              "      <td>0.981812</td>\n",
              "      <td>1.000000</td>\n",
              "    </tr>\n",
              "  </tbody>\n",
              "</table>\n",
              "</div>\n",
              "    <div class=\"colab-df-buttons\">\n",
              "\n",
              "  <div class=\"colab-df-container\">\n",
              "    <button class=\"colab-df-convert\" onclick=\"convertToInteractive('df-2f8e8708-326e-46fd-aa1a-43b273a6f355')\"\n",
              "            title=\"Convert this dataframe to an interactive table.\"\n",
              "            style=\"display:none;\">\n",
              "\n",
              "  <svg xmlns=\"http://www.w3.org/2000/svg\" height=\"24px\" viewBox=\"0 -960 960 960\">\n",
              "    <path d=\"M120-120v-720h720v720H120Zm60-500h600v-160H180v160Zm220 220h160v-160H400v160Zm0 220h160v-160H400v160ZM180-400h160v-160H180v160Zm440 0h160v-160H620v160ZM180-180h160v-160H180v160Zm440 0h160v-160H620v160Z\"/>\n",
              "  </svg>\n",
              "    </button>\n",
              "\n",
              "  <style>\n",
              "    .colab-df-container {\n",
              "      display:flex;\n",
              "      gap: 12px;\n",
              "    }\n",
              "\n",
              "    .colab-df-convert {\n",
              "      background-color: #E8F0FE;\n",
              "      border: none;\n",
              "      border-radius: 50%;\n",
              "      cursor: pointer;\n",
              "      display: none;\n",
              "      fill: #1967D2;\n",
              "      height: 32px;\n",
              "      padding: 0 0 0 0;\n",
              "      width: 32px;\n",
              "    }\n",
              "\n",
              "    .colab-df-convert:hover {\n",
              "      background-color: #E2EBFA;\n",
              "      box-shadow: 0px 1px 2px rgba(60, 64, 67, 0.3), 0px 1px 3px 1px rgba(60, 64, 67, 0.15);\n",
              "      fill: #174EA6;\n",
              "    }\n",
              "\n",
              "    .colab-df-buttons div {\n",
              "      margin-bottom: 4px;\n",
              "    }\n",
              "\n",
              "    [theme=dark] .colab-df-convert {\n",
              "      background-color: #3B4455;\n",
              "      fill: #D2E3FC;\n",
              "    }\n",
              "\n",
              "    [theme=dark] .colab-df-convert:hover {\n",
              "      background-color: #434B5C;\n",
              "      box-shadow: 0px 1px 3px 1px rgba(0, 0, 0, 0.15);\n",
              "      filter: drop-shadow(0px 1px 2px rgba(0, 0, 0, 0.3));\n",
              "      fill: #FFFFFF;\n",
              "    }\n",
              "  </style>\n",
              "\n",
              "    <script>\n",
              "      const buttonEl =\n",
              "        document.querySelector('#df-2f8e8708-326e-46fd-aa1a-43b273a6f355 button.colab-df-convert');\n",
              "      buttonEl.style.display =\n",
              "        google.colab.kernel.accessAllowed ? 'block' : 'none';\n",
              "\n",
              "      async function convertToInteractive(key) {\n",
              "        const element = document.querySelector('#df-2f8e8708-326e-46fd-aa1a-43b273a6f355');\n",
              "        const dataTable =\n",
              "          await google.colab.kernel.invokeFunction('convertToInteractive',\n",
              "                                                    [key], {});\n",
              "        if (!dataTable) return;\n",
              "\n",
              "        const docLinkHtml = 'Like what you see? Visit the ' +\n",
              "          '<a target=\"_blank\" href=https://colab.research.google.com/notebooks/data_table.ipynb>data table notebook</a>'\n",
              "          + ' to learn more about interactive tables.';\n",
              "        element.innerHTML = '';\n",
              "        dataTable['output_type'] = 'display_data';\n",
              "        await google.colab.output.renderOutput(dataTable, element);\n",
              "        const docLink = document.createElement('div');\n",
              "        docLink.innerHTML = docLinkHtml;\n",
              "        element.appendChild(docLink);\n",
              "      }\n",
              "    </script>\n",
              "  </div>\n",
              "\n",
              "\n",
              "<div id=\"df-69e87354-29b5-4dc0-a42e-9627c8f0aec4\">\n",
              "  <button class=\"colab-df-quickchart\" onclick=\"quickchart('df-69e87354-29b5-4dc0-a42e-9627c8f0aec4')\"\n",
              "            title=\"Suggest charts.\"\n",
              "            style=\"display:none;\">\n",
              "\n",
              "<svg xmlns=\"http://www.w3.org/2000/svg\" height=\"24px\"viewBox=\"0 0 24 24\"\n",
              "     width=\"24px\">\n",
              "    <g>\n",
              "        <path d=\"M19 3H5c-1.1 0-2 .9-2 2v14c0 1.1.9 2 2 2h14c1.1 0 2-.9 2-2V5c0-1.1-.9-2-2-2zM9 17H7v-7h2v7zm4 0h-2V7h2v10zm4 0h-2v-4h2v4z\"/>\n",
              "    </g>\n",
              "</svg>\n",
              "  </button>\n",
              "\n",
              "<style>\n",
              "  .colab-df-quickchart {\n",
              "      --bg-color: #E8F0FE;\n",
              "      --fill-color: #1967D2;\n",
              "      --hover-bg-color: #E2EBFA;\n",
              "      --hover-fill-color: #174EA6;\n",
              "      --disabled-fill-color: #AAA;\n",
              "      --disabled-bg-color: #DDD;\n",
              "  }\n",
              "\n",
              "  [theme=dark] .colab-df-quickchart {\n",
              "      --bg-color: #3B4455;\n",
              "      --fill-color: #D2E3FC;\n",
              "      --hover-bg-color: #434B5C;\n",
              "      --hover-fill-color: #FFFFFF;\n",
              "      --disabled-bg-color: #3B4455;\n",
              "      --disabled-fill-color: #666;\n",
              "  }\n",
              "\n",
              "  .colab-df-quickchart {\n",
              "    background-color: var(--bg-color);\n",
              "    border: none;\n",
              "    border-radius: 50%;\n",
              "    cursor: pointer;\n",
              "    display: none;\n",
              "    fill: var(--fill-color);\n",
              "    height: 32px;\n",
              "    padding: 0;\n",
              "    width: 32px;\n",
              "  }\n",
              "\n",
              "  .colab-df-quickchart:hover {\n",
              "    background-color: var(--hover-bg-color);\n",
              "    box-shadow: 0 1px 2px rgba(60, 64, 67, 0.3), 0 1px 3px 1px rgba(60, 64, 67, 0.15);\n",
              "    fill: var(--button-hover-fill-color);\n",
              "  }\n",
              "\n",
              "  .colab-df-quickchart-complete:disabled,\n",
              "  .colab-df-quickchart-complete:disabled:hover {\n",
              "    background-color: var(--disabled-bg-color);\n",
              "    fill: var(--disabled-fill-color);\n",
              "    box-shadow: none;\n",
              "  }\n",
              "\n",
              "  .colab-df-spinner {\n",
              "    border: 2px solid var(--fill-color);\n",
              "    border-color: transparent;\n",
              "    border-bottom-color: var(--fill-color);\n",
              "    animation:\n",
              "      spin 1s steps(1) infinite;\n",
              "  }\n",
              "\n",
              "  @keyframes spin {\n",
              "    0% {\n",
              "      border-color: transparent;\n",
              "      border-bottom-color: var(--fill-color);\n",
              "      border-left-color: var(--fill-color);\n",
              "    }\n",
              "    20% {\n",
              "      border-color: transparent;\n",
              "      border-left-color: var(--fill-color);\n",
              "      border-top-color: var(--fill-color);\n",
              "    }\n",
              "    30% {\n",
              "      border-color: transparent;\n",
              "      border-left-color: var(--fill-color);\n",
              "      border-top-color: var(--fill-color);\n",
              "      border-right-color: var(--fill-color);\n",
              "    }\n",
              "    40% {\n",
              "      border-color: transparent;\n",
              "      border-right-color: var(--fill-color);\n",
              "      border-top-color: var(--fill-color);\n",
              "    }\n",
              "    60% {\n",
              "      border-color: transparent;\n",
              "      border-right-color: var(--fill-color);\n",
              "    }\n",
              "    80% {\n",
              "      border-color: transparent;\n",
              "      border-right-color: var(--fill-color);\n",
              "      border-bottom-color: var(--fill-color);\n",
              "    }\n",
              "    90% {\n",
              "      border-color: transparent;\n",
              "      border-bottom-color: var(--fill-color);\n",
              "    }\n",
              "  }\n",
              "</style>\n",
              "\n",
              "  <script>\n",
              "    async function quickchart(key) {\n",
              "      const quickchartButtonEl =\n",
              "        document.querySelector('#' + key + ' button');\n",
              "      quickchartButtonEl.disabled = true;  // To prevent multiple clicks.\n",
              "      quickchartButtonEl.classList.add('colab-df-spinner');\n",
              "      try {\n",
              "        const charts = await google.colab.kernel.invokeFunction(\n",
              "            'suggestCharts', [key], {});\n",
              "      } catch (error) {\n",
              "        console.error('Error during call to suggestCharts:', error);\n",
              "      }\n",
              "      quickchartButtonEl.classList.remove('colab-df-spinner');\n",
              "      quickchartButtonEl.classList.add('colab-df-quickchart-complete');\n",
              "    }\n",
              "    (() => {\n",
              "      let quickchartButtonEl =\n",
              "        document.querySelector('#df-69e87354-29b5-4dc0-a42e-9627c8f0aec4 button');\n",
              "      quickchartButtonEl.style.display =\n",
              "        google.colab.kernel.accessAllowed ? 'block' : 'none';\n",
              "    })();\n",
              "  </script>\n",
              "</div>\n",
              "    </div>\n",
              "  </div>\n"
            ]
          },
          "metadata": {},
          "execution_count": 305
        },
        {
          "output_type": "display_data",
          "data": {
            "text/plain": [
              "<google.colab._quickchart_helpers.SectionTitle at 0x785be9f43e20>"
            ],
            "text/html": [
              "<h4 class=\"colab-quickchart-section-title\">Values</h4>\n",
              "<style>\n",
              "  .colab-quickchart-section-title {\n",
              "      clear: both;\n",
              "  }\n",
              "</style>"
            ]
          },
          "metadata": {}
        },
        {
          "output_type": "display_data",
          "data": {
            "text/plain": [
              "import numpy as np\n",
              "from google.colab import autoviz\n",
              "\n",
              "def value_plot(df, y, figscale=1):\n",
              "  from matplotlib import pyplot as plt\n",
              "  df[y].plot(kind='line', figsize=(8 * figscale, 4 * figscale), title=y)\n",
              "  plt.gca().spines[['top', 'right']].set_visible(False)\n",
              "  plt.tight_layout()\n",
              "  return autoviz.MplChart.from_current_mpl_state()\n",
              "\n",
              "chart = value_plot(correlation, *['Num_caixas'], **{})\n",
              "chart"
            ],
            "text/html": [
              "      <div class=\"colab-quickchart-chart-with-code\" id=\"chart-22321805-cb21-4a73-b2a6-615148fa5c2a\">\n",
              "        <img src=\"data:image/png;base64,iVBORw0KGgoAAAANSUhEUgAAAYwAAADECAYAAACMRRb/AAAAOXRFWHRTb2Z0d2FyZQBNYXRwbG90\n",
              "bGliIHZlcnNpb24zLjcuMSwgaHR0cHM6Ly9tYXRwbG90bGliLm9yZy/bCgiHAAAACXBIWXMAAA9h\n",
              "AAAPYQGoP6dpAAAov0lEQVR4nO3deXhU9d338fdMJpNtSEL2fdiSAAFkz7AEJAGjAkEjIJAJN4+l\n",
              "QkVAe9sHKIXbtlpQa61oUcHWtiYY1ptVwIVVYELYZRUITEISyL6Sfc7zR+xUnrokQJgs39d1eV3O\n",
              "75w58z3RK5+c3znf+akURVEQQgghfoLa1gUIIYRoHSQwhBBCNIoEhhBCiEaRwBBCCNEoEhhCCCEa\n",
              "RQJDCCFEo0hgCCGEaBQJDCGEEI0igSGEEKJRJDCEEEI0igSGEC3czJkz+ctf/mLrMoRAJd8lJdqS\n",
              "xMREjh49ynvvvUd0dLR1/KWXXkKj0bB8+XIbVidE6yZXGKLN6dixI6+99ho1NTW2LkWINkUCQ7Q5\n",
              "Tz75JBaLhY8//vh7t0dHR7N+/fo7xsLDwzl8+DAAqamphIeH8+mnnxIbG8tDDz3E7NmzKS0t5c9/\n",
              "/jPDhw8nMjKSFStWNLqmffv2MXnyZAYNGkRkZCTz5s2zbluyZAnR0dH069eP6OhoVqxYgcVisW5P\n",
              "TEzkrbfestbWt29fzpw5A4CiKDz77LPMnj0bRVGorq5m3rx5REVF0a9fP2JjY0lOTrYeS1EU3n77\n",
              "bUaMGEG/fv0YMWIEf/rTnxp9HqJ909i6ACHuN61Wy4IFC1iwYAFPPPEEnp6ed3Wcffv2sXHjRqqr\n",
              "q5k2bRqTJk0iMTGRffv2cfbsWaZNm2b9xfxjDh06xLx583jttdeIiYlBURROnDhh3d6nTx/mz5+P\n",
              "p6cnp0+fZtasWfj4+DBlypT/OFZkZCTPP/888+fPZ9OmTSQnJ5Oens6mTZtQqVQoisLIkSN55ZVX\n",
              "0Ol0HDhwgOeff56QkBCioqI4fPgwGzduJCUlhYCAAIqLi7l27dpd/XxE+yNXGKJNGj16NL169bqn\n",
              "v55ffPFFdDodnp6ejBw5EgCj0YhGo6Fv37507drV+pf+j/nnP//JxIkTeeyxx9BqtTg4ODBkyBDr\n",
              "9kmTJuHl5YVKpaJv376MHz+eQ4cO/eDxZs6cSe/evZkxYwZ//etfeeedd3B1dQXA0dGRp556CldX\n",
              "V9RqNQ8//DBRUVHW49nb21NdXc3ly5epqqrC3d39JwNPiH+RKwzRZi1evJj4+HgSEhLu6v3e3t7W\n",
              "f3dycsLHx+eO7U5OTlRUVPzkcW7cuMHw4cO/d5uiKLz//vts376d3Nxc67RS7969f/SYM2bMYOrU\n",
              "qYwbN44ePXpYx2tqanjrrbfYs2cP+fn5qFQqqqqq0Ol0AAwePJhf/epXrF69mhdffJEePXrw3HPP\n",
              "MWzYsJ88DyHkCkO0WWFhYUyaNIlXX331jnEXFxdu375tfX3r1q1mrSMwMJDr169/77YdO3bwj3/8\n",
              "g9deew2TycSxY8d4+umn+bGHF8vKyli4cCETJ05k79697Nmzx7rto48+Ys+ePbz33nukpaVx7Ngx\n",
              "oqKi7jjexIkTSUpKwmQyMXr0aGbPnk15efl9O1/RdklgiDZt3rx5XL58ma+++so61qtXL3bs2EFp\n",
              "aSnl5eW8+eabzVrD9OnT2bBhA7t376ampobq6mqOHDkCNPzy12g0eHp6olKpMJlMbNu27QePpSgK\n",
              "CxYsoHPnzrzyyiv87ne/Y8GCBWRmZlqPp9Vq8fDwwGKxsHPnzjumt86cOUNaWhpVVVXY29vj4uKC\n",
              "SqXCzs6uWX8Gom2QwBBtWseOHXn++ecpKiqyjr3wwgvodDpGjhxJfHw8Y8aMadYahg8fzptvvsmq\n",
              "VasYMmQII0aMICUlBYD4+HgMBgPjx4/HYDCQkpLC+PHjf/BYq1ev5tKlS7z++uuoVCrGjRtHXFwc\n",
              "c+fOpaqqimeeeQZ/f39GjRpFVFQUR44cYfTo0db3V1RUsGzZMoYMGcLAgQNZu3Yt7777Lk5OTs36\n",
              "MxBtgzTuCSGEaBS5whBCCNEo8pSUEPfo/fff54MPPvjebS+99NJdP6UlREsjU1JCCCEaRaakhBBC\n",
              "NIoEhhBCiEaRwBBCCNEobS4w/vGPf9i6BCGEaJPaXGBkZ2fbugQhhGiT2lxgCCGEaB5NCoxXXnmF\n",
              "6OhowsPDuXDhwg/ut379eh555BFGjx7Nb37zG2pra+95mxBCCNtqUmDExsayZs0aAgMDf3CfzMxM\n",
              "3n77bZKTk/n888/Jz89n3bp197RNCCGE7TUpMAYNGoSfn9+P7rN7926io6Px9vZGpVIxdepUtm/f\n",
              "fk/bmpuiKOz8OocD3+RhsUgfoxBCfJ/7/tUgOTk5d1yBBAYGkpOTc0/bmlt6fgW/SG5YMjPEw5lp\n",
              "kSFMHhiMh4v2gXy+EEK0BnLTG+jk6cKcUV3p4Kgho/A2y3dexPCHL3kh5STHrhf+6GI2QgjRXtz3\n",
              "Kwx/f38yMjKsr7OysvD397+nbc3NTq3iV7HdmTOqG9tOZ5NkyuDrrBI2n8pm86lsuvt1IMGg58l+\n",
              "gegc5PsahRDt032/woiNjWXPnj3k5eWhKAqffPIJY8eOvadtD4qzVsPTg0LYNnc4W+YMY9KAIBw0\n",
              "ai7eLGPJ5rNEvvoFi//3ay7klD7QuoQQoiVo0rfVLl26lH379pGfn4+7uzsuLi58/vnnLF68mOjo\n",
              "aGJiYgBYt24dq1atAhoWnf/tb3+Lvb39PW1rrGXLlrFo0aImvefHlNyuZcOJGySnmknPq7COD9B3\n",
              "xGgI4bFe/jjay/KWQoi2r819vfn9Dox/URSFI+kFJJsy2H3uJnXfPk3V0dmeSQODSYgMQe/pct8/\n",
              "VwghWgqZkG8klUrF0K5eDO3qRW5pFWvTMvnkaAbZJVWsOpDOqgPpRIV6YTToienug8ZOnicQQrQt\n",
              "Ehh3wcfVkbkxofzi4a7svZRHksnMgct5HLycz8HL+fi7OTJlUAhTBgfj6+po63KFEOK+kMC4Bxo7\n",
              "NWN6+jKmpy8ZBbdJPmpm/bEb5JRU8dYX37Biz2Ue6emL0aBnaFdPVCqVrUsWQoi7Jvcw7rPqunp2\n",
              "fn2TJJOZY+Yi63gXLxemRYYwcUAQ7s7SECiEaH0kMJrRxZulJJsy+N+TWZRX1wHgoFEzrk8ARkMI\n",
              "fYPd5apDCNFqSGA8AOXVdWw5lUWSKeOOHo6IAFeMBj0T+gbgrJXZQSFEyyaB8QApisKJjGKSTWa2\n",
              "f51DTZ0FgA4OGuL7B5Jg0BPm28HGVQohxPeTwLCRoooa1h/PJDk1A3PBbev44M4eGA16Ho3wQ6uR\n",
              "R3OFEC2HzIPYSEcXLc+O6MrM4V346ko+yalmvriQy9FrhRy9VoiXTsvkgcFMHRxCsIezrcsVQggJ\n",
              "DFtTq1WMCPNmRJg3OSWVpBzNJCUtg1ul1azcd5X39l/l4TBvjAY9D4f7YKeWm+RCCNuQwGhB/N2c\n",
              "eHFMGM9Hd+PLC7dIMmXw1ZV89l7KY++lPALdnaxrdXh3cLB1uUKIdkbuYbRw6XnlrEnNYP3xG5RU\n",
              "Nqxxbm+nIjbCD6NBT2RnD3k0VwjxQEhgtBJVtfVsP5NDcqqZkxnF1vFQHx0JkSE82T8IN6emfbOv\n",
              "EEI0hQRGK3Q2q4Tk1Ay2nMridk09AE72dsQ9FIDRoKd3kJuNKxRCtEUSGK1YaVUtm09mkWQy882t\n",
              "cuv4Q0FuJBj0jO8TgJNW1uoQQtwfEhhtgKIopF0vIslkZufZHGrrG/6TujpqmDggmARDCF29dTau\n",
              "UgjR2slTUm2ASqVicGcPBnf2IL+8J+uOZbImNYMbRZX87dA1/nboGkO7emI06BnT0xd7WatDCHEX\n",
              "JDDaGC+dA8893I3ZI7qy/3IeySYzey7mcvhqAYevFuDdwYEpgxoaAgPcnWxdrhCiFZHAaKPUahWj\n",
              "wn0YFe7DjaLb3zYEZpJXVs07e67wl71XiO7ui9EQwohQb9TSECiE+AlyD6Mdqamz8Nn5hrU6TOmF\n",
              "1vEQD2emRYYwaUAQnjppCBRCfD8JjHbqSm4ZSaYMNp64QVlVw1odWjs1j/duaAgcoO8oDYFCiDtI\n",
              "YLRzt2vq2HY6myRTBl9nlVjHu/t1IMGg54m+AXRwlIZAIYQEhviOMzeKSTKZ2Xo6m6rahrU6XLR2\n",
              "TOgXiDFST88AVxtXKISwJQkM8R9Kbtey8cQNklPNXM2rsI73D3HHaNDzeG9/HO2lIVCI9kYCQ/wg\n",
              "RVE4kl5AsimD3eduUmdp+F+lo7M9kwYGM21wCJ28XGxcpRDiQWnyY7XXr19n4cKFFBUVodPpWL58\n",
              "OaGhoXfsY7FYeOONNzh48CB1dXX079+fl19+Ga1WC8CHH37I5s2bsVgsdO7cmWXLluHq2jDdER4e\n",
              "TlhYGGp1Q3PZkiVLGDhw4L2ep7gLKpWKoV29GNrVi9zSKtamZfLJ0QyyS6pYdSCdVQfSiQr1wmjQ\n",
              "E9PdB400BArRpjX5CmP69Ok88cQTxMfHs2vXLlavXs3GjRvv2GfdunVs376dDz/8EHt7e5YsWUKn\n",
              "Tp2YOXMmhw4d4tVXX2XdunXodDpWrlxJXl4e//M//wM0BEZaWpo1QJpKrjCaV71FYe/FXJJSzez/\n",
              "Jo9//d/j5+rIlMENDYG+ro62LVII0Sya9CdhQUEBZ8+eJS4uDoDY2Fhu3ryJ2Wy+Y7+LFy8ydOhQ\n",
              "tFotKpWKESNGsGXLFuu2AQMGoNM1fLfRyJEjrdtEy2enVjG6py9//z+D2f/SKGaP7IqHi5abpVX8\n",
              "+YvLDF2+h9kfH+ery/lYLG1qtlOIdq9JgZGTk4O3tzcaTcNMlkqlwt/fn+zs7Dv2i4iIYM+ePZSX\n",
              "l1NbW8vOnTvJysqybjt8+DB5eXkoisK2bduoqKiguLjY+v4ZM2YQFxfHsmXLuH379j2eomguIZ7O\n",
              "LHysO0cWRfP2lL4M6tSReovCrnM3Mf41lZg/7efDg+kU366xdalCiPugWSad4+PjiYqKwmg0kpiY\n",
              "SKdOnawhYzAYeOaZZ5g1axaTJ0/Gw8MDwLp97969bNq0iZSUFAoLC3n99debo0RxHzlo7JjQN5D1\n",
              "s4ey64UoEg16dA4aruVX8MqOC0T+4Uv+e91pTmYU0caesRCiXWnSTW9/f3/y8vKoq6tDo9GgKAo5\n",
              "OTkEBATcsZ9KpWLu3LnMnTsXgB07dtCtWzfr9oSEBBISEgA4deoUfn5+1imqfx3L2dmZadOmsXTp\n",
              "0rs/O/HAdfdz5fdP9GLhY93ZciqbJJOZ8zmlbDxxg40nbhAR4IrRoGdC3wCctfJVZkK0Jk26wvD0\n",
              "9CQiIoKtW7cCsHv3bnx9fdHr9XfsV11dTUlJQ9dwYWEhq1atYubMmdbtubm5AFRWVrJixQrrtpKS\n",
              "EiorK4GGJ60+/fRTevTocZenJmzJxUHDtMgQdswbzqbnhhLfPxCtRs257FIWbfqayFe/ZOmWs3xz\n",
              "q8zWpQohGqnJT0mlp6ezaNEiiouLcXFxYdmyZYSHh7N48WKio6OJiYkhPz+fxMRE1Go1FouF6dOn\n",
              "M3XqVOsxxo8fj8Vioba2lri4OObMmYNKpeLkyZMsXboUlUpFfX09PXv2ZPHixbi7uze6PnlKquUq\n",
              "qqhhw/GGhsDrBf++NzW4kwcJhhAe7eWHg0YaAoVoqaRxTzxwFovCoav5JJnMfHEhl/pvn6bydNEy\n",
              "eVBDQ2Cwh7ONqxRC/P9kElk8cGq1iqhQb6JCvblZUsUnRzNIScvgVmk17+27yvv7r/JwmDdGg56H\n",
              "w32wk7U6hGgRJDCETfm5OfLimDCej+7GlxdySU41c/ByPnsv5bH3Uh6B7k5MHRzM5EHB+HSQhkAh\n",
              "bEmmpESLcy2/gjWpZtYfv0Hx7VoANGoVsb38MEbqMXTxkLU6hLABCQzRYlXV1rPjTA5JqWZOZhRb\n",
              "x7v56EiIDCG+fxBuTrJWhxAPigSGaBXOZZeQZMpgy6ksbtfUA+Bkb0fcQwEYDXp6B7nZuEIh2j4J\n",
              "DNGqlFXVsvlkFkmmDC59p4fjoSA3EiL1jH8oACetPJorRHOQwBCtkqIoHDMXkWQys/Prm9TUN6wQ\n",
              "6Oqo4akBQSRE6unmo7NxlUK0LRIYotUrKK9m3bEbrDlqJrOw0jo+pIsnRoOeRyJ8sZe1OoS4Z/JY\n",
              "rWj1PHUO/OLhrswa0YX9l/NINpnZczGXI+kFHEkvwLuDA1MGNazVEeDuZOtyhWi1JDBEm6FWqxgV\n",
              "7sOocB+yiitJOZpBSlomeWXVvLPnCn/Ze4Xo7r4YDSGMCPVGLQ2BQjSJTEmJNq223sJn526RZDJz\n",
              "JL3AOh7i4cy0yBAmDQjCU+dgwwqFaD0kMES7cSW3nORUMxuO36Csqg4ArZ2ax3r7YTToGajvKA2B\n",
              "QvwICQzR7lTW1LPtdDZJqWbO3Cixjof7dsBoCOGJfoF0cJSGQCH+fxIYol07c6OYZFMGW05nUVXb\n",
              "8Giui9aOCf0CMUbq6RngauMKhWg5JDCEAEoqa9l04gZJJjNX8yqs4/1D3DEa9Dze2x9He2kIFO2b\n",
              "BIYQ36EoCqb0QpJSzew+e5O6b9fqcHe2Z9K3DYGdvFxsXKUQtiGP1QrxHSqViiFdPRnS1ZPcsirW\n",
              "pWXyydFMsoorWX3wGqsPXiMq1IuESD2je/igkYZA0Y5IYAjxA3w6OPJ8dCi/eLgbey/mkpRqZv83\n",
              "eRy8nM/By/n4uToyZXAwUwaF4Ocma3WItk8CQ4ifYKdWMbqnL6N7+pJZeJvk1AzWH8vkZmkVf/7i\n",
              "Mu/sucKYHr4YDXqGdvWUhkDRZsk9DCHuQnVdPbvO3iTZlMHR64XW8c5eLiREhvBU/yA6umhtWKEQ\n",
              "958EhhD36NLNMpJTzWw6kUV59bcNgRo14/r4YzTo6RfsLg2Bok2QwBDiPqmormPLqWySTGbO55Ra\n",
              "x3v6u2I06JnQNwAXB5kFFq2XBIYQ95miKJzMbGgI3H4mm+q6hoZAnYOG+P6BGA16wnw72LhKIZpO\n",
              "AkOIZlR8u4YNx2+QnJrBtfx/NwQO7uRBgiGER3v54aCRhkDROsj1sRDNyN1Zy8yoLjwzrDOHrxaQ\n",
              "ZDLz+YVbHL1eyNHrhXi6aJk0MJiEyBCCPZxtXa4QP6rJgXH9+nUWLlxIUVEROp2O5cuXExoaesc+\n",
              "FouFN954g4MHD1JXV0f//v15+eWX0Wobnhr58MMP2bx5MxaLhc6dO7Ns2TJcXRu+s+f06dMsWbKE\n",
              "6upqfH19eeONN/D19b0PpyqE7ajVKoaHejE81IubJVWkpGWQcrTh0dz391/lgwNXGRnmjTFSz6ju\n",
              "PtjJo7miBWpym+rSpUuZPHkyu3fv5uc//zkLFy78j302bNjAuXPn2LRpEzt37kStVvPPf/4TgEOH\n",
              "DrFp0yZSUlL49NNPiYiI4K233gIaguall17i17/+Nbt372bkyJG8+uqr93iKQrQsfm6OvDA6jK8W\n",
              "jOJ94wCiQr1QFNh3KY+Z/zzGiNf38u6ey+SWVdm6VCHu0KTAKCgo4OzZs8TFxQEQGxvLzZs3MZvN\n",
              "d+x38eJFhg4dilarRaVSMWLECLZs2WLdNmDAAHQ6HQAjR460bjt79ix2dnYYDAYAnn76afbu3Ut1\n",
              "dfW9naUQLZDGTs2jvfz4+GeR7HvpYZ4d0QV3Z3uyiiv542ffMHTZHuasOcGRqwW0sVuNopVqUmDk\n",
              "5OTg7e2NRtMwk6VSqfD39yc7O/uO/SIiItizZw/l5eXU1tayc+dOsrKyrNsOHz5MXl4eiqKwbds2\n",
              "KioqKC4uJicnh8DAQOtxdDodOp2O3Nzcez1PIVq0Tl4u/PrxHpgWxfCnyQ/RP8SdOovCjjM5TF1t\n",
              "YvSf9vO3r65RUllr61JFO9YsN73j4+PJzs7GaDTi6OjIkCFDOHToEAAGg4FnnnmGWbNmYWdnx5gx\n",
              "YxoK0cj9dyEc7e2I7x9EfP8gzmeXkpRqZvPJLK7mVfC77ed5ffdF4h4KwGjQ0yfI3dblinamSb+l\n",
              "/f39ycvLo66uDo1Gg6Io5OTkEBAQcMd+KpWKuXPnMnfuXAB27NhBt27drNsTEhJISEgA4NSpU/j5\n",
              "+aHT6fD397deiQCUl5dTVlaGj4/PXZ+gEK1VzwBX/vBkbxY91p3NJ7NIMmVw6VYZ647dYN2xG/QJ\n",
              "csMYqWf8QwE4aeXRXNH8mjQl5enpSUREBFu3bgVg9+7d+Pr6otfr79ivurqakpKGpS8LCwtZtWoV\n",
              "M2fOtG7/1xRTZWUlK1assG7r1asXdXV1mEwmANauXUt0dDQODg53eXpCtH4dHO1JHNKJXS9EsWH2\n",
              "ECb0DUBrp+bMjRL+78YzRP7hC3677RxXcsttXapo45rcuJeens6iRYsoLi7GxcWFZcuWER4ezuLF\n",
              "i4mOjiYmJob8/HwSExNRq9VYLBamT5/O1KlTrccYP348FouF2tpa4uLimDNnjvW7dk6ePMnSpUup\n",
              "qanBx8eH119/HX9//0bXJ417oj0oKK9m/fEbJKeaySystI4P6eKJ0aDnkQhf7GWtDnGfSae3EK2Y\n",
              "xaJw4HIeSaYM9ly8xbcLBOLdwYGnBwYzNTKEQHcn2xYp2gy50yxEK6ZWq3g43IeHw33IKq4k5WgG\n",
              "KWmZ5JVV8+7eK6zcd4Xo7j4kGPSMDPWWtTrEPZErDCHamNp6C5+du0WSycyR9ALreLCHE9MG65k8\n",
              "MAhPndwXFE0ngSFEG3Ylt5w1qRlsOJ5JadW3a3XYqXmstx9Gg56B+o6yVodoNAkMIdqBypp6tp3J\n",
              "Jtlk5vSNEut4uG8HEgwhPNkvkA6O9jasULQGEhhCtDNf3yghyWRmy+ksqmob1upw1toxoW8gRkMI\n",
              "EQFuNq5QtFQSGEK0UyWVtWw60bBWx3d7OPqFuGOM1DO2jz+O9tIQKP5NAkOIdk5RFFKvFZJkMrP7\n",
              "3E1q6xt+Jbg72zNpQBDTIvV09nKxcZWiJZDHaoVo51QqFYYunhi6eJJXVs26Y5msSc0gq7iS1Qev\n",
              "sfrgNaJCvUiI1DO6hw8aaQhstyQwhBBW3h0cmDOqG7NHdmXfpVySTGb2fZPHwcv5HLycj5+rI1MG\n",
              "BzNlUAh+bo62Llc8YBIYQoj/YKdWEdPDl5gevmQW3mbN0QzWpTWsEPjnLy7zzp4rjO7hg9GgZ1hX\n",
              "L2kIbCfkHoYQolGq6+rZ/W1D4NFrhdbxTp7OJETqmTggiI4uWhtWKJqbBIYQosm+uVVGssnMphNZ\n",
              "lFV/2xCoUTOujz9Gg55+we7SENgGSWAIIe5aRXUdW09nk2Qycy671Dre09+VBEMIT/QNxMVBZr7b\n",
              "CgkMIcQ9UxSFU5nFJJky2H4mm+q6hoZAnYOGJ/sFYjToCffrYOMqxb2SwBBC3FfFt2vYcLyhIfBa\n",
              "foV1fFCnjhgNeh7t5YeDRhoCWyO5VhRC3FfuzlpmRnXhmWGdOXy1gORUM5+dv0Xa9SLSrhfh6aJl\n",
              "0sBgEiJDCPZwtnW5ogkkMIQQzUKtVjE81IvhoV7cKq0i5WgmnxzN4GZpFe/vv8oHB64yMsybhEg9\n",
              "0d19sJNHc1s8CQwhRLPzdXVk/uhQ5ozqypcXGxoCD17OZ9+lPPZdyiPAzZGpg0N4enAwPh2kIbCl\n",
              "knsYQgibuJ5fwZqjGaw/lknR7VoANGoVsRF+JBhCGNLFUx7NbWEkMIQQNlVVW8/OszkkmTI4bi6y\n",
              "jnf1diEhUs9TA4Jwc5K1OloCCQwhRItxPruU5FQzm09mUVFTD4CjvZq4hwIwGvT0CXK3bYHtnASG\n",
              "EKLFKa+u439PZpFsMnPxZpl1vE+QG8ZIPeMfCsBJK4/mPmgSGEKIFktRFI6bi0gymfn065vU1Dc0\n",
              "BHZw1PBU/yCMhhC6+UhD4IMigSGEaBUKyqutDYEZhbet44YuHhgNeh7p6YdWI2t1NCd5rFYI0Sp4\n",
              "6hyYNbIrP4/qwsEr+SSZzHx54Ram9EJM6YV46RyYMiiYqZEhBLo72brcNqnJgXH9+nUWLlxIUVER\n",
              "Op2O5cuXExoaesc+FouFN954g4MHD1JXV0f//v15+eWX0Wobvvp41apVbN68GXt7exwcHPjNb35D\n",
              "nz59AAgPDycsLAy1uuEvhSVLljBw4MB7PU8hRBuhVqsYGebNyDBvsosrSTmawSdpmeSVVfPu3ius\n",
              "3HeF6O4+JBj0jAj1lobA+6jJU1LTp0/niSeeID4+nl27drF69Wo2btx4xz7r1q1j+/btfPjhh9jb\n",
              "27NkyRI6derEzJkzuXDhAs899xzbt2/HxcWFLVu28PHHH7NhwwagITDS0tJwdXW9qxOSKSkh2p/a\n",
              "egufn29Yq+Pw1QLreFBHJ6ZFhjB5YDBeOgcbVtg2NGnCr6CggLNnzxIXFwdAbGwsN2/exGw237Hf\n",
              "xYsXGTp0KFqtFpVKxYgRI9iyZQvQsH5wbW0tlZWVAJSVleHn53c/zkUI0U7Z26l5vLc/a35u4Mv/\n",
              "HsnPhnfGzcmeG0WVvL7rEkOX7WHeJyc5eq2QNnbb9oFq0pRUTk4O3t7eaDQNb1OpVPj7+5OdnY1e\n",
              "r7fuFxERwdq1azEajTg4OLBz506ysrIA6N69OzNmzCAmJgY3Nze0Wi3Jycl3fM6MGTOoq6tjyJAh\n",
              "zJ8/H2dn+YIyIUTjdPXWsWRcT34VG86209kkpWZwOrOYraez2Xo6m3DfDiQYQniyXyAdHKUhsCma\n",
              "5ZGC+Ph4oqKiMBqNJCYm0qlTJ2vIZGZm8vnnn/PZZ59x4MABZsyYwQsvvGB97969e9m0aRMpKSkU\n",
              "Fhby+uuvN0eJQog2ztHejkkDg9kyZxjbnh/OlEHBONnbcelWGUu3nCPyD1+yaNPXnMsusXWprUaT\n",
              "AsPf35+8vDzq6hqWZFQUhZycHAICAu7YT6VSMXfuXDZv3kxKSgrdunWjW7duAHz22WeEhYXh6+sL\n",
              "NITLiRMnqKmpAbAey9nZmWnTpnH8+PF7O0MhRLvXO8iN5U/1wfTrGF4e35NuPjpu19TzydEMxq74\n",
              "iidXHmLj8RtU1dbbutQWrUmB4enpSUREBFu3bgVg9+7d+Pr63jEdBVBdXU1JSUNqFxYWsmrVKmbO\n",
              "nAlAcHAwJ06coKKiYWGVffv20alTJ7RaLSUlJdZ7GxaLhU8//ZQePXrc2xkKIcS33JzsmTGsM5+/\n",
              "OIKUZw2M6+OPvZ2KkxnF/Pf60xiWfckr28/fsfCT+LcmP1b729/+lkWLFvHBBx/g4uLCsmXLAFi8\n",
              "eDHR0dHExMRQVlZGYmIiarUai8XC9OnTiY6OBmDMmDF8/fXXPPXUU2i1WpydnXnzzTcBSE9PZ+nS\n",
              "pahUKurr6+nZsyeLFy++j6crhBANsyCGLp4YuniSV1bNumOZrEnNIKu4kg+/usaHX11jeDcvjIYQ\n",
              "RvfwRWMnDYEgnd5CCAFAvUVh/ze5JJky2Hspl3/9ZvR1dWDKoBCmDg7Bz619r9Uhnd5CCAHYqVVE\n",
              "d/clursvmYW3+eRoBuuOZXKrtJq3v7zMu3uvMLqHD0aDnmFdvVC3w4ZAucIQQogfUFNnYde5mySZ\n",
              "zBy9Vmgd7+TpzLTIECYNCKaji9aGFT5YEhhCCNEI39wqI9lkZtOJLMqqG54U1WrUjOvtT4JBT/8Q\n",
              "9za/QqAEhhBCNMHtmjq2nsomKdXM2axS63gPf1eMhhCe6BuIi0PbnO2XwBBCiLugKAqnb5SQZDKz\n",
              "7XQ21XUNa3XoHDQ82S8Qo0FPuF/bWqtDAkMIIe5R8e0aNhy/wZrUDNK/08MxqFNHjAY9j/byw0HT\n",
              "+lcIbJvXTUII8QC5O2uZGdWFnw3vzOGrBSSZzHx2/hZp14tIu16Eh4uWSQODSBisJ8Sz9X43ngSG\n",
              "EELcJyqVimHdvBjWzYtbpVWsTcvkk6MZ5JRU8cH+dFYdSGdEqDdGg57o7j6tbq0OCQwhhGgGvq6O\n",
              "zIsJ5bmHu7LnYi5JqRkc+CaP/d/+E+DmyNTBITw9OBifDq2jIVDuYQghxANiLqhgTWpDQ2DR7VoA\n",
              "NGoVsRF+JBhCGNLFs0U/miuBIYQQD1hVbT07z+aQZMrguLnIOt7F24WESD0T+wfh5tzy1uqQwBBC\n",
              "CBu6kFNKksnM5pNZVNQ0fL26o72a8X0CMBr0PBTsbtsCv0MCQwghWoDy6jo2n8wiyWTm4s0y63jv\n",
              "QDeMhhDiHgrESWvbR3MlMIQQogVRFIUTGUUkmTLYcSaHmvqGhsAOjhqe6h+E0RBCNx/bNARKYAgh\n",
              "RAtVWFHD+mOZJKdmkFF42zpu6OJBQqSe2Ag/tJoHt1aHPFYrhBAtlIeLllkju/LzqC4cvJJPksnM\n",
              "lxduYUovxJReiJfOgacHBTF1cAhBHZu/IVACQwghWji1WsXIMG9GhnmTXVxJSlomKUczyC2r5i97\n",
              "r/Levqv89yPhzBnVrXnraNajCyGEuK8C3J345ZgwDi2M5r2E/gzr5olFgfM5pT/95nskVxhCCNEK\n",
              "2dupeay3P4/19qewogYXh+Z/gkoCQwghWjmPB7Tqn0xJCSGEaBQJDCGEEI0igSGEEKJR2lzj3pw5\n",
              "cwgKCrJ1GUII0WoEBATwX//1Xz+5X5sLDCGEEM1DpqSEEEI0igSGEEKIRpHAEEII0SgSGEIIIRpF\n",
              "AkMIIUSjSGAIIYRoFAkMIYQQjSKBIYQQolEkMIQQQjRKiwmM6OhoHn30Uerq6qxj8fHxpKam2rCq\n",
              "HzZhwgTKy8ttXYYQQjwwLSYwAGpqatiwYYOty2iULVu2oNPpbF2GEEI8MC0qMObOncvKlSuprKy8\n",
              "Y3zhwoX8/e9/t75+7bXXeOeddwB45513mD9/PrNnzyY2NpZZs2bxzTff8LOf/YzY2Fh++ctfYrFY\n",
              "fvRzT548ydSpU4mLi2P8+PF88cUX1s956qmnmDBhAgkJCaSnp1vfEx4eTmlpKYWFhURHR3Pq1CkA\n",
              "du3aRVxcHFVVVeTl5ZGYmEh8fDxjx47ld7/7nbWWU6dOER8fz4QJExg3bhxr1qy51x+fEEI0L6WF\n",
              "GDVqlHL+/HnlpZdeUlauXKkoiqI8+eSTislkUhYsWKB89NFH1n2XL1+urFixQlEURVmxYoUSHR2t\n",
              "FBcXKxaLRUlISFAmTZqklJWVKbW1tUpcXJyyd+/eH/zcoqIiZciQIUpaWpqiKIpSX1+vFBUVKYqi\n",
              "KAUFBdb9tm/frjzzzDPW12FhYUpJSYmiKIqSlpamxMTEKKdPn1aioqKU9PR0RVEUpaqqSikvL1cU\n",
              "RVHq6uqUZ599Vtm+fbuiKIoye/ZsZdu2bdbjFRcX382PTQghHpgWt0Tr/PnzmTRpElOmTGn0e4YN\n",
              "G4abmxsAPXv2RKvVWqeLevbsyfXr13/wvadOnaJz584MHDgQALVajbu7OwCHDh0iKSmJiooKLBYL\n",
              "JSUl33uMgQMHMnHiRKZMmcJrr71G586dAbBYLPzxj3/k+PHjKIpCYWEhoaGhjB07lsjISFauXMn1\n",
              "69cxGAzWzxdCiJaqxQVGUFAQ48aN47333rOO2dnZ3TGtVF1djbOzs/W1g4PDHft+97Varaa+vr7J\n",
              "dWRnZ/P73/+eDRs2EBISwsWLFzEajT+4//nz5/Hw8CAnJ8c69tFHH1FQUMD69etxcHBg2bJlVFdX\n",
              "AzBjxgxiYmI4cuQIb731FqGhobz88stNrlMIIR6UFnUP419+8YtfsHXrVnJzcwHQ6/WcOXMGgKKi\n",
              "Ivbv33/fPqtfv36YzWaOHTsGNFwVFBcXU1ZWhkajwdvbG0VRSE5O/sFjJCUlUVpaypYtW1i7di3H\n",
              "jx8HoLS0FG9vbxwcHMjLy2PXrl3W96SnpxMcHMzkyZOZNWsWp0+fvm/nJIQQzaHFXWEAeHh4kJiY\n",
              "yIoVKwCYPHky8+bN47HHHiM4OJi+ffvet89yc3Pj3XffZfny5VRUVKBWq5k/fz7R0dE8/vjjjB07\n",
              "Fnd3d0aPHv297z937hx/+9vfWLduHZ6enrzxxhv86le/YsOGDUyfPp158+YxduxYfHx8GDp0qPV9\n",
              "ycnJmEwm7O3tUavVLFiw4L6dkxBCNAdZcU8IIUSjtMgpKSGEEC1Pi5ySag5Lly793vsEa9euxdHR\n",
              "0QYVCSFE6yJTUkIIIRpFpqSEEEI0igSGEEKIRpHAEEII0SgSGEIIIRpFAkMIIUSjSGAIIYRoFAkM\n",
              "IYQQjSKBIYQQolH+HwJow06h4e6NAAAAAElFTkSuQmCC\n",
              "\">\n",
              "        \n",
              "      </div>\n",
              "      <script></script>\n",
              "      <script type=\"text/javascript\">\n",
              "        (() => {\n",
              "          const chartElement = document.getElementById(\"chart-22321805-cb21-4a73-b2a6-615148fa5c2a\");\n",
              "          async function getCodeForChartHandler(event) {\n",
              "            const chartCodeResponse =  await google.colab.kernel.invokeFunction(\n",
              "                'getCodeForChart', [\"chart-22321805-cb21-4a73-b2a6-615148fa5c2a\"], {});\n",
              "            const responseJson = chartCodeResponse.data['application/json'];\n",
              "            await google.colab.notebook.addCell(responseJson.code, 'code');\n",
              "          }\n",
              "          chartElement.onclick = getCodeForChartHandler;\n",
              "        })();\n",
              "      </script>\n",
              "      <style>\n",
              "        .colab-quickchart-chart-with-code  {\n",
              "            display: block;\n",
              "            float: left;\n",
              "            border: 1px solid transparent;\n",
              "        }\n",
              "\n",
              "        .colab-quickchart-chart-with-code:hover {\n",
              "            cursor: pointer;\n",
              "            border: 1px solid #aaa;\n",
              "        }\n",
              "      </style>"
            ]
          },
          "metadata": {}
        },
        {
          "output_type": "display_data",
          "data": {
            "text/plain": [
              "import numpy as np\n",
              "from google.colab import autoviz\n",
              "\n",
              "def value_plot(df, y, figscale=1):\n",
              "  from matplotlib import pyplot as plt\n",
              "  df[y].plot(kind='line', figsize=(8 * figscale, 4 * figscale), title=y)\n",
              "  plt.gca().spines[['top', 'right']].set_visible(False)\n",
              "  plt.tight_layout()\n",
              "  return autoviz.MplChart.from_current_mpl_state()\n",
              "\n",
              "chart = value_plot(correlation, *['Tempo_Entrega'], **{})\n",
              "chart"
            ],
            "text/html": [
              "      <div class=\"colab-quickchart-chart-with-code\" id=\"chart-99bcfab4-9a6a-414c-aea0-8f1a5736a98b\">\n",
              "        <img src=\"data:image/png;base64,iVBORw0KGgoAAAANSUhEUgAAAYwAAADECAYAAACMRRb/AAAAOXRFWHRTb2Z0d2FyZQBNYXRwbG90\n",
              "bGliIHZlcnNpb24zLjcuMSwgaHR0cHM6Ly9tYXRwbG90bGliLm9yZy/bCgiHAAAACXBIWXMAAA9h\n",
              "AAAPYQGoP6dpAAAnz0lEQVR4nO3deXTU9b3/8edMJpN9gezrSNmEAEIImYFaLAFEi6AGQSAD5Qot\n",
              "1nsgnlt7C6IBsfcG5bZa6LGFekS9E3aRVYhyQaX8mIBsYYvURiYhCWTft1m+vz8Gp829RRNJmCS8\n",
              "H+dwjvl8l3l/MeSV72e+7/moFEVREEIIIb6D2t0FCCGE6BkkMIQQQrSLBIYQQoh2kcAQQgjRLhIY\n",
              "Qggh2kUCQwghRLtIYAghhGgXCQwhhBDtIoEhhBCiXSQwhBBCtIvG3QUIcTujRo1y/bfVasVut+Pt\n",
              "7e0a+/Of/0xSUpI7SvteUlJSKCsrQ6Np+8/unXfeaXOt32bw4MFs2rSJcePGdUWJQnwrCQzRbZ09\n",
              "e9b132+88QZnzpzhv//7v91Y0Z3LyMhg5syZXfoara2taLXaLn0NcW+SKSnRI7W0tPC73/2OSZMm\n",
              "MWbMGNLS0rh8+bJr+/r165kzZw6///3vefDBB0lMTOT111+npqaG559/ntGjR5OSksLhw4ddx+za\n",
              "tYvx48fz3nvvMX78ePR6PcuXL6ehocG1z82bN0lPT2fcuHGMGzeO559/nps3b3bKNX1T8x/+8Ace\n",
              "fPBBkpOTycjIwGazATB16lQAnn32WUaNGsWiRYsAWLZsGenp6axcuRKDwcBzzz0HwPnz55k3bx56\n",
              "vZ4JEybw5ptvus4FkJuby4wZMxg1ahSpqals2rSJwYMHu7bn5OQwe/Zs9Ho9Y8aMYf78+Vy5cqVT\n",
              "rlX0TBIYokdauXIlubm5mEwmTpw4waOPPsrChQupra117ZObm0twcDBHjx7l3Xff5b333uNf/uVf\n",
              "MBqNnDp1innz5vHiiy/S1NTkOqa8vJy8vDwOHTrE3r17uXr1KpmZmQDY7XYWL16Mh4cH2dnZHDp0\n",
              "CEVR+MUvfoHdbu+U68rNzcXHx4cjR46wbds2Dh06xJ49ewA4cOAAAH/60584e/Ysb7/9tuu4w4cP\n",
              "M3z4cI4dO8b69evJz89nwYIFzJ49m+PHj2MymThy5Ah//vOfAaitreVnP/sZEyZMICcnh7Vr17J1\n",
              "69Y2tWg0Gv793/+dY8eOcfToUXQ6Hc899xytra2dcq2i55HAED1OVVUVH374IRkZGURGRqLRaDAa\n",
              "jQQEBHD06FHXflFRUfz0pz/F09OTESNGMHDgQIYNG0ZSUhJqtZonnniCmpoaLBaL6xhFUXjxxRfx\n",
              "9fUlIiKCpUuXsnv3bux2O7m5ueTl5bFy5UoCAgIIDAxk1apVXL58mQsXLrSr9t/85jckJSW1+fOP\n",
              "P4AjIyNZuHAhWq2Wfv36YTAYyM3N/c7zDhs2jKeeegpPT098fHzYvHkzEyZMYOrUqWg0GmJiYli0\n",
              "aBG7du0C4OjRo2g0Gp577jm0Wi39+/dn3rx5bc45evRoEhMT0Wq1+Pv788ILL1BcXMzXX3/drmsV\n",
              "vY+8hyF6nIKCAgBmzZrVZtxqtbaZHgoLC2uz3cfHp82Yr68vAPX19a6xwMBAAgICXF/HxsZitVop\n",
              "Ly+npKSEoKAggoKCXNv79OlDUFAQxcXFjBw58jtrf+mll771PYzw8PA2X/v6+raZErud2NjYNl9f\n",
              "u3aNnJycNg8FOBwOvln+5ubNm0RGRqJW//13xpiYmDbnyMvL48033+TSpUs0NDS49q2srPzOekTv\n",
              "JIEhepzQ0FAA9u7dS3R0dKeeu7a2lrq6OldoFBUV4enpSWhoKFFRUdTW1lJTU+MKjerqampqajq9\n",
              "jttRqVTtGg8LC+Oxxx5zTaf9bxEREdy4cQOHw+EKguLi4jb7pKenM378eF577TWCgoKoqakhOTkZ\n",
              "WXPt3iVTUqLHiYmJYdKkSaxevZqioiLAeZfw2WefUVpaekfnVqlUrFmzhsbGRm7evMn69euZPn06\n",
              "Hh4ermmt1atXU19fT11dHatXr2bIkCEMHz68My7tO4WGhrZrSmjOnDlkZ2dz8OBBWltbsdvtWCwW\n",
              "Pv/8cwAmTJiA1Wplw4YNtLa28vXXX/P++++3OUd9fT3+/v4EBARQXV3NmjVruuSaRM8hgSF6pN/+\n",
              "9rckJCTwzDPPMGrUKB555BF27Nhxx7/9hoaGMmjQIKZMmcK0adPo378/L774IgAeHh5s2LABq9XK\n",
              "5MmTefjhh7HZbPzxj3/Ew8OjXedfvXo1o0aNavPno48+and9v/zlL139J4sXL77tfiNGjGDTpk3s\n",
              "2LHD9cTX0qVLXXcRgYGBbNy4kU8++QS9Xs8vf/lLZsyY0eZx3P/8z//k0KFDJCYm8vTTTzN+/Ph2\n",
              "1yl6J5Ws6S2E065du3jzzTddv4Xfa9599122bNlCdna2u0sR3ZTcYQhxjzpx4gQlJSUoisKFCxd4\n",
              "5513mDZtmrvLEt2YvOktRCe53cd7BAQEdMu7lvz8fH71q19RV1dHSEgI06dP5+c//7m7yxLdmExJ\n",
              "CSGEaBeZkhJCCNEuEhhCCCHaRQJDCCFEu0hgCCGEaJdeFxjvvfeeu0sQQoheqdcFxv/+PBwhhBCd\n",
              "o9cFhhBCiK7RocD4zW9+Q0pKCoMHD/7Wlbd27NjBww8/zKRJk3jppZewWq13vE0IIYR7dSgwpkyZ\n",
              "wubNm//P5+b/o8LCQn7/+9+TlZXFJ598Qnl5Odu3b7+jbUIIIdyvQ4ExZswYIiMjv3Wf7OxsUlJS\n",
              "CAsLQ6VSMWfOHPbv339H24QQQvxz1Y2t7Dx9na9K67r8tTr9s6RKSkra3IHExMRQUlJyR9uEEEL8\n",
              "naIonCusxmQuYH9uMS02B/p+fdm2eGyXvq58+KAQQvQQja029pwrxmS2cKm41jU+JCqQ5ycN6vLX\n",
              "7/TAiIqKcq25DM4lLqOiou5omxBC3Muu3qzDZLbw4Zki6lpsAGg1ah4bHkWaQUdifPBtl+/tTJ3+\n",
              "WO2UKVM4cuQIZWVlKIrCli1bmDp16h1tE0KIe02Lzc6ec0XM+tMJHn7jc94/YaGuxcZ9Ib6s+MkQ\n",
              "cpZP5HdPj2S0rs9dCQvo4B1GRkYGn376KeXl5SxcuBA/Pz8++eQTVqxYQUpKChMnTiQuLo6lS5cy\n",
              "Z84cAJKTk3n66acBvvc2IYS4VxRWNrL5ZAHbTxVS0dAKgIdaxaQh4RgNOn7YPxS1+u4ExP/W69bD\n",
              "yMzMZPny5e4uQwgh2s3uUPj0y1JMZgufXi3jm5/KEYFezB4Tz5zkeCKDvN1bJPKmtxBCuE1pXTPb\n",
              "TxWy5WQhRdVNrvEHB4RiNMQzcUgEnh7d5wM5JDCEEOIuUhQFc34lphwL2RdvYHM4byeCfT2ZOTqW\n",
              "uXod/UL93FzlPyeBIYQQd0FNk5VdZ66TlVPAV6X1rvFR8cEY9TqmjojC29PDjRV+NwkMIYToQheu\n",
              "12AyW9h7vpgmqx0AX60Hj4+MwWiIJyE6yM0Vtp8EhhBCdLKmVjv7covJMls4f73GNT4owh+jQccT\n",
              "o2II9PZ0Y4XfjwSGEEJ0kq9K69mcU8DO04XUNt9qsPNQ8+jwSNL0Osbcd/d6JrqCBIYQQtwBq93B\n",
              "x5duYjJbOJFf4RqP6+vD3GQdM5NiCfX3cmOFnUcCQwghvofi6ia2nCxg66lCyupaAFCrIOX+cNIM\n",
              "Oh4aGOa2BruuIoEhhBDt5HAofP7XMkzmAo7k3eTWE7GE+nsxe0wcc/TxxAT7uLfILiSBIYQQ36Gi\n",
              "voUdp6+zOaeAgspG1/jYH4SQZojn4aGRaDXdp8Guq0hgCCHEP6EoCl9YqjCZLRy8cINWuwOAAG8N\n",
              "T42OJU2vY0C4v5urvLskMIQQ4h/UNVvZfbYIk7mAL2/+fRW7EbFBGPU6pj0QjY+2ezfYdRUJDCGE\n",
              "AC4X12LKsbDnbBENrc4GO29PNdMfiMZo0DEiNti9BXYDEhhCiHtWs9XORxdKMJktnCmodo33D/Mj\n",
              "Ta9jRmIsQb49r8Guq0hgCCHuOdfKG8jKsbDj9HWqG60AaNQqpgyLxKjXYfhB3x7dYNdVJDCEEPcE\n",
              "m93B4SulZOVYOPbXctd4TLAPc5LjmDUmjvAA96850Z1JYAgherUbNc1sPVXA1pOF3KhtBkClgocG\n",
              "hWHU65hwfzgevazBrqtIYAgheh2HQ+H//a0Ck9nCJ1duYr/VYdfXT8uspDjS9PHE9fV1c5U9jwSG\n",
              "EKLXqGpo5YNba058Xd7gGk++ry9phngeGRaJl+befCS2M0hgCCF6NEVROFtYjclsYX9uCa02Z4Od\n",
              "v5eG1MQY0vQ6BkcGuLnK3kECQwjRIzW02NhzrhiT2cLlklrX+NCoQIwGHY+PjMbPS37EdSb52xRC\n",
              "9ChXb9ZhMlv48EwRdS231pzQqHlsRBRGg45RccHySGwXkcAQQnR7LTY7hy7eIMtcwMlrla7x+0J8\n",
              "SdPreGp0LH38tG6s8N4ggSGE6LYKKxvJyilgxxeFVDS0AuChVjF5SARGg45x/UN63ZoT3ZkEhhCi\n",
              "W7E7FI7mlWLKsfDZ1TKUW2tORAR6MSc5ntlj4okMkgY7d+hwYFy7do1ly5ZRVVWFv78/a9asYeDA\n",
              "gW32cTgcrF27lmPHjmGz2UhMTGTVqlVotc5bxrfffpvdu3fjcDjo168fmZmZBAYGAjB48GAGDRqE\n",
              "Wu38bPmXX36ZpKSkO71OIUQ3V1rXzPZThWw5WUhRdZNr/EcDQ0nT65g0JByNR+9fc6I763BgZGRk\n",
              "MGvWLFJTUzl06BDLli3jgw8+aLPPzp07uXTpErt27cLT05OXX36Z999/n0WLFnH8+HF27drF9u3b\n",
              "8ff356233uKNN95g5cqVruOzsrJcASKE6L0URcGcX4kpx0L2xRvYbjXYBft6MnN0LHP1OvqF+rm5\n",
              "SvGNDsV1RUUFFy9eZPr06QBMmTKFGzduYLFY2uyXl5fHuHHj0Gq1qFQqxo8fz549e1zbRo8ejb+/\n",
              "c+GRhx56yLVNCHFvqGmy8s5fvmbS7z5jzp/NHMgtweZQGBUfzG9nPoB5+URWTB0qYdHNdOgOo6Sk\n",
              "hLCwMDQa52EqlYqoqCiKi4vR6XSu/RISEti2bRtGoxEvLy8OHjxIUVGRa9vmzZspKysjNDSUffv2\n",
              "0dDQQHV1NcHBwQAsWLAAm83G2LFjSU9Px9dXWviF6A1yrzsb7PaeL6bZ6myw89V68MSoGNL08SRE\n",
              "B7m5QvFtuuRN79TUVIqLizEajXh7ezN27FiOHz8OgMFg4JlnnmHx4sV4eHgwefJkZyG3Qujo0aNE\n",
              "R0fT2NjIypUref3111m1alVXlCmEuAuaWu3sO1+MKcdC7vUa1/jgiACMhnieGBVDgLesOdETdCgw\n",
              "oqKiKCsrw2azodFoUBSFkpISoqOj2+ynUqlYsmQJS5YsAeDAgQMMGDDAtT0tLY20tDQAzp07R2Rk\n",
              "pGuK6ptz+fr6MnfuXDIyMr7/1Qkh3Oar0nqycix8cPo6tc23Guw81Dw6PBKjQUeSro802PUwHQqM\n",
              "kJAQEhIS2Lt3L6mpqWRnZxMREdFmOgqgpaWF5uZmgoKCqKysZOPGjaSnp7u2l5aWEh4eTlNTE+vW\n",
              "rWPRokUA1NTUoNVq8fHxweFw8NFHHzFkyJBOuEwhxN1gtTv4+NJNTGYLJ/IrXONxfX2Ym6xjVlIs\n",
              "If5ebqxQ3IkOT0m98sorLF++nA0bNuDn50dmZiYAK1asICUlhYkTJ1JXV8e8efNQq9U4HA7mz59P\n",
              "SkqK6xwLFy7E4XBgtVqZPn06RqMRgPz8fDIyMlCpVNjtdoYOHcqKFSs66VKFEF2lqLqJLTkFbPui\n",
              "kLK6FgDUKki5PwKjIZ7xA8Okwa4XUCnKN20xvUNmZibLly93dxlC9HoOh8Jnfy0jy2zhSF4pt56I\n",
              "JSzAi9lj4pidHE9MsI97ixSdSjq9hRAdUlHfwvYvrrP5pIXCyr832I39QQhGg46HEyLwlAa7XkkC\n",
              "QwjxnRRF4QtLFSazhYMXbtBqdz4SG+itYcboWNL0OgaE+7u5StHVJDCEELdV12xl99kiTOYCvrxZ\n",
              "5xp/IDaINIOOaSOi8dHKCnb3CgkMIcT/cam4hqycAnafLaKx1Q6At6eaxx+IwWjQMTxWGuzuRRIY\n",
              "QggAmq12DuSWYMqxcLag2jXeP8wPo0FHamIsQT7SYHcvk8AQ4h73dXkDm3Ms7Dh9nepGKwAatYop\n",
              "wyIx6nUYftBXGuwEIIEhxD3JZndw+EopWTkWjv213DUeE+zDXH08M5NiCQ+QNSdEWxIYQtxDbtQ0\n",
              "s/VUAVtPFnKjthkAlQp+PCgMo0HHjweH4yENduI2JDCE6OUcDoXjfyvHZLZw+Eop9lsddiF+WmaN\n",
              "iWNucjxxfeUTocV3k8AQopeqamhl5+nrZOVYuFbR6BpPvq8vaYZ4HhkWiZdGHokV7SeBIUQvoigK\n",
              "Zwuda07szy2h1eZssPP30pCaGEOaXsfgyAA3Vyl6KgkMIXqBhhYbu88VkWUu4HJJrWt8aFQgRoOO\n",
              "x0dG4+cl/9zFnZHvICF6sC9v1GEyW/jwbBH1Lc41J7w0ah4bEY3REM/IuGB5JFZ0GgkMIXqYFpud\n",
              "QxdvYDJbOHWtyjXeL9SPNH08T42OJdhX68YKRW8lgSFED1FY2UhWTgE7viikoqEVAA+1islDIjAa\n",
              "dIzrHyJrToguJYEhRDdmdygczSvFlGPhs6tlfLN6TWSgN3OS43l6TByRQdJgJ+4OCQwhuqHSuma2\n",
              "nypky8lCiqr/vubEjwaGYjTomHh/OBpZc0LcZRIYQnQTiqJwIr+CLHMB2ZduYLvVYBfs68msJGeD\n",
              "3X2hfm6uUtzLJDCEcLOaJisf3Gqw+1tZg2s8MT4Yo0HHT4ZH4e0pDXbC/SQwhHCT3OvOBru954tp\n",
              "tjob7Py0HjwxytlgNzQ60M0VCtGWBIYQd1FTq51954sx5VjIvV7jGr8/MoA0g44nRkYT4C1rToju\n",
              "SQJDiLvgq9I6TOYCPjhznbpmZ4Od1kPNT4ZHYjToGK3rIw12otuTwBCii7TaHHx82dlgZ86vdI3H\n",
              "9/V1rjkxOpYQfy83VihEx0hgCNHJiqqb2JJTwNZThZTXtwCgVsHEIRGk6eMZPzBMGuxEjySBIUQn\n",
              "sDsUPv9rGVlmC0fySrn1RCxhAV7MGRPH7OR4ooN93FukEHeow4Fx7do1li1bRlVVFf7+/qxZs4aB\n",
              "Awe22cfhcLB27VqOHTuGzWYjMTGRVatWodU6P9/m7bffZvfu3TgcDvr160dmZiaBgc4nQs6fP8/L\n",
              "L79MS0sLERERrF27loiIiE64VCE6X3l9C9u/KGRzTgHXq/7eYDeufwhGg47JQyPwlAY70Ut0+Ds5\n",
              "IyODWbNmkZ2dzc9+9jOWLVv2f/bZuXMnly5dYteuXRw8eBC1Ws37778PwPHjx9m1axdbt27lo48+\n",
              "IiEhgTfeeANwBs0LL7zAiy++SHZ2Ng899BD/8R//cYeXKETnUhSFk19XsnTLWcZlHuH1Q19yvaqJ\n",
              "QG8Nz/ywH//zy4fY/DMDPxkeJWEhepUOfTdXVFRw8eJFpk+fDsCUKVO4ceMGFoulzX55eXmMGzcO\n",
              "rVaLSqVi/Pjx7Nmzx7Vt9OjR+Pv7A/DQQw+5tl28eBEPDw8MBgMATz/9NEePHqWlpeXOrlKITlDX\n",
              "bOX9E9d45M1jzNpwgr3ni2m1O3ggLpjXnxpBzouTyJg2lP5h/u4uVYgu0aEpqZKSEsLCwtBonIep\n",
              "VCqioqIoLi5Gp9O59ktISGDbtm0YjUa8vLw4ePAgRUVFrm2bN2+mrKyM0NBQ9u3bR0NDA9XV1ZSU\n",
              "lBATE+M6j7+/P/7+/pSWlhIXF9cZ1ytEh10qrsFkLmDPuSIaW+0AeHuqeWKks8FueGyQmysU4u7o\n",
              "kje9U1NTKS4uxmg04u3tzdixYzl+/DgABoOBZ555hsWLF+Ph4cHkyZOdhWjk/XfRfTRb7RzILcGU\n",
              "Y+FsQbVrfEC4P0Z9PE8mxhLkIw124t7SoZ/SUVFRlJWVYbPZ0Gg0KIpCSUkJ0dHRbfZTqVQsWbKE\n",
              "JUuWAHDgwAEGDBjg2p6WlkZaWhoA586dIzIyEn9/f6Kiolx3IgD19fXU1dURHh7+vS9QiI74uryB\n",
              "LLOFnWeuU91oBcDTQ8WUBGeDnb5fX2mwE/esDgVGSEgICQkJ7N27l9TUVLKzs4mIiGgzHQXQ0tJC\n",
              "c3MzQUFBVFZWsnHjRtLT013bS0tLCQ8Pp6mpiXXr1rFo0SIAhg0bhs1mw2w2YzAY2LZtGykpKXh5\n",
              "SXOT6Do2u4PDV25iMhfwl6/KXeMxwT7M1cczKymOsAD5HhSiw/NAr7zyCsuXL2fDhg34+fmRmZkJ\n",
              "wIoVK0hJSWHixInU1dUxb9481Go1DoeD+fPnk5KS4jrHwoULcTgcWK1Wpk+fjtFoBECtVrN27Voy\n",
              "MjJobW0lPDyc119/vZMuVYi2btQ0s+VkAVtPFXCz1vlghUoFPx4UhtGg48eDw/GQBjshXFSK8s0a\n",
              "Xr1DZmYmy5cvd3cZoptyOBSO/60ck9nC4Sul2G912IX6a5mVFMec5Hji+vq6uUohuid5p1ncE6oa\n",
              "Wtl5a82JaxWNrvHkfn0xGnQ8khCJViM9E0J8GwkM0WspisKZgmqycizszy2h1eZccyLAS0NqYgxp\n",
              "Bh2DIgLcXKUQPYcEhuh1Glps7D5XhMlcwJWSWtd4QnQgRoOO6Q9E4+cl3/pCdJT8qxG9xpc36jCZ\n",
              "LXx4toj6FueaE14aNdMeiMZo0PFAbJA8EivEHZDAED1ai83OoYvONSdOXatyjf8g1I+5+nieGh1L\n",
              "sK/WjRUK0XtIYIgeqaCikayTFnZ8cZ3KhlYAPNQqHh4agdGgY1z/ELmbEKKTSWCIHsPuUDiSV4rJ\n",
              "bOHzv5bxzQPhkYHezEmOZ3ZyHBGB3u4tUoheTAJDdHuldc1sO1nIlpMFFNc0u8Z/NDAUo0HHxPvD\n",
              "0cjHiAvR5SQwRLekKAon8ivIMheQfekGtlsNdn18PV0NdveF+rm5SiHuLRIYolupabSy84yzwS6/\n",
              "rME1PlrXB6MhnkeHReHt6eHGCoW4d0lgiG7hfGE1JrOFfbnFNFudDXZ+Wg+eGBWD0aBjSFSgmysU\n",
              "QkhgCLdparWz97yzwe5CUY1r/P7IANIMOp4cFYO/NNgJ0W3Iv0Zx131VWofJXMAHZ65T1+xssNN6\n",
              "qJk6Ioo0fTyjdX3kkVghuiEJDHFXtNocfHzZ2WBnzq90jcf39SVNH8/MpDj6+kmDnRDdmQSG6FLX\n",
              "qxrZerKQracKKa93rjmhVsHEIc4Gux8NCEUta04I0SNIYIhOZ3cofH61DJPZwtEvS7n1RCzhAV7M\n",
              "HhPH7OR4ooN93FukEKLDJDBEpymvb2H7F4VszingelWTa/yHA0Iw6nVMGhqBpzTYCdFjSWCIO6Io\n",
              "CqeuVWEyWzh4sQSr3Xk7EeTjyVOjY5mrj6d/mL+bqxRCdAYJDPG91DZb2X22CJPZwtWb9a7xB+KC\n",
              "MerjmfZAtDTYCdHLSGCIDrlYVENWjoU954ppbLUD4OPpweMjnWtODIsJcnOFQoiuIoEhvlOz1c7+\n",
              "3BJMZgvnCqtd4wPD/TEadDyZGEOgt6f7ChRC3BUSGOK2vi5vIMtsYeeZ61Q3WgHw9FDxyLAojPp4\n",
              "kvv1lQY7Ie4hEhiiDavdwf9cuYnJXMBfvip3jccE+zBXH8+spDjCArzcWKEQwl0kMAQAJTVNbDlZ\n",
              "yLZTBdysdTbYqVQwYXA4RkM8Dw0Kx0Ma7IS4p0lg3MMcDoW/fFWOyWzhf/JKsd/qsAv117rWnIjr\n",
              "6+vmKoUQ3UWHA+PatWssW7aMqqoq/P39WbNmDQMHDmyzj8PhYO3atRw7dgybzUZiYiKrVq1Cq3V+\n",
              "VtDGjRvZvXs3np6eeHl58dJLLzFixAgABg8ezKBBg1CrnQ1eL7/8MklJSXd6neIfVDW0suO0s8Hu\n",
              "WkWja1zfry9pBh2PJESi1UiDnRCirQ4HRkZGBrNmzSI1NZVDhw6xbNkyPvjggzb77Ny5k0uXLrFr\n",
              "1y48PT15+eWXef/991m0aBFXrlxhy5Yt7N+/Hz8/P/bs2cPq1avZuXOn6/isrCwCA2X9g86kKApn\n",
              "CqrJMlvYf6GEVptzzYkALw0zRseSpo9nYESAm6sUQnRnHQqMiooKLl68yDvvvAPAlClTePXVV7FY\n",
              "LOh0Otd+eXl5jBs3znVHMX78eNavX8+iRYtQqVRYrVaamprw8/Ojrq6OyMjITrwk8Y8aWmzsPudc\n",
              "c+JKSa1rfFhMIEa9jukjo/HVysykEOK7degnRUlJCWFhYWg0zsNUKhVRUVEUFxe3CYyEhAS2bduG\n",
              "0WjEy8uLgwcPUlRUBMD999/PggULmDhxIkFBQWi1WrKystq8zoIFC7DZbIwdO5b09HR8fWUevaPy\n",
              "btRiMlvYfbaY+hbnmhNeGjXTHnA22D0QGySPxAohOqRLfrVMTU2luLgYo9GIt7c3Y8eO5fjx4wAU\n",
              "FhbyySef8PHHHxMREYHJZOL5559ny5YtABw9epTo6GgaGxtZuXIlr7/+OqtWreqKMnudFpudgxec\n",
              "a058Yalyjf8g1I+5+nieGh1LsK+sOSGE+H46FBhRUVGUlZVhs9nQaDQoikJJSQnR0dFt9lOpVCxZ\n",
              "soQlS5YAcODAAQYMGADAxx9/zKBBg4iIiACc4fLqq6/S2tqKVqt1ncvX15e5c+eSkZFxxxfZ2xVU\n",
              "NJJ10sKOL65T2dAKgEat4uGECIx6HWP7h8jdhBDijnUoMEJCQkhISGDv3r2kpqaSnZ1NREREm+ko\n",
              "gJaWFpqbmwkKCqKyspKNGzeSnp4OQFxcHLt27aKhoQE/Pz8+/fRT7rvvPrRaLTU1NWi1Wnx8fHA4\n",
              "HHz00UcMGTKk8662F7E7FI7klWIyW/j8r2Uot9aciAryZk5yPLPHxBEe6O3eIoUQvUqHp6ReeeUV\n",
              "li9fzoYNG/Dz8yMzMxOAFStWkJKSwsSJE6mrq2PevHmo1WocDgfz588nJSUFgMmTJ3PhwgVmzJiB\n",
              "VqvF19eX3/72twDk5+eTkZGBSqXCbrczdOhQVqxY0YmX2/OV1jaz9VQhW08WUFzT7BofPygMoz6e\n",
              "lPvD0ciaE0KILqBSlG9+N+0dMjMzWb58ubvL6FSKonDibxWYcix8fOkmtlsNdn18PZmVFMdcfTy6\n",
              "ED83VymE6O3kecpurKbRys4z18nKsZBf1uAaT9L1wWjQ8ciwSFlzQghx10hgdEPnC6sxmS3syy2m\n",
              "2epssPPTevBkYgxpeh1DoqSpUQhx90lgdBONrTb2nS/GZC7gQlGNa/z+yACMBh1PjIrB30v+dwkh\n",
              "3Ed+ArnZV6V1mMwFfHDmOnXNzgY7rUbN1OFRGA3xJMb3kUdihRDdggSGG7TaHGRfcjbY5Xxd6RrX\n",
              "hfgyNzmemUlx9PWTBjshRPcigXEXXa9qZMvJAraduk55vXPNCbUKJg2JwGjQ8eCAUNSy5oQQopuS\n",
              "wOhidofC51fLMJktHP2ylFtPxBIe4MXs5HjmJMcRFeTj3iKFEKIdJDC6SHl9C9tOFbLlZAHXq5pc\n",
              "4z8cEIJRr2PS0Ag8pcFOCNGDSGB0IkVROPl1JaacAg5dLMFqd95OBPl48tStNSd+EObv5iqFEOL7\n",
              "kcDoBLXNVj48U0RWjoWrN+td4yPjgjEadDw2Ikoa7IQQPZ4Exh24WFRDVo6FPeeKaWy1A+Dj6cET\n",
              "o6JJ0+sYFhPk5gqFEKLzSGB0ULPVzv7cEkxmC+cKq13jA8P9MRp0PJkYQ6C3p/sKFEKILiKB0U75\n",
              "ZfVszilgx+nr1DRZAfD0UPHIsCiM+niS+/WVBjshRK8mgfEtrHYHhy/fxJRj4fhXFa7x2D4+zNXH\n",
              "MyspjlB/LzdWKIQQd48Exj9RUtPElpPONSdK65wNdioVpAwOx2jQMX5QGB7SYCeEuMdIYNzicCj8\n",
              "5atyTGYL/5NXiv1Wh12ov5anx8QxJzme2D6+bq5SCCHcRwID52OxszeYuVxS6xrT9+uL0aBjSkIk\n",
              "Wo002AkhhAQG0NhiJ7+8ngBvDTMSYzEa4hkQHuDusoQQoluRwAAig7wxL5+It6eHNNgJIcRtSGDc\n",
              "EuwrHycuhBDfRibnhRBCtIsEhhBCiHaRwBBCCNEuKkVRFHcX0Zn+9V//ldjYWHeXIYQQPUZ0dDQ/\n",
              "/elPv3O/XhcYQgghuoZMSQkhhGgXCQwhhBDtIoEhhBCiXSQwhBBCtIsEhhBCiHaRwBBCCNEuEhhC\n",
              "CCHaRQJDCCFEu0hgCCGEaJduExgpKSk88sgj2Gw211hqaio5OTlurOr2Hn/8cerr691dhhBC3DXd\n",
              "JjAAWltb2blzp7vLaJc9e/bg7+/v7jKEEOKu6VaBsWTJEt566y2amprajC9btox3333X9fVrr73G\n",
              "+vXrAVi/fj3p6ek8++yzTJkyhcWLF3P16lUWLlzIlClT+Ld/+zccDse3vu7Zs2eZM2cO06dPZ9q0\n",
              "aRw+fNj1OjNmzODxxx8nLS2N/Px81zGDBw+mtraWyspKUlJSOHfuHACHDh1i+vTpNDc3U1ZWxrx5\n",
              "80hNTWXq1KmsXr3aVcu5c+dITU3l8ccf57HHHmPz5s13+tcnhBBdS+kmJkyYoFy+fFl54YUXlLfe\n",
              "ektRFEV58sknFbPZrPz6179WNm3a5Np3zZo1yrp16xRFUZR169YpKSkpSnV1teJwOJS0tDRl5syZ\n",
              "Sl1dnWK1WpXp06crR48eve3rVlVVKWPHjlVOnTqlKIqi2O12paqqSlEURamoqHDtt3//fuWZZ55x\n",
              "fT1o0CClpqZGURRFOXXqlDJx4kTl/Pnzyo9+9CMlPz9fURRFaW5uVurr6xVFURSbzab8/Oc/V/bv\n",
              "368oiqI8++yzyr59+1znq66u/j5/bUIIcdd0uyVa09PTmTlzJrNnz273MT/84Q8JCgoCYOjQoWi1\n",
              "Wtd00dChQ7l27dptjz137hz9+vUjKSkJALVaTXBwMADHjx/HZDLR0NCAw+Ggpqbmn54jKSmJp556\n",
              "itmzZ/Paa6/Rr18/ABwOB//1X//F6dOnURSFyspKBg4cyNSpU9Hr9bz11ltcu3YNg8Hgen0hhOiu\n",
              "ul1gxMbG8thjj/HHP/7RNebh4dFmWqmlpQVfX1/X115eXm32/cev1Wo1dru9w3UUFxfz6quvsnPn\n",
              "TuLj48nLy8NoNN52/8uXL9O3b19KSkpcY5s2baKiooIdO3bg5eVFZmYmLS0tACxYsICJEydy4sQJ\n",
              "3njjDQYOHMiqVas6XKcQQtwt3eo9jG/84he/YO/evZSWlgKg0+nIzc0FoKqqis8++6zTXmvUqFFY\n",
              "LBa++OILwHlXUF1dTV1dHRqNhrCwMBRFISsr67bnMJlM1NbWsmfPHrZt28bp06cBqK2tJSwsDC8v\n",
              "L8rKyjh06JDrmPz8fOLi4pg1axaLFy/m/PnznXZNQgjRFbrdHQZA3759mTdvHuvWrQNg1qxZLF26\n",
              "lEcffZS4uDhGjhzZaa8VFBTEH/7wB9asWUNDQwNqtZr09HRSUlL4yU9+wtSpUwkODmbSpEn/9PhL\n",
              "ly7xzjvvsH37dkJCQli7di2/+tWv2LlzJ/Pnz2fp0qVMnTqV8PBwxo0b5zouKysLs9mMp6cnarWa\n",
              "X//61512TUII0RVkxT0hhBDt0i2npIQQQnQ/3XJKqitkZGT80/cJtm3bhre3txsqEkKInkWmpIQQ\n",
              "QrSLTEkJIYRoFwkMIYQQ7SKBIYQQol0kMIQQQrSLBIYQQoh2kcAQQgjRLhIYQggh2kUCQwghRLv8\n",
              "f94Ztqn9B4mpAAAAAElFTkSuQmCC\n",
              "\">\n",
              "        \n",
              "      </div>\n",
              "      <script></script>\n",
              "      <script type=\"text/javascript\">\n",
              "        (() => {\n",
              "          const chartElement = document.getElementById(\"chart-99bcfab4-9a6a-414c-aea0-8f1a5736a98b\");\n",
              "          async function getCodeForChartHandler(event) {\n",
              "            const chartCodeResponse =  await google.colab.kernel.invokeFunction(\n",
              "                'getCodeForChart', [\"chart-99bcfab4-9a6a-414c-aea0-8f1a5736a98b\"], {});\n",
              "            const responseJson = chartCodeResponse.data['application/json'];\n",
              "            await google.colab.notebook.addCell(responseJson.code, 'code');\n",
              "          }\n",
              "          chartElement.onclick = getCodeForChartHandler;\n",
              "        })();\n",
              "      </script>\n",
              "      <style>\n",
              "        .colab-quickchart-chart-with-code  {\n",
              "            display: block;\n",
              "            float: left;\n",
              "            border: 1px solid transparent;\n",
              "        }\n",
              "\n",
              "        .colab-quickchart-chart-with-code:hover {\n",
              "            cursor: pointer;\n",
              "            border: 1px solid #aaa;\n",
              "        }\n",
              "      </style>"
            ]
          },
          "metadata": {}
        },
        {
          "output_type": "display_data",
          "data": {
            "text/plain": [
              "<google.colab._quickchart_helpers.SectionTitle at 0x785be6471e40>"
            ],
            "text/html": [
              "<h4 class=\"colab-quickchart-section-title\">Distributions</h4>\n",
              "<style>\n",
              "  .colab-quickchart-section-title {\n",
              "      clear: both;\n",
              "  }\n",
              "</style>"
            ]
          },
          "metadata": {}
        },
        {
          "output_type": "display_data",
          "data": {
            "text/plain": [
              "import numpy as np\n",
              "from google.colab import autoviz\n",
              "\n",
              "def histogram(df, colname, num_bins=20, figscale=1):\n",
              "  from matplotlib import pyplot as plt\n",
              "  df[colname].plot(kind='hist', bins=num_bins, title=colname, figsize=(8*figscale, 4*figscale))\n",
              "  plt.gca().spines[['top', 'right',]].set_visible(False)\n",
              "  plt.tight_layout()\n",
              "  return autoviz.MplChart.from_current_mpl_state()\n",
              "\n",
              "chart = histogram(correlation, *['Num_caixas'], **{})\n",
              "chart"
            ],
            "text/html": [
              "      <div class=\"colab-quickchart-chart-with-code\" id=\"chart-12a67aa9-9820-4656-9835-5f40195543bb\">\n",
              "        <img src=\"data:image/png;base64,iVBORw0KGgoAAAANSUhEUgAAAYsAAADECAYAAABumQ2GAAAAOXRFWHRTb2Z0d2FyZQBNYXRwbG90\n",
              "bGliIHZlcnNpb24zLjcuMSwgaHR0cHM6Ly9tYXRwbG90bGliLm9yZy/bCgiHAAAACXBIWXMAAA9h\n",
              "AAAPYQGoP6dpAAAcDUlEQVR4nO3deVRU5/0/8Pdlc2FqQEQc1ODydUWjphoxUdABndgoUVQUE1xS\n",
              "jMaoia2NKEJE8YBatVpN3Nq6oeJCiTuSINXEvVpTarRaxY1RAXEZlGGZ5/cHP+eIIJeLXBjx/TrH\n",
              "c+be+8ydzzxe5j13e0YSQggQERGVwaa6CyAiIuvHsCAiIlkMCyIiksWwICIiWQwLIiKSxbAgIiJZ\n",
              "DAsiIpLFsCAiIlkMCyIiksWwICIiWQwLIisTEhKCFStWVHcZRMVIHBuKXmXBwcE4efIkvv32W+h0\n",
              "Osv8adOmwc7ODjExMdVYHVHNwT0LeuU5Oztj/vz5yMvLq+5SiGoshgW98gYPHgyz2YyNGzeWulyn\n",
              "02H79u3F5rVp0wZHjx4FAJw4cQJt2rTBvn37oNfr0alTJ0yYMAEPHz7En/70J/Ts2RPdu3fHsmXL\n",
              "yl1TSkoKAgMD0a1bN3Tv3h1TpkyxLAsPD4dOp0OXLl2g0+mwbNkymM1my/Lg4GAsWbLEUlvnzp3x\n",
              "888/AwCEEPj0008xYcIECCFgMpkwZcoU9OrVC126dIFer0dsbKxlXUIILF26FN7e3ujSpQu8vb2x\n",
              "ePHicr8PoqfsqrsAopfl4OCA6dOnY/r06Rg0aBBcXFwqtJ6UlBTs3LkTJpMJI0eOxLBhwxAcHIyU\n",
              "lBSkpqZi5MiRlg/lsvz000+YMmUK5s+fD19fXwghcObMGcvyt956C1988QVcXFxw7tw5jB8/Hg0b\n",
              "NsSIESNKrKt79+6YNGkSvvjiC8THxyM2NhZXrlxBfHw8JEmCEAI+Pj6IioqCRqPB4cOHMWnSJLz5\n",
              "5pvo1asXjh49ip07d2Lr1q1wd3fH/fv3cfXq1Qr1D73euGdBNYKfnx86dOjwUt+ap06dCo1GAxcX\n",
              "F/j4+AAAPv74Y9jZ2aFz585o2bKl5Rt+WTZs2IChQ4eif//+cHBwQK1atdCjRw/L8mHDhqFBgwaQ\n",
              "JAmdO3fGwIED8dNPP71wfSEhIejYsSPGjBmDv/zlL/jzn/+MevXqAQBq166NIUOGoF69erCxsUHv\n",
              "3r3Rq1cvy/rs7e1hMplw6dIl5ObmwsnJSTbsiErDPQuqMcLCwhAQEICPPvqoQs93dXW1PK5Tpw4a\n",
              "NmxYbHmdOnWQk5Mju56bN2+iZ8+epS4TQmDlypXYs2cP7t69azmU1LFjxzLXOWbMGAQFBWHAgAFo\n",
              "166dZX5eXh6WLFmC5ORkZGZmQpIk5ObmQqPRAADeeecd/OEPf8CaNWswdepUtGvXDhMnTsR7770n\n",
              "+z6InsU9C6oxWrdujWHDhmHevHnF5js6OuLx48eW6Tt37qhaR+PGjZGWllbqsr1792L9+vWYP38+\n",
              "jh8/jtOnT2P48OEo66LER48eITQ0FEOHDsWhQ4eQnJxsWfa3v/0NycnJ+Pbbb3Hq1CmcPn0avXr1\n",
              "Kra+oUOHYtOmTTh+/Dj8/PwwYcIEGI3GSnu/9HpgWFCNMmXKFFy6dAk//vijZV6HDh2wd+9ePHz4\n",
              "EEajEYsWLVK1hlGjRmHHjh1ITExEXl4eTCYTjh07BqDog9/Ozg4uLi6QJAnHjx/H7t27X7guIQSm\n",
              "T5+O5s2bIyoqCnPmzMH06dNx48YNy/ocHBxQv359mM1m7N+/v9ghrZ9//hmnTp1Cbm4u7O3t4ejo\n",
              "CEmSYGtrq2ofUM3DsKAaxdnZGZMmTUJ2drZl3pdffgmNRgMfHx8EBASgb9++qtbQs2dPLFq0CKtX\n",
              "r0aPHj3g7e2NrVu3AgACAgLg5eWFgQMHwsvLC1u3bsXAgQNfuK41a9bg4sWLWLBgASRJwoABA+Dv\n",
              "74/JkycjNzcXn3zyCbRaLfr06YNevXrh2LFj8PPzszw/JycH0dHR6NGjB7p27Yq4uDgsX74cderU\n",
              "UbUPqObhTXlERCSLexZERCSLV0MRKbRy5UqsWrWq1GXTpk2r8NVYRNaMh6GIiEgWD0MREZEshgUR\n",
              "EcliWBARkawaERbr16+v7hKIiGq0GhEW6enp1V0CEVGNViPCgoiI1KVqWERFRUGn06FNmzb45Zdf\n",
              "Xthu+/bt6NevH/z8/DBr1izk5+erWRYRESmkaljo9Xps3rwZjRs3fmGbGzduYOnSpYiNjUVSUhIy\n",
              "MzOxbds2NcsiIiKFVA2Lbt26oVGjRmW2SUxMhE6ng6urKyRJQlBQEPbs2aNmWUREpFC1n7MwGAzF\n",
              "9jwaN24Mg8FQjRUREdHzqj0sqluhueKjnbzMc4no9faqffZU+0CCWq0W169ft0zfunULWq22yl7f\n",
              "1kbCF1vP4vJdZb8c9n8NNVg6gr9lTEQV86p99lR7WOj1egQFBWHy5Mlo0KABtmzZgg8++KBKa7h8\n",
              "14j/pD+s0tckInqVPntUPQwVEREBb29v3L59G7/97W8tv1AWFhaGH374AQDQtGlTTJkyBUFBQejb\n",
              "ty/q16+P4cOHq1kWEREppOqexZw5c0qdP2/evGLTgYGBCAwMVLMUIiJ6Ca/9CW4iIpLHsCAiIlkM\n",
              "CyIiksWwICIiWQwLIiKSxbAgIiJZDAsiIpLFsCAiIlkMCyIiksWwICIiWQwLIiKSxbAgIiJZDAsi\n",
              "IpLFsCAiIlkMCyIiksWwICIiWQwLIiKSpeov5aWlpSE0NBTZ2dnQaDSIiYlBq1atirUxm82YP38+\n",
              "jhw5AltbWzg5OSEqKgoeHh5qlkZERAqo/hvcgYGBSExMxLhx4xAaGlqiTXJyMs6cOYPvvvsOu3fv\n",
              "Ro8ePbB48WI1yyIiIoVUC4usrCykpqbC398fAKDX63H79m1cu3atRNu8vDyYTCYIIWA0GtGoUSO1\n",
              "yiIiogpQ7TCUwWCAq6sr7OyKXkKSJGi1WqSnpxc7xKTT6XDixAn07NkTjo6OcHNzw8aNG9Uqi4iI\n",
              "KqDaT3Cnpqbi0qVLOHz4MI4cOQIvLy98/fXX1V0WERE9Q7Ww0Gq1yMjIQEFBAQBACAGDwQB3d/di\n",
              "7RISEuDl5YV69erBxsYGgwcPxokTJ9Qqi4iIKkC1sHBxcYGnpyd27doFAEhMTISbm1uJq5yaNm2K\n",
              "48ePIy8vDwBw6NAhtG7dWq2yiIioAlS9dDYyMhIzZszAqlWr4OjoiOjoaABAWFgYdDodfH198dFH\n",
              "H+F///sfPvzwQ9jZ2cHV1RWRkZFqlkVERAqpGhYtWrRAXFxcifnz5s2zPHZwcEBUVJSaZRAR0Uuq\n",
              "9hPcRERk/RgWREQki2FBRESyGBZERCSLYUFERLIUh8WRI0fUqIOIiKyY4rBYsWIF9Ho91q9fD6PR\n",
              "qEZNRERkZRSHxdatW7FkyRJcunQJer0es2fPxuXLl9WojYiIrESFzlm0b98eUVFRWLt2LVJSUuDv\n",
              "74+xY8fi4sWLlV0fERFZgQrdwX306FFs3LgR//3vfzFy5EgMHToUJ0+exKRJk5CUlFTZNRIRUTVT\n",
              "HBb9+/eHs7MzgoOD0a9fP9ja2gIA3n//fezYsaPSCyQiouqnOCwWLlyIDh06lLps7dq1L10QERFZ\n",
              "H8XnLP7zn//g/v37luns7Gxs27atMmsiIiIrozgsNm/eDCcnJ8u0s7MzNm/eXJk1ERGRlVEcFkKI\n",
              "EvMKCwsrpRgiIrJOisPC1dUV+/bts0zv27cPDRs2rNSiiIjIuig+wT1z5kxMnDgRf/zjHwEAtWvX\n",
              "xjfffFPphRERkfVQHBYtW7bEvn37cPXqVQBA8+bNLZfPPi8tLQ2hoaHIzs6GRqNBTEwMWrVqVaLd\n",
              "xYsXERUVhczMTADA1KlT0a9fP6WlERGRSip0U54kSfjVr36FwsJC3LlzBwDg7u5eol1ERAQCAwMR\n",
              "EBCAAwcOIDQ0FDt37izW5smTJ5g4cSLmz5+Prl27orCwEA8ePKhIWUREpBLFYREfH4+oqCjY29tD\n",
              "kiQAReFx7NixYu2ysrKQmpqKv/71rwAAvV6PuXPn4tq1a/Dw8LC027NnDzp37oyuXbsCAGxtbVG/\n",
              "fv0KvyEiIqp8isPim2++wY4dO9CiRYsy2xkMBri6usLOruglJEmCVqtFenp6sbC4fPkyHBwcMH78\n",
              "eNy+fRtt2rRBaGgoA4OIyIoovhrK2dlZNiiUKCwsxNGjRzFnzhwkJCTAzc0Ns2fPrrT1ExHRy1Mc\n",
              "Fn5+fli3bh2ysrJgNBot/56n1WqRkZGBgoICAEX3ZxgMhhLnNrRaLbp37w43NzdIkgR/f3/861//\n",
              "qti7ISIiVSg+DLVkyRIAQExMDCRJghACkiThl19+KdbOxcUFnp6e2LVrFwICApCYmAg3N7dih6CA\n",
              "ooEJd+zYAaPRCI1Gg3/84x9o27btS7wlIiKqbIrD4sKFC+VuGxkZiRkzZmDVqlVwdHREdHQ0ACAs\n",
              "LAw6nQ6+vr5wd3fH+PHjMWLECEiSBDc3N8ydO1dpWUREpKIKXTqbmpqKy5cvY9CgQXj48CFyc3NL\n",
              "vYu7RYsWiIuLKzF/3rx5xaYHDRqEQYMGVaQUIiKqAorPWcTGxmLmzJlYvnw5AOD+/fv4/e9/X+mF\n",
              "ERGR9VAcFtu2bcO2bdug0WgAAG+++Says7MrvTAiIrIeisPCwcEBtWvXLjbvRcN9EBFRzaA4LOrX\n",
              "r4+rV69a7t6Oj4+HVqut9MKIiMh6VGjU2d/97ne4cuUKfHx8oNFosHLlSjVqIyIiK6E4LDw8PLB9\n",
              "+3ZcvXoVQogyR50lIqKaQXFYpKenAwDq1KkDAGWOOktERDWD4rAICAiw3LltMpmQm5sLJyenEqPO\n",
              "EhFRzaE4LI4fP15s+uDBg4ru6iYioleP4quhntevXz+kpKRUQilERGStFO9ZPDvCbGFhIc6dO4ec\n",
              "nJxKLYqIiKyL4rDo2rWr5ZyFra0tPDw8EBYWpkZtRERkJVQddZaIiGqGlz5nQURENZ/iPYu2bdta\n",
              "hvp41ot+BImIiF59isNiypQpMJlMCAoKAgBs2bIFtWvXxujRoyu9OCIisg6KD0N9//33mDp1Kho1\n",
              "aoRGjRph6tSpSEpKQt26dVG3bl01aiQiomqmOCxycnKQlZVlmc7KyuKls0RENZziw1Bjx47Fhx9+\n",
              "CG9vbwDAkSNHMHny5FLbpqWlITQ0FNnZ2dBoNIiJiUGrVq1KbSuEwOjRo3H+/HmcPn1aaVlERKQi\n",
              "xWExYsQIvP322zhx4gSAovB4UQBEREQgMDAQAQEBOHDgAEJDQ7Fz585S265btw5vvvkmzp8/r7Qk\n",
              "IiJSWYUunXVyckLr1q0RHByM5s2bIy8vr0SbrKwspKamwt/fHwCg1+tx+/ZtXLt2rUTbS5cu4fvv\n",
              "v8enn35akXKIiEhlisPiwIEDGD58OGbMmAEAuHz5Mj7//PMS7QwGA1xdXWFnV7TzIkkStFqtZYjz\n",
              "p/Lz8xEeHo45c+bAxoa3fRARWSPFn86rV69GfHw86tWrB6DovovnA0CJ5cuXo2/fvmjZsmWF10FE\n",
              "ROpSfM7CxsYGzs7OxebZ29uXaKfVapGRkYGCggLY2dlBCAGDwVDiR5JOnToFg8GA2NhYFBQUwGg0\n",
              "QqfTYceOHahfv77S8oiISAWKw8LR0RGZmZmWu7iPHTuGN954o0Q7FxcXeHp6YteuXQgICEBiYiLc\n",
              "3Nzg4eFRrN3mzZstj2/evIlBgwYhOTlZaVlERKQixWExbdo0jBs3Djdu3EBQUBBu3ryJ1atXl9o2\n",
              "MjISM2bMwKpVq+Do6Ijo6GgAQFhYGHQ6HXx9fV+ueiIiqhKKwsJsNsNsNmPDhg04c+YMAKBLly6W\n",
              "8xfPa9GiBeLi4krMnzdvXqntmzRpwnssiIiskKKwsLGxQXh4OHbt2gUfHx+1aiIiIiuj+GqoZs2a\n",
              "lXqvBBER1VyKz1ncv38fgwYNQpcuXYoNHLh8+fJKLYyIiKxHucMiPDwcc+fOxeDBg6HT6Uq9AoqI\n",
              "iGqmcodFamoqAGDw4MEYPHgw/v73v6tWFBERWZcKja8hhKjsOoiIyIqVe88iNzcXFy9ehBACJpPJ\n",
              "8viptm3bqlIgERFVv3KHhclkwmeffWaZfvaxJEn44YcfKrcyIiKyGuUOCw7BQUT0+uKY4EREJIth\n",
              "QUREshgWREQki2FBRESyGBZERCSLYUFERLIYFkREJIthQUREshQPUa5EWloaQkNDkZ2dDY1Gg5iY\n",
              "GLRq1apYm2PHjmHRokV4/PgxJEmCj48Ppk2bBhsb5hgRkbVQ9RM5IiICgYGBSExMxLhx4xAaGlqi\n",
              "zRtvvIElS5Zg3759iI+Px9mzZ5GQkKBmWUREpJBqYZGVlYXU1FT4+/sDAPR6PW7fvl3iV/bat2+P\n",
              "pk2bAgBq1aqFdu3a4datW2qVRUREFaBaWBgMBri6usLOruhIlyRJ0Gq1SE9Pf+FzMjIykJiYiN69\n",
              "e6tVFhERVYDVnBgwGo2YMGECQkJC0LFjx+ouh4iInqFaWGi1WmRkZKCgoABA0Q8mGQwGuLu7l2hr\n",
              "NBoREhICX19fjB07Vq2SiIioglQLCxcXF3h6emLXrl0AgMTERLi5ucHDw6NYu5ycHISEhKBnz56Y\n",
              "OHGiWuUQEdFLUPXS2cjISMyYMQOrVq2Co6MjoqOjAQBhYWHQ6XTw9fXFhg0b8O9//xtPnjxBUlIS\n",
              "AOD9998v9uNKRERUvVQNixYtWiAuLq7E/Hnz5lkef/bZZwwGIiIrZzUnuImIyHoxLIiISBbDgoiI\n",
              "ZDEsiIhIFsOCiIhkMSyIiEgWw4KIiGQxLIiISBbDgoiIZDEsiIhIFsOCiIhkMSyIiEgWw4KIiGQx\n",
              "LIiISBbDgoiIZDEsiIhIFsOCiIhkqRoWaWlpGDFiBPR6PYYMGYJLly6V2m779u3o168f/Pz8MGvW\n",
              "LOTn56tZFhERKaRqWERERCAwMBCJiYkYN24cQkNDS7S5ceMGli5ditjYWCQlJSEzMxPbtm1Tsywi\n",
              "IlJItbDIyspCamoq/P39AQB6vR63b9/GtWvXirVLTEyETqeDq6srJElCUFAQ9uzZo1ZZRERUAXZq\n",
              "rdhgMMDV1RV2dkUvIUkStFot0tPT4eHhUaxd48aNLdONGzeGwWBQq6xS/V9DTZU8h4joWa/SZ49q\n",
              "YVGVbt68iejo6Ao/v9H//6fIVSA6+kCFX5OIqDo+e9zd3TF69GjFz1MtLLRaLTIyMlBQUAA7OzsI\n",
              "IWAwGODu7l6i3fXr1y3Tt27dglarVfRaK1asqJSaiYiodKqds3BxcYGnpyd27doFoOjchJubW7FD\n",
              "UEDRuYzk5GRkZGRACIEtW7bggw8+UKssIiKqAEkIIdRa+ZUrVzBjxgzcv38fjo6OiI6ORps2bRAW\n",
              "FgadTgdfX18AwLZt27B69WoAwDvvvIPIyEjY29urVRYRESmkalgQEVHNwDu4iYhIFsOCiIhkMSyI\n",
              "iEgWw4KIiGQxLIiISFaNuIO7PNLS0hAaGors7GxoNBrExMSgVatWxdqYzWYsXLgQR44cQUFBAd5+\n",
              "+23Mnj0bDg4OAIDVq1cjISEB9vb2qFWrFmbNmoW33noLd+7cwcyZM3Hz5k04ODigWbNmiIyMRP36\n",
              "9QEAOp0O9vb2qF27NgBg/Pjx+M1vflOlNQJAmzZt0Lp1a9jYFH1HCA8PR9euXQEA586dQ3h4OEwm\n",
              "E9zc3LBw4UK4ublVeV9evHgRX331lWU9jx49gtFoxMmTJ6u8L9euXYuEhASYzWY0b94c0dHRqFev\n",
              "nmx/VXVfvqhOa9ouy+rLytgu1ayxsrZJAIiKikJycjJu3bqFhIQEtGvXrtR227dvx5o1a2A2m+Hl\n",
              "5YWvv/7acjuBGsvKRbwmgoODxc6dO4UQQuzfv18EBASUaBMXFyeCg4OFyWQSZrNZhIWFiTVr1ggh\n",
              "hDh//rzo3bu3MBqNQgghEhISxJAhQ4QQQmRkZIhTp05Z1hMTEyOmT59ume7Tp484f/58tdYohBCt\n",
              "W7cWDx48KLHOwsJC4efnJ44dOyaEEGLt2rVi8uTJ1VbnsyIjI8WcOXMs01XVlz/++KPo37+/ePTo\n",
              "kRBCiBUrVojZs2cLIcrur6ruy7LqtJbtsqwahaic7VLtGp9V0W1SCCFOnjwpDAZDmc+5fv26eO+9\n",
              "98Tdu3eF2WwW48ePF5s2bVJtWXm9FoehyjsC7oULF/Duu+/CwcEBkiTB29sb3333HYCigRDz8/Px\n",
              "5MkTAEXfLho1KhrVpUGDBpZvQgDQqVMn3Lp1y6pqLEtqaipsbW3h5eUFABg+fDgOHToEk8lUrXWa\n",
              "TCbs3r0bQ4cOlX0PlV3jhQsX8Otf/xoaTdGgbT4+PpZlZfVXVfdlWXVay3ZZVo1lKW9fVmWNFd0m\n",
              "n+rWrZvs32RZI3Grsay8XouwKGsE3Gd5enoiOTkZRqMR+fn52L9/v+WPq23bthgzZgx8fX3h7e2N\n",
              "devWITw8vMRrFRYWIjY21nJ3+lNfffUVBg4ciJkzZ+LevXvVVuOYMWPg7++P6OhoPH782PLaz478\n",
              "q9FooNFocPfu3Wrty4MHD6Jp06YldtWroi89PT1x9OhRyzA0u3fvRk5ODu7fv19mf1V1X5ZV57Oq\n",
              "c7ssT40vs11WZT9WdJtUoqyRuNVYVl6vRViUV0BAAHr16oWPP/4YwcHBaNasmWUDvHHjBpKSknDw\n",
              "4EEcPnwYY8aMwZdfflns+UIIREZGol69ehg1apRl/qZNm7B7927Ex8fD2dkZ06dPr5YaDx06hPj4\n",
              "eGzduhX37t3DggULKlyHmnU+tWPHDgwZMqTYvKrqSy8vL3zyyScYP348AgMDLcf5ny6vSi9bZ3Vv\n",
              "l3I1VtV2WRn/32pvk1ZN0UGrV1RmZqbo0qWLyM/PF0IIYTabxbvvvivS0tLKfN6ePXtEUFCQEKLo\n",
              "eOmsWbMsy3JyckTr1q2FyWSyzJszZ44ICQkpNu95d+7cEZ07d662Gp86c+aMGDBggBBCiHPnzgm9\n",
              "Xm9Z9ujRI+Hp6Slyc3Orrc7r16+LTp06lXos+yk1+/J5Z8+eFd7e3kKIsvurqvuyrDqfqu7tsjw1\n",
              "PlWR7bKqanyZbfJ5ZZ2zWLNmjQgPD7dMp6SkiBEjRqi2rLxeiz2L8o6AazKZ8ODBAwDAvXv3sHr1\n",
              "aoSEhAAAmjZtijNnziAnJwcAkJKSgmbNmlmupIiKisK1a9ewYsUKyzwAePz4MR4+fGiZ3rt3L9q3\n",
              "b1/lNT548MByjsBsNmPfvn2WXekOHTqgoKAAx48fBwDExcVBp9OhVq1a1dKXALBz5074+flZrpip\n",
              "6r4EYDnc8eTJEyxbtsyyrKz+quq+LKtOwDq2y7JqrIztsir6EXi5bVKJskbiVmNZeb02AwmWZwTc\n",
              "zMxMBAcHw8bGBmazGaNGjUJQUBCAol35xYsXIykpCQ4ODqhbty5mzZqFDh064J///CdGjhyJFi1a\n",
              "WP4gmzRpghUrVuDGjRuYPHkyCgsLLfPDwsLQpEmTKq3x7NmziIiIgCRJKCwsRPv27REWFgYnJycA\n",
              "sCzPy8tDw4YNsWDBghf+roiadQJFHxp9+vTB/PnzLSc3AVRpXwLAwIEDYTabkZ+fD39/f3z++eeQ\n",
              "JEm2v6qyL8uq01q2y7JqrKztUu3/78rYJgEgIiICKSkpyMzMhJOTExwdHZGUlKRoJG41lpXHaxMW\n",
              "RERUca/FYSgiIno5DAsiIpLFsCAiIlkMCyIiksWwICIiWQwLIiKSxbAgIiJZDAsiIpLFsCAiIlkM\n",
              "CyIiksWwICIiWf8PHMUuTHupamUAAAAASUVORK5CYII=\n",
              "\">\n",
              "        \n",
              "      </div>\n",
              "      <script></script>\n",
              "      <script type=\"text/javascript\">\n",
              "        (() => {\n",
              "          const chartElement = document.getElementById(\"chart-12a67aa9-9820-4656-9835-5f40195543bb\");\n",
              "          async function getCodeForChartHandler(event) {\n",
              "            const chartCodeResponse =  await google.colab.kernel.invokeFunction(\n",
              "                'getCodeForChart', [\"chart-12a67aa9-9820-4656-9835-5f40195543bb\"], {});\n",
              "            const responseJson = chartCodeResponse.data['application/json'];\n",
              "            await google.colab.notebook.addCell(responseJson.code, 'code');\n",
              "          }\n",
              "          chartElement.onclick = getCodeForChartHandler;\n",
              "        })();\n",
              "      </script>\n",
              "      <style>\n",
              "        .colab-quickchart-chart-with-code  {\n",
              "            display: block;\n",
              "            float: left;\n",
              "            border: 1px solid transparent;\n",
              "        }\n",
              "\n",
              "        .colab-quickchart-chart-with-code:hover {\n",
              "            cursor: pointer;\n",
              "            border: 1px solid #aaa;\n",
              "        }\n",
              "      </style>"
            ]
          },
          "metadata": {}
        },
        {
          "output_type": "display_data",
          "data": {
            "text/plain": [
              "import numpy as np\n",
              "from google.colab import autoviz\n",
              "\n",
              "def histogram(df, colname, num_bins=20, figscale=1):\n",
              "  from matplotlib import pyplot as plt\n",
              "  df[colname].plot(kind='hist', bins=num_bins, title=colname, figsize=(8*figscale, 4*figscale))\n",
              "  plt.gca().spines[['top', 'right',]].set_visible(False)\n",
              "  plt.tight_layout()\n",
              "  return autoviz.MplChart.from_current_mpl_state()\n",
              "\n",
              "chart = histogram(correlation, *['Tempo_Entrega'], **{})\n",
              "chart"
            ],
            "text/html": [
              "      <div class=\"colab-quickchart-chart-with-code\" id=\"chart-a9eae8a5-f4d2-4897-a4ef-9ecd8d5198c8\">\n",
              "        <img src=\"data:image/png;base64,iVBORw0KGgoAAAANSUhEUgAAAYsAAADECAYAAABumQ2GAAAAOXRFWHRTb2Z0d2FyZQBNYXRwbG90\n",
              "bGliIHZlcnNpb24zLjcuMSwgaHR0cHM6Ly9tYXRwbG90bGliLm9yZy/bCgiHAAAACXBIWXMAAA9h\n",
              "AAAPYQGoP6dpAAAdhElEQVR4nO3de1hUdf4H8Pdw88KIeMFhUMPLz0tiFwyTdV3MAcXWJMUWoSK1\n",
              "MMpWra0tLoJCuGBumau2eXlKyxteiNCMCQOL3cza1dXINF0FLwwIyMVB5TLz/f3Bz/NzRDkMcmDU\n",
              "9+t5fB7OOd8585mvh3lzbt+jEkIIEBERNcGuvQsgIiLbx7AgIiJZDAsiIpLFsCAiIlkMCyIiksWw\n",
              "ICIiWQwLIiKSxbAgIiJZDAsiIpLFsCAiIlkO7V0A0TXe3t7Sz3V1dTCZTOjYsaM0b+3atfDx8WmP\n",
              "0lpEp9OhpKQEDg6Wv2YfffSRxWdtypAhQ/Dxxx9j9OjRSpRI1GwMC7IZhw4dkn5etmwZDh48iE8/\n",
              "/bQdK7p98fHx+MMf/qDoe9TW1sLJyUnR9yDiYSi6I9TU1OC9995DQEAARo4ciWeeeQZHjx6Vlq9Y\n",
              "sQJhYWFYvnw5xowZgxEjRuCdd95BZWUlXn31VTzyyCPQ6XTYu3ev9Jq0tDT4+flhw4YN8PPzw6hR\n",
              "oxAdHY3q6mqpTXFxMebPn4/Ro0dj9OjRePXVV1FcXNwqn+lazStXrsSYMWPw6KOPIj4+HvX19QCA\n",
              "SZMmAQBeeukleHt7IyIiAgAQFRWF+fPnY+HChfD19cWcOXMAAIcPH0Z4eDhGjRqFcePG4f3335fW\n",
              "BQBHjhzBtGnT4O3tjeDgYHz88ccYMmSItPzAgQMIDQ3FqFGjMHLkSDz33HP45ZdfWuWz0p2PYUF3\n",
              "hIULF+LIkSPYuHEj9u/fj8cffxwvvPACqqqqpDZHjhyBq6srcnJysH79emzYsAGzZs3Cs88+ix9/\n",
              "/BHh4eGIiYnBlStXpNeUlpbi2LFjyMzMREZGBn799VckJycDAEwmEyIjI2Fvbw+9Xo/MzEwIIfDy\n",
              "yy/DZDK1yuc6cuQIOnXqhOzsbKSmpiIzMxOff/45AOCLL74AAHz44Yc4dOgQ1q1bJ71u7969eOCB\n",
              "B5Cbm4sVK1bg1KlTmDlzJkJDQ/HPf/4TGzduRHZ2NtauXQsAqKqqwuzZszFu3DgcOHAAS5cuxdat\n",
              "Wy1qcXBwwJtvvonc3Fzk5OTA09MTc+bMQW1tbat8VrqzMSzI5pWXl+Ozzz5DfHw83N3d4eDggGef\n",
              "fRZdunRBTk6O1E6r1WLGjBlwdHTEgw8+iEGDBmH48OHw8fGBnZ0dpkyZgsrKShQUFEivEUIgJiYG\n",
              "nTt3hkajwbx585Ceng6TyYQjR47g2LFjWLhwIbp06QIXFxcsWrQIR48exU8//dSs2pOSkuDj42Px\n",
              "7/ovX3d3d7zwwgtwcnJC//794evriyNHjsiud/jw4Xjqqafg6OiITp06YfPmzRg3bhwmTZoEBwcH\n",
              "9O7dGxEREUhLSwMA5OTkwMHBAXPmzIGTkxMGDhyI8PBwi3U+8sgjGDFiBJycnKBWq/HGG2+gsLAQ\n",
              "p0+fbtZnpbsbz1mQzTtz5gwAICQkxGJ+XV2dxSEhNzc3i+WdOnWymNe5c2cAgNFolOa5uLigS5cu\n",
              "0nSfPn1QV1eH0tJSGAwGdO3aFV27dpWWd+vWDV27dkVhYSEefvhh2doXLFjQ5DmLXr16WUx37tzZ\n",
              "4jDYrfTp08diOj8/HwcOHLC4AMBsNuPa42qKi4vh7u4OO7v///uwd+/eFus4duwY3n//ffz888+o\n",
              "rq6W2l68eFG2Hrr7MSzI5vXs2RMAkJGRAQ8Pj1Zdd1VVFS5duiQFxvnz5+Ho6IiePXtCq9WiqqoK\n",
              "lZWVUmBUVFSgsrKy1eu4FZVK1az5bm5ueOKJJ6RDaDfSaDQoKiqC2WyWQqCwsNCizfz58+Hn54cl\n",
              "S5aga9euqKysxKOPPgo+H40AHoaiO0Dv3r0REBCAxMREnD9/HkDD3sE333yDCxcu3Na6VSoVUlJS\n",
              "cPnyZRQXF2PFihUICgqCvb29dCgrMTERRqMRly5dQmJiIu6//3488MADrfHRZPXs2bNZh4HCwsKg\n",
              "1+vx5Zdfora2FiaTCQUFBfj2228BAOPGjUNdXR1Wr16N2tpanD59Gp988onFOoxGI9RqNbp06YKK\n",
              "igqkpKQo8pnozsSwoDvCu+++Cy8vLzz//PPw9vbGxIkTsX379tv+q7dnz54YPHgwAgMDMXnyZAwc\n",
              "OBAxMTEAAHt7e6xevRp1dXUYP348JkyYgPr6evz973+Hvb19s9afmJgIb29vi3979uxpdn2vv/66\n",
              "dH9JZGTkLds9+OCD+Pjjj7F9+3bpyq558+ZJew8uLi5Ys2YNsrKyMGrUKLz++uuYNm2axSW3f/nL\n",
              "X5CZmYkRI0Zg+vTp8PPza3addPdT8RncdK9KS0vD+++/L/31fa9Zv349tmzZAr1e396l0B2AexZE\n",
              "94j9+/fDYDBACIGffvoJH330ESZPntzeZdEdgie4iVroVkN2dOnSxSb3Vk6dOoU///nPuHTpEnr0\n",
              "6IGgoCC8+OKL7V0W3SF4GIqIiGTxMBQREcliWBARkSyGBRERyWJYEBGRrLsiLDZs2NDeJRAR3dXu\n",
              "irC4cYwbIiJqXXdFWBARkbIUDYukpCTodDoMGTKkySdubd++HRMmTEBAQAAWLFiAuro6JcsiIiIr\n",
              "KRoWgYGB2Lx5c6Nx86939uxZLF++HJs2bUJWVhZKS0uxbds2JcsiIiIrKRoWI0eOhLu7e5Nt9Ho9\n",
              "dDod3NzcoFKpEBYWht27dytZFhERWandz1kYDAaLPY/evXvDYDC0Y0VERHSjdg+L9mYyt3xorNt5\n",
              "LRHd2+607552H3VWq9VKz1gGGh5rqdVq2+z97e1UmL/1EE5eMMo3vs7/9FJjeejNRx0lIpJzp333\n",
              "tHtYBAYGIiwsDHPnzkXPnj2xZcsWTJo0qU1rOHnBiJ8Lq9r0PYmI7qTvHkUPQ8XHx8PPzw9FRUV4\n",
              "4YUXMH78eABAbGwsvv76awBA3759MW/ePISFhWH8+PHo3r07pk+frmRZRERkJUX3LBITE286f/Hi\n",
              "xRbTISEhCAkJUbIUIiK6Dff8CW4iIpLHsCAiIlkMCyIiksWwICIiWQwLIiKSxbAgIiJZDAsiIpLF\n",
              "sCAiIlkMCyIiksWwICIiWQwLIiKSxbAgIiJZDAsiIpLFsCAiIlkMCyIiksWwICIiWQwLIiKSpeiT\n",
              "8vLz8xEVFYXy8nKo1WqkpKRg0KBBFm3MZjOWLFmC3Nxc2Nvbw9XVFUlJSfD09FSyNCIisoLiz+AO\n",
              "CQmBXq/H7NmzERUV1ahNdnY2Dh48iM8//xy7du3Cb37zG7z33ntKlkVERFZSLCzKysqQl5eHoKAg\n",
              "AEBgYCCKiopQUFDQqG1tbS1qamoghIDRaIS7u7tSZRERUQsodhjKYDDAzc0NDg4Nb6FSqaDValFY\n",
              "WGhxiEmn0+HAgQMYM2YMnJ2dodFo8OmnnypVFhERtUC7n+DOy8vDiRMn8O233yI3Nxe+vr5YuHBh\n",
              "e5dFRETXUSwstFotSkpKUF9fDwAQQsBgMMDDw8OiXXp6Onx9feHi4gI7OztMnToVBw4cUKosIiJq\n",
              "AcXCokePHvDy8kJGRgYAQK/XQ6PRNLrKqW/fvvj+++9RW1sLAMjJycHgwYOVKouIiFpA0UtnExIS\n",
              "EB0djdWrV8PZ2RnJyckAgNjYWOh0Ovj7++OZZ57Bf//7Xzz55JNwcHCAm5sbEhISlCyLiIispGhY\n",
              "DBgwAKmpqY3mL168WPrZyckJSUlJSpZBRES3qd1PcBMRke1jWBARkSyGBRERyWJYEBGRLIYFERHJ\n",
              "sjoscnNzlaiDiIhsmNVhsWrVKgQGBmLDhg0wGo1K1ERERDbG6rDYunUrli1bhhMnTiAwMBCLFi3C\n",
              "yZMnlaiNiIhsRIvOWQwbNgxJSUlYt24d9u3bh6CgIMyaNQvHjx9v7fqIiMgGtOgO7u+++w6ffvop\n",
              "fv31Vzz99NN46qmn8MMPP+CPf/wjsrKyWrtGIiJqZ1aHxeOPP45u3bohPDwcEyZMgL29PQBg4sSJ\n",
              "2LFjR6sXSERE7c/qsFi6dCmGDx9+02Xr1q277YKIiMj2WH3O4ueff0ZFRYU0XV5ejm3btrVmTURE\n",
              "ZGOsDovNmzfD1dVVmu7WrRs2b97cmjUREZGNsToshBCN5plMplYphoiIbJPVYeHm5oY9e/ZI03v2\n",
              "7EGvXr1atSgiIrItVp/gjomJwZw5c/DXv/4VANCxY0d88MEHrV4YERHZDqvDYuDAgdizZw9Onz4N\n",
              "AOjfv790+eyN8vPzERUVhfLycqjVaqSkpGDQoEGN2h0/fhxJSUkoLS0FALz22muYMGGCtaUREZFC\n",
              "WnRTnkqlQpcuXWAymVBcXAwA8PDwaNQuPj4eISEhCA4ORmZmJqKiorBz506LNleuXMGcOXOwZMkS\n",
              "+Pj4wGQyobKysiVlERGRQqwOi7S0NCQlJcHR0REqlQpAQ3js37/fol1ZWRny8vLw0UcfAQACAwPx\n",
              "9ttvo6CgAJ6enlK73bt34+GHH4aPjw8AwN7eHt27d2/xByIiotZndVh88MEH2LFjBwYMGNBkO4PB\n",
              "ADc3Nzg4NLyFSqWCVqtFYWGhRVicPHkSTk5OiIyMRFFREYYMGYKoqCgGBhGRDbH6aqhu3brJBoU1\n",
              "TCYTvvvuOyQmJiI9PR0ajQaLFi1qtfUTEdHtszosAgICsH79epSVlcFoNEr/bqTValFSUoL6+noA\n",
              "DfdnGAyGRuc2tFotRo0aBY1GA5VKhaCgIPznP/9p2achIiJFWH0YatmyZQCAlJQUqFQqCCGgUqnw\n",
              "yy+/WLTr0aMHvLy8kJGRgeDgYOj1emg0GotDUEDDwIQ7duyA0WiEWq3GN998g6FDh97GRyIiotZm\n",
              "dVgcO3as2W0TEhIQHR2N1atXw9nZGcnJyQCA2NhY6HQ6+Pv7w8PDA5GRkQgNDYVKpYJGo8Hbb79t\n",
              "bVlERKSgFl06m5eXh5MnT2LKlCmoqqrC1atXb3oX94ABA5Camtpo/uLFiy2mp0yZgilTprSkFCIi\n",
              "agNWn7PYtGkTYmJisHLlSgBARUUFXn/99VYvjIiIbIfVYbFt2zZs27YNarUaAHDfffehvLy81Qsj\n",
              "IiLbYXVYODk5oWPHjhbzbjXcBxER3R2sDovu3bvj9OnT0t3baWlp0Gq1rV4YERHZjhaNOvunP/0J\n",
              "p06dwtixY6FWq/Hhhx8qURsREdkIq8PC09MT27dvx+nTpyGEaHLUWSIiujtYHRaFhYUAgE6dOgFA\n",
              "k6POEhHR3cHqsAgODpbu3K6pqcHVq1fh6uraaNRZIiK6e1gdFt9//73F9FdffWXVXd1ERHTnsfpq\n",
              "qBtNmDAB+/bta4VSiIjIVlm9Z3H9CLMmkwmHDx9GdXV1qxZFRES2xeqw8PHxkc5Z2Nvbw9PTE7Gx\n",
              "sUrURkRENkLRUWeJiOjucNvnLIiI6O5n9Z7F0KFDpaE+rnerhyAREdGdz+qwmDdvHmpqahAWFgYA\n",
              "2LJlCzp27IgZM2a0enFERGQbrD4MtXfvXrz22mtwd3eHu7s7XnvtNWRlZaFz587o3LmzEjUSEVE7\n",
              "szosqqurUVZWJk2XlZXx0lkioruc1YehZs2ahSeffBJ+fn4AgNzcXMydO/embfPz8xEVFYXy8nKo\n",
              "1WqkpKRg0KBBN20rhMCMGTNw9OhR/Otf/7K2LCIiUpDVYREaGooRI0bgwIEDABrC41YBEB8fj5CQ\n",
              "EAQHByMzMxNRUVHYuXPnTduuX78e9913H44ePWptSUREpLAWXTrr6uqKwYMHIzw8HP3790dtbW2j\n",
              "NmVlZcjLy0NQUBAAIDAwEEVFRSgoKGjU9sSJE9i7dy9efPHFlpRDREQKszosMjMzMX36dERHRwMA\n",
              "Tp48iVdeeaVRO4PBADc3Nzg4NOy8qFQqaLVaaYjza+rq6hAXF4fExETY2fG2DyIiW2T1t/OaNWuQ\n",
              "lpYGFxcXAA33XdwYANZYuXIlxo8fj4EDB7Z4HUREpCyrz1nY2dmhW7duFvMcHR0btdNqtSgpKUF9\n",
              "fT0cHBwghIDBYGj0kKQff/wRBoMBmzZtQn19PYxGI3Q6HXbs2IHu3btbWx4RESnA6rBwdnZGaWmp\n",
              "dBf3/v370bVr10btevToAS8vL2RkZCA4OBh6vR4ajQaenp4W7TZv3iz9fO7cOUyZMgXZ2dnWlkVE\n",
              "RAqyOizeeOMNzJ49G2fPnkVYWBjOnTuHNWvW3LRtQkICoqOjsXr1ajg7OyM5ORkAEBsbC51OB39/\n",
              "/9urnoiI2oRVYWE2m2E2m/HJJ5/g4MGDAABvb2/p/MWNBgwYgNTU1EbzFy9efNP2ffr04T0WREQ2\n",
              "yKqwsLOzQ1xcHDIyMjB27FilaiIiIhtj9dVQ/fr1u+m9EkREdPey+pxFRUUFpkyZAm9vb4uBA1eu\n",
              "XNmqhRERke1odljExcXh7bffxtSpU6HT6W56BRQREd2dmh0WeXl5AICpU6di6tSp+OyzzxQrioiI\n",
              "bEuLxtcQQrR2HUREZMOavWdx9epVHD9+HEII1NTUSD9fM3ToUEUKJCKi9tfssKipqcHLL78sTV//\n",
              "s0qlwtdff926lRERkc1odlhwCA4ionsXxwQnIiJZDAsiIpLFsCAiIlkMCyIiksWwICIiWQwLIiKS\n",
              "xbAgIiJZDAsiIpJl9RDl1sjPz0dUVBTKy8uhVquRkpKCQYMGWbTZv38/3n33XVy+fBkqlQpjx47F\n",
              "G2+8ATs75hgRka1Q9Bs5Pj4eISEh0Ov1mD17NqKiohq16dq1K5YtW4Y9e/YgLS0Nhw4dQnp6upJl\n",
              "ERGRlRQLi7KyMuTl5SEoKAgAEBgYiKKiokZP2Rs2bBj69u0LAOjQoQPuv/9+nD9/XqmyiIioBRQL\n",
              "C4PBADc3Nzg4NBzpUqlU0Gq1KCwsvOVrSkpKoNfr8dhjjylVFhERtYDNnBgwGo146aWXEBERgQce\n",
              "eKC9yyEiousoFhZarRYlJSWor68H0PDAJIPBAA8Pj0ZtjUYjIiIi4O/vj1mzZilVEhERtZBiYdGj\n",
              "Rw94eXkhIyMDAKDX66HRaODp6WnRrrq6GhERERgzZgzmzJmjVDlERHQbFL10NiEhAdHR0Vi9ejWc\n",
              "nZ2RnJwMAIiNjYVOp4O/vz8++eQT/PTTT7hy5QqysrIAABMnTrR4uBIREbUvRcNiwIABSE1NbTR/\n",
              "8eLF0s8vv/wyg4GIyMbZzAluIiKyXQwLIiKSxbAgIiJZDAsiIpLFsCAiIlkMCyIiksWwICIiWQwL\n",
              "IiKSxbAgIiJZDAsiIpLFsCAiIlkMCyIiksWwICIiWQwLIiKSxbAgIiJZDAsiIpLFsCAiIlmKhkV+\n",
              "fj5CQ0MRGBiIadOm4cSJEzdtt337dkyYMAEBAQFYsGAB6urqlCyLiIispGhYxMfHIyQkBHq9HrNn\n",
              "z0ZUVFSjNmfPnsXy5cuxadMmZGVlobS0FNu2bVOyLCIispJiYVFWVoa8vDwEBQUBAAIDA1FUVISC\n",
              "ggKLdnq9HjqdDm5ublCpVAgLC8Pu3buVKouIiFrAQakVGwwGuLm5wcGh4S1UKhW0Wi0KCwvh6elp\n",
              "0a53797SdO/evWEwGJQq66b+p5e6TV5DRHS9O+m7R7GwaEvnzp1DcnJyi1/v/n//rHIaSE7ObPF7\n",
              "EhG1x3ePh4cHZsyYYfXrFAsLrVaLkpIS1NfXw8HBAUIIGAwGeHh4NGp35swZafr8+fPQarVWvdeq\n",
              "VatapWYiIro5xc5Z9OjRA15eXsjIyADQcG5Co9FYHIICGs5lZGdno6SkBEIIbNmyBZMmTVKqLCIi\n",
              "agGVEEIotfJTp04hOjoaFRUVcHZ2RnJyMoYMGYLY2FjodDr4+/sDALZt24Y1a9YAAB599FEkJCTA\n",
              "0dFRqbKIiMhKioYFERHdHXgHNxERyWJYEBGRLIYFERHJYlgQEZEshgUREcm6K+7gbo78/HxERUWh\n",
              "vLwcarUaKSkpGDRokEUbs9mMpUuXIjc3F/X19RgxYgQWLVoEJycnAMCaNWuQnp4OR0dHdOjQAQsW\n",
              "LMCDDz6I4uJixMTE4Ny5c3ByckK/fv2QkJCA7t27AwB0Oh0cHR3RsWNHAEBkZCR+//vft2mNADBk\n",
              "yBAMHjwYdnYNfyPExcXBx8cHAHD48GHExcWhpqYGGo0GS5cuhUajafO+PH78ON58801pPZcuXYLR\n",
              "aMQPP/zQ5n25bt06pKenw2w2o3///khOToaLi4tsf7V1X96qTlvaLpvqy9bYLpWssbW2SQBISkpC\n",
              "dnY2zp8/j/T0dNx///03bbd9+3asXbsWZrMZvr6+WLhwoXQ7gRLLmkXcI8LDw8XOnTuFEEJ8+eWX\n",
              "Ijg4uFGb1NRUER4eLmpqaoTZbBaxsbFi7dq1Qgghjh49Kh577DFhNBqFEEKkp6eLadOmCSGEKCkp\n",
              "ET/++KO0npSUFPHWW29J0+PGjRNHjx5t1xqFEGLw4MGisrKy0TpNJpMICAgQ+/fvF0IIsW7dOjF3\n",
              "7tx2q/N6CQkJIjExUZpuq778xz/+IR5//HFx6dIlIYQQq1atEosWLRJCNN1fbd2XTdVpK9tlUzUK\n",
              "0TrbpdI1Xq+l26QQQvzwww/CYDA0+ZozZ86I3/72t+LChQvCbDaLyMhIsXHjRsWWNdc9cRiquSPg\n",
              "Hjt2DKNHj4aTkxNUKhX8/Pzw+eefA2gYCLGurg5XrlwB0PDXhbt7w6guPXv2lP4SAoCHHnoI58+f\n",
              "t6kam5KXlwd7e3v4+voCAKZPn46cnBzU1NS0a501NTXYtWsXnnrqKdnP0No1Hjt2DI888gjU6oZB\n",
              "28aOHSsta6q/2rovm6rTVrbLpmpsSnP7si1rbOk2ec3IkSNlfyebGolbiWXNdU+ERVMj4F7Py8sL\n",
              "2dnZMBqNqKurw5dffin9cg0dOhQzZ86Ev78//Pz8sH79esTFxTV6L5PJhE2bNkl3p1/z5ptvYvLk\n",
              "yYiJicHFixfbrcaZM2ciKCgIycnJuHz5svTe14/8q1aroVarceHChXbty6+++gp9+/ZttKveFn3p\n",
              "5eWF7777ThqGZteuXaiurkZFRUWT/dXWfdlUnddrz+2yOTXeznbZlv3Y0m3SGk2NxK3Esua6J8Ki\n",
              "uYKDg/G73/0Ozz77LMLDw9GvXz9pAzx79iyysrLw1Vdf4dtvv8XMmTPx6quvWrxeCIGEhAS4uLjg\n",
              "ueeek+Zv3LgRu3btQlpaGrp164a33nqrXWrMyclBWloatm7diosXL+Kdd95pcR1K1nnNjh07MG3a\n",
              "NIt5bdWXvr6+eP755xEZGYmQkBDpOP+15W3pduts7+1Srsa22i5b4/9b6W3Spll10OoOVVpaKry9\n",
              "vUVdXZ0QQgiz2SxGjx4t8vPzm3zd7t27RVhYmBCi4XjpggULpGXV1dVi8ODBoqamRpqXmJgoIiIi\n",
              "LObdqLi4WDz88MPtVuM1Bw8eFE888YQQQojDhw+LwMBAadmlS5eEl5eXuHr1arvVeebMGfHQQw/d\n",
              "9Fj2NUr25Y0OHTok/Pz8hBBN91db92VTdV7T3ttlc2q8piXbZVvVeDvb5I2aOmexdu1aERcXJ03v\n",
              "27dPhIaGKrasue6JPYvmjoBbU1ODyspKAMDFixexZs0aREREAAD69u2LgwcPorq6GgCwb98+9OvX\n",
              "T7qSIikpCQUFBVi1apU0DwAuX76MqqoqafqLL77AsGHD2rzGyspK6RyB2WzGnj17pF3p4cOHo76+\n",
              "Ht9//z0AIDU1FTqdDh06dGiXvgSAnTt3IiAgQLpipq37EoB0uOPKlSv429/+Ji1rqr/aui+bqhOw\n",
              "je2yqRpbY7tsi34Ebm+btEZTI3Ersay57pmBBJszAm5paSnCw8NhZ2cHs9mM5557DmFhYQAaduXf\n",
              "e+89ZGVlwcnJCZ07d8aCBQswfPhw/Pvf/8bTTz+NAQMGSL+Qffr0wapVq3D27FnMnTsXJpNJmh8b\n",
              "G4s+ffq0aY2HDh1CfHw8VCoVTCYThg0bhtjYWLi6ugKAtLy2tha9evXCO++8c8vniihZJ9DwpTFu\n",
              "3DgsWbJEOrkJoE37EgAmT54Ms9mMuro6BAUF4ZVXXoFKpZLtr7bsy6bqtJXtsqkaW2u7VPr/uzW2\n",
              "SQCIj4/Hvn37UFpaCldXVzg7OyMrK8uqkbiVWNYc90xYEBFRy90Th6GIiOj2MCyIiEgWw4KIiGQx\n",
              "LIiISBbDgoiIZDEsiIhIFsOCiIhkMSyIiEgWw4KIiGQxLIiISBbDgoiIZP0vE9DIAqUtpIMAAAAA\n",
              "SUVORK5CYII=\n",
              "\">\n",
              "        \n",
              "      </div>\n",
              "      <script></script>\n",
              "      <script type=\"text/javascript\">\n",
              "        (() => {\n",
              "          const chartElement = document.getElementById(\"chart-a9eae8a5-f4d2-4897-a4ef-9ecd8d5198c8\");\n",
              "          async function getCodeForChartHandler(event) {\n",
              "            const chartCodeResponse =  await google.colab.kernel.invokeFunction(\n",
              "                'getCodeForChart', [\"chart-a9eae8a5-f4d2-4897-a4ef-9ecd8d5198c8\"], {});\n",
              "            const responseJson = chartCodeResponse.data['application/json'];\n",
              "            await google.colab.notebook.addCell(responseJson.code, 'code');\n",
              "          }\n",
              "          chartElement.onclick = getCodeForChartHandler;\n",
              "        })();\n",
              "      </script>\n",
              "      <style>\n",
              "        .colab-quickchart-chart-with-code  {\n",
              "            display: block;\n",
              "            float: left;\n",
              "            border: 1px solid transparent;\n",
              "        }\n",
              "\n",
              "        .colab-quickchart-chart-with-code:hover {\n",
              "            cursor: pointer;\n",
              "            border: 1px solid #aaa;\n",
              "        }\n",
              "      </style>"
            ]
          },
          "metadata": {}
        },
        {
          "output_type": "display_data",
          "data": {
            "text/plain": [
              "<google.colab._quickchart_helpers.SectionTitle at 0x785be64db1f0>"
            ],
            "text/html": [
              "<h4 class=\"colab-quickchart-section-title\">2-d distributions</h4>\n",
              "<style>\n",
              "  .colab-quickchart-section-title {\n",
              "      clear: both;\n",
              "  }\n",
              "</style>"
            ]
          },
          "metadata": {}
        },
        {
          "output_type": "display_data",
          "data": {
            "text/plain": [
              "import numpy as np\n",
              "from google.colab import autoviz\n",
              "\n",
              "def scatter_plots(df, colname_pairs, figscale=1, alpha=.8):\n",
              "  from matplotlib import pyplot as plt\n",
              "  plt.figure(figsize=(len(colname_pairs) * 6 * figscale, 6 * figscale))\n",
              "  for plot_i, (x_colname, y_colname) in enumerate(colname_pairs, start=1):\n",
              "    ax = plt.subplot(1, len(colname_pairs), plot_i)\n",
              "    df.plot(kind='scatter', x=x_colname, y=y_colname, s=(32 * figscale), alpha=alpha, ax=ax)\n",
              "    ax.spines[['top', 'right',]].set_visible(False)\n",
              "  plt.tight_layout()\n",
              "  return autoviz.MplChart.from_current_mpl_state()\n",
              "\n",
              "chart = scatter_plots(correlation, *[[['Num_caixas', 'Tempo_Entrega']]], **{})\n",
              "chart"
            ],
            "text/html": [
              "      <div class=\"colab-quickchart-chart-with-code\" id=\"chart-fdba5113-4306-47a3-8b2d-96600c5c5a2d\">\n",
              "        <img src=\"data:image/png;base64,iVBORw0KGgoAAAANSUhEUgAAASkAAAEoCAYAAAAExQcnAAAAOXRFWHRTb2Z0d2FyZQBNYXRwbG90\n",
              "bGliIHZlcnNpb24zLjcuMSwgaHR0cHM6Ly9tYXRwbG90bGliLm9yZy/bCgiHAAAACXBIWXMAAA9h\n",
              "AAAPYQGoP6dpAAArqElEQVR4nO3df1iUdb7/8efwY+CCWSwNYfxtB7HEbDMztKPmgIfUpHbol8Ig\n",
              "q16HbT1kZy9TCXWh9RKM7dRadFbwOlublpQaasaq50JP5q9K02INz9nLIBdGRUAcUIcZ5vP9g6/3\n",
              "aVZtGZuJ29P7cV1dl3N/Pvf9+XwgX96fe+77/hiUUgohhNCpoJ7ugBBCfBcJKSGErklICSF0TUJK\n",
              "CKFrElJCCF2TkBJC6JqElBBC1ySkhBC6JiElhNA1Canv8Oabb/Z0F4T40ZOQ+g4NDQ093QUhfvQk\n",
              "pIQQuiYhJYTQNQkpIYSuSUgJIXRNQkoIoWsBD6kVK1ZgsVgYPnw4X3311XXrvffee/zTP/0TycnJ\n",
              "LF26FJfLFdAyIcTNIeAhlZKSwttvv03//v2vW+fUqVP87ne/Y/369ezatYtz587x7rvvBqzMX/b/\n",
              "5Ry/XH+Eqb/7iF+uP8L+v5zz6/GFED9ASN13333ExsZ+Z50dO3ZgsViIjo7GYDAwc+ZMPvjgg4CV\n",
              "+cP+v5xjyeYv+eTrJhyX3XzydRNLNn8pQSWEn+nimpTdbvc60+rfvz92uz1gZf6w7tA3XOxwExsV\n",
              "zq0RRmKjwrnY4Wb9oW/81oYQQichdTP6+lwb4aHBGAwGAAwGA+GhwZw819bDPRPi/xZdhJTZbKa+\n",
              "vl77XF9fj9lsDliZPwy9zcRlVydXFttRSnHZ1cnt0Sa/tSGE0ElIpaSkUFVVRWNjI0op3nnnHaZP\n",
              "nx6wMn/IuH8QEcYQTl+4TMvFDk5fuEyEMYT0+wf5rQ0hBIQEuoHly5ezZ88ezp07x9y5c4mMjGTX\n",
              "rl3k5eVhsVhISkpi4MCBPPPMM8ycOROAsWPH8uSTTwIEpMwfxsfdRpH1LtYf+oaT59q4e8AtpCcO\n",
              "Yvw/3Oa3NoQQYJDFQa+vsLCQ3Nzcnu6GED9qupjuCSHE9UhICSF0TUJKCKFrElJCCF2TkBJC6JqE\n",
              "lBBC1ySkhBC6JiElhNA1CSkhhK5JSAkhdE1CSgihaxJSQghdk5ASQuiahJQQQtckpIQQuiYhJYTQ\n",
              "NQkpIYSuSUgJIXRNQkoIoWsSUkIIXZOQEkLomoSUEELXAr7uXm1tLUuWLKGlpQWTyURRURHDhg3z\n",
              "quPxeCguLmbv3r243W5Gjx5Nfn4+RqMRgLVr11JRUYHH42Ho0KEUFhYSFRXFiRMnWLRokXYch8NB\n",
              "W1sbn3zyCQAWi4XQ0FDCw8MByM7OZtq0aYEeshDCn1SA2Ww2tWnTJqWUUpWVlcpqtV5Vp7y8XNls\n",
              "NuV0OpXH41F5eXmqrKxMKaXUxx9/rKZOnaocDodSSqmSkhKVn59/zbYKCgrUCy+8oH2ePHmyOn78\n",
              "+A33feXKlTe8rxDCPwI63WtqaqK6uprU1FSga+nz06dPU1dX51WvpqaG8ePHYzQaMRgMTJw4kS1b\n",
              "tmhl9957LyaTCYBJkyZpZd/mdDrZtm0bjz32WCCHJIT4gQU0pOx2O9HR0YSEdM0qDQYDZrOZhoYG\n",
              "r3oJCQlUVVXR1taGy+WisrKS+vp6rWz//v00NjailGLbtm20t7dz/vx5r2Ps3LmTgQMHcuedd3pt\n",
              "X7RoETNmzOD555+nubk5cIMVQgREwK9JdYfVaqWhoYGMjAzCw8MZN24c+/btAyAxMZE5c+aQnZ1N\n",
              "cHAwU6ZMAdCC74qNGzeSlpbmtW3dunX069cPl8vFK6+8wuLFiykrK/thBiWE8IuAhpTZbKaxsRG3\n",
              "201ISAhKKex2O/369fOqZzAYyMnJIScnB4Dt27cTFxenlaenp5Oeng7A0aNHiY2N1aZ/AKdOneLY\n",
              "sWO8+uqrXse90k5oaCizZ88mJSUlIOMUQgROQKd7ffr0ISEhga1btwKwY8cOYmJiGDx4sFc9p9NJ\n",
              "a2srAM3NzZSWljJv3jyt/OzZswBcunSJ1atXe5UBbNq0ieTkZKKiorRtFy9e5MKFC9rn7du3M2LE\n",
              "CP8OUAgRcAGf7hUUFJCbm8uaNWuIjIyksLAQgLy8PCwWC0lJSTgcDmw2G0FBQXg8HjIzM7FYLNox\n",
              "5s6di8fjweVykZqaSkZGhlbm8Xh4//33WbVqlVe7TU1N5OTk0NnZCcCAAQOuqiOE0D+DUkr1dCf0\n",
              "qrCwkNzc3J7uhhA/anLHuRBC1ySkhBC6JiElhNA1CSkhhK5JSAkhdE1CSgihaxJSQghdk5ASQuia\n",
              "hJQQQtckpIQQuiYhJYTQNQkpIYSuSUgJIXRNQkoIoWsSUkIIXZOQEkLomoSUEELXJKSEELomISWE\n",
              "0DUJKSGErklICSF0LeBLWtXW1rJkyRJaWlowmUwUFRUxbNgwrzoej4fi4mL27t2L2+1m9OjR5Ofn\n",
              "YzQaAVi7di0VFRV4PB6GDh1KYWGhtsbe8OHDiY+PJyioK2+XLVvGmDFjADh27BjLli3D6XQSExND\n",
              "cXExMTExgR6yEMKfVIDZbDa1adMmpZRSlZWVymq1XlWnvLxc2Ww25XQ6lcfjUXl5eaqsrEwppdTH\n",
              "H3+spk6dqhwOh1JKqZKSEpWfn6/tGx8fr1pbW686Zmdnp0pOTlYHDhxQSim1du1alZOT41PfV65c\n",
              "6VN9IYT/BXS619TURHV1NampqQCkpKRw+vRp6urqvOrV1NQwfvx4jEYjBoOBiRMnsmXLFq3s3nvv\n",
              "1ZZVnzRpklb2XaqrqwkODiYxMRGAJ598kt27d+N0Ov05RCFEgAU0pOx2O9HR0YSEdM0qDQYDZrOZ\n",
              "hoYGr3oJCQlUVVXR1taGy+WisrKS+vp6rWz//v00NjailGLbtm20t7dz/vx5bf+srCxSU1MpLCzk\n",
              "4sWLWtv9+/fX6phMJkwmk7ZkuxDi5qCLC+dWq5UJEyaQkZGBzWZjyJAhWrAlJiYyZ84csrOzeeKJ\n",
              "J+jduzeAVr579242b97Mhg0baG5u5sUXX+yxcQgh/C+gF87NZjONjY243W5CQkJQSmG32+nXr59X\n",
              "PYPBQE5ODjk5OQBs376duLg4rTw9PZ309HQAjh49SmxsrDb9u3KsiIgIZs2axfLly7W2r5yNAbS1\n",
              "teFwOOjbt2/gBiyE8LuAnkn16dOHhIQEtm7dCsCOHTuIiYlh8ODBXvWcTietra0ANDc3U1payrx5\n",
              "87TyK1O0S5cusXr1aq2stbWVS5cuAV3fEH744YfceeedAIwcORK3283BgwcBKC8vx2KxEBYWFsAR\n",
              "CyH8LeC3IBQUFJCbm8uaNWuIjIyksLAQgLy8PCwWC0lJSTgcDmw2G0FBQXg8HjIzM7FYLNox5s6d\n",
              "i8fjweVykZqaSkZGBgAnT55k+fLlGAwGOjs7GTFiBHl5eQAEBQVRXFzM8uXL6ejooG/fvjIVFOIm\n",
              "ZFBKqZ7uhF4VFhaSm5vb090Q4kdNFxfOhRDieiSkhBC6JiElhNA1CSkhhK75/O3e5cuXeeutt6ip\n",
              "qfF6xOS1117za8eEEAJu4Exq6dKl1NfX8/nnn3P//ffT0NBw1c2ZQgjhLz6H1IkTJ8jPzycyMhKb\n",
              "zcYf//hH/vznPweib0II4XtIXbljOyQkhIsXL2IymWhubvZ7x4QQAm7gmlSvXr1obW1l4sSJzJ07\n",
              "l1tvvZXY2NhA9E0IIXwPqdLSUoKDg3n22WfZunUrDoeDRx99NABdE0KIGwip4OBgoOvNBY888ojf\n",
              "OySEEN/mc0hZLBYMBoPXtqioKH7605+yYMECbrnlFn/1TQghfA+p1NRUzpw5w2OPPQbA5s2biYqK\n",
              "QinFr3/9a373u9/5vZNCiB8vn0Nq3759vPfee9rn0aNH8/jjj7Nx40amTZvm184JIYTPtyB8+0Vz\n",
              "0PUiOofDASAvlBNC+J3PZ1IPP/wwTzzxBA899BAAO3fuZPr06bS3t3stfCCEEP5wQy+927Nnj/Za\n",
              "3sTERB588EF/90sX5KV3QvS8G3p98AMPPMDtt9/OoEGD/N0fIYTw4vM1qUOHDjF58mQyMzMB+OKL\n",
              "L1i4cKHfOyaEEHADIfXSSy/x9ttva/dDjRo1iq+++srf/RJCCOAGQqqzs/OqaV5oaKjfOiSEEN92\n",
              "Q29BaG9v1+46P3HiBOHh4X7vmBBCwA1cOP/lL3/J3LlzOXPmDAsXLuTAgQP89re/vW792tpalixZ\n",
              "QktLCyaTiaKiIoYNG+ZVx+PxUFxczN69e3G73YwePZr8/HyMRiMAa9eupaKiAo/Hw9ChQyksLCQq\n",
              "KoozZ87w/PPP89e//hWj0ciQIUMoKCjQlmK3WCyEhoZqIZqdnS03nApxs1E+8Hg86syZM+qbb75R\n",
              "69evV+vWrVN1dXXfuY/NZlObNm1SSilVWVmprFbrVXXKy8uVzWZTTqdTeTwelZeXp8rKypRSSn38\n",
              "8cdq6tSpyuFwKKWUKikpUfn5+UoppRobG9Wnn36qHaeoqEgtXrxY+zx58mR1/PhxX4boZeXKlTe8\n",
              "rxDCP3ye7s2ZM4eBAwcya9Ys0tPTv/M2hKamJqqrq0lNTQUgJSWF06dPU1dX51WvpqaG8ePHYzQa\n",
              "MRgMTJw4kS1btmhl9957LyaTCYBJkyZpZbfddhtjxozRjnP33XdTX1/v65CEEDrmU0gZDAZiYmK6\n",
              "/SZOu91OdHQ0ISEh2v5ms5mGhgavegkJCVRVVdHW1obL5aKyslILm4SEBPbv309jYyNKKbZt20Z7\n",
              "ezvnz5/3OkZnZyfr168nKSnJa/uiRYuYMWMGzz//vLxBVIibkM/XpCIjI3n00UeZNGkSERER2vbv\n",
              "c2e21WqloaGBjIwMwsPDGTduHPv27QO67mifM2cO2dnZBAcHM2XKlK6Oh/xv15VSFBQUEBUVpd2/\n",
              "BbBu3Tr69euHy+XilVdeYfHixZSVld1wP4UQPzyfQyo+Pp74+Phu1TWbzTQ2NuJ2uwkJCUEphd1u\n",
              "v2p1GYPBQE5ODjk5OQBs376duLg4rTw9PZ309HQAjh49SmxsrDb9A1ixYgV2u52SkhKCgv735PBK\n",
              "O6GhocyePZuUlBRfhyuE6GE+h1RycjJ33HGH17aamppr1u3Tpw8JCQls3boVq9XKjh07iImJYfDg\n",
              "wV71nE4nly9fplevXjQ3N1NaWsqCBQu08rNnz9K3b18uXbrE6tWrmTdvnla2YsUK6urqeP3117Vv\n",
              "AwEuXryI2+0mKioK6Aq+ESNG+DpcIUQP8zmkcnNzef/99//utisKCgrIzc1lzZo1REZGUlhYCEBe\n",
              "Xh4Wi4WkpCQcDgc2m42goCA8Hg+ZmZlYLBbtGHPnzsXj8eByuUhNTSUjIwOAw4cP89Zbb3H77bfz\n",
              "+OOPAzBgwABKSkpoamoiJyeHzs5ObfuqVat8Ha4Qood1+y0ITU1NNDY28q//+q+88sorXNmtra2N\n",
              "vLw8duzYEdCO9gR5C4IQPa/bZ1IffPABb775JmfPnuXpp5/Wtv/kJz/xmn4JIYQ/dTukZs+ezezZ\n",
              "sykpKWH+/PmB7JMQQmh8viY1f/58PB4PjY2N2vUe4Kpv7IQQwh98Dqn333+f3/zmN4SGhmoPGRsM\n",
              "Bg4cOOD3zgkhhM8hVVJSwsaNG7n99tsD0R8hhPDi87N7t956qwSUEOIH43NIJScn88Ybb9DU1ERb\n",
              "W5v2nxBCBILP072XX34ZgKKiIgwGA0opDAaDvEJYCBEQPofU9R6BEUKIQOj2dO9//ud/tD93dHR4\n",
              "lX3yySf+65EQQnxLt0Nq0aJF2p+ffPJJr7Irz+MJIYS/dTukvv2I398+7tfNx/+EEMJn3Q6pKzdu\n",
              "/u2fr/VZCCH8pdsXzi9fvsyJEydQSnn9+UqZEEIEQrdDyul0er394Nt/ljMpIUSgdDukqqqqulWv\n",
              "o6PD6w2ZQgjxffh8x/nf87ff/AkhxPfh95CSb/qEEP7k95CS61NCCH/ye0gJIYQ/yXRPCKFrfg+p\n",
              "u+++2+tzbW0tTz31FCkpKaSlpXk9A3iFx+Nh1apVPPzwwzz00EM8//zzXs8Hrl27locffphp06Yx\n",
              "f/58Lly4oJUdO3aM1NRUUlJSyMzM5MyZM90qE0LcJJSPXC6XKisrUz//+c/Vz3/+c7V27Vrlcrmu\n",
              "W99ms6lNmzYppZSqrKxUVqv1qjrl5eXKZrMpp9OpPB6PysvLU2VlZUoppT7++GM1depU5XA4lFJK\n",
              "lZSUqPz8fKWUUp2dnSo5OVkdOHBAKaXU2rVrVU5Ozt8t666VK1f6VF8I4X8+n0kVFRXxySefMGvW\n",
              "LGbNmsWnn35KUVHRNes2NTVRXV1NamoqACkpKZw+fZq6ujqvejU1NYwfPx6j0YjBYGDixIls2bJF\n",
              "K7v33nu1ZdUnTZqklVVXVxMcHExiYiLQdfvD7t27cTqd31kmhLh5+BxShw4d4ve//z3JyckkJyfz\n",
              "2muvcejQoWvWtdvtREdHExLSdc+owWDAbDbT0NDgVS8hIYGqqira2tpwuVxUVlZSX1+vle3fv5/G\n",
              "xkaUUmzbto329nbOnz+P3W6nf//+2nFMJhMmk4mzZ89+Z5kQ4ubh80vvoOsaUlBQV74pP1wot1qt\n",
              "NDQ0kJGRQXh4OOPGjWPfvn0AJCYmMmfOHLKzswkODmbKlCldHQ+5oa4LIW4yPv9N/8d//EfmzJmD\n",
              "1WoFoKKiggkTJlyzrtlsprGxEbfbTUhICEop7Hb7VWv0GQwGcnJyyMnJAWD79u3ExcVp5enp6aSn\n",
              "pwNw9OhRYmNjMZlMmM1m7YwLupZ8dzgc9O3bl5aWluuWCSFuHj5P95577jkeeughqqqqqKqqIiUl\n",
              "hYULF16zbp8+fUhISGDr1q0A7Nixg5iYGAYPHuxVz+l00traCkBzczOlpaVeS7dfmaJdunSJ1atX\n",
              "a2UjR47E7XZz8OBBAMrLy7FYLISFhX1nmRDi5mFQNzhfu7Lb37vD/OTJk+Tm5nL+/HkiIyMpLCxk\n",
              "+PDh5OXlYbFYSEpK4ty5c9hsNoKCgvB4PGRmZjJz5kztGDNmzMDj8eByuUhNTWX+/Plau59//jnL\n",
              "ly+no6ODvn378uKLL2I2m/9uWXcUFhaSm5vr649GCOFHPodUQ0MDy5Yt095rfv/99/PCCy/8n1xm\n",
              "XUJKiJ7n83Rv8eLFjBs3jv3797Nv3z7GjRvH4sWLA9E3IYTwPaSam5uZN28eP/nJT4iKimLu3Lm0\n",
              "tLQEom9CCOF7SA0aNIivv/5a+/z1119fdSFcCCH8xedbEC5evMgjjzzCPffcA3TdEnDPPffwL//y\n",
              "LwC89tpr/u2hEOJHzeeQevTRR3n00Ue9PgshRKD4HFI/+9nPAtEPIYS4Jp9D6uzZs7z55pvU1dXh\n",
              "dru17b///e/92jEhhIAbCKmcnBwSEhJITk7Wnt8TQohAuaEL58uXLw9EX4QQ4io+nwqNHDmS2tra\n",
              "AHRFCCGu5vOZVFZWFk899RRDhgzxWgT0j3/8o187JoQQcAMh9dxzzzFz5kxGjhxJcHBwIPokhBCa\n",
              "G3pz3IIFC/zdDyGEuCafr0mNHj2ar776KhB9EUKIq/h8JnX48GE2btzIoEGDvF4g9/777/u1Y0II\n",
              "ATcQUsuWLQtEP4QQ4pp8DqmxY8ficrmw2+0MGjQoEH0SQgjNDS1pNXnyZDIzMwH44osvrvuOcyGE\n",
              "+L58DqmXXnqJt99+m1tuuQWAUaNGyYV0IUTA+BxSnZ2dV03zQkND/dYhIYT4Np9DKiwsjPb2dm21\n",
              "lhMnThAeHu73jgkhBPgQUr/61a8AePrpp5k7dy5nzpxh4cKFzJkzR27uFEIETLe/3Tt58iQAEyZM\n",
              "YMiQIezduxelFM8888x3fstXW1vLkiVLaGlpwWQyUVRUxLBhw7zqeDweiouL2bt3L263m9GjR5Of\n",
              "n689G1haWkpFRQWhoaGEhYWxdOlSRo0axYkTJ1i0aJF2HIfDQVtbm7bclsViITQ0VDvTy87OZtq0\n",
              "ad0dshBCD1Q3Pfroo92t6sVms6lNmzYppZSqrKxUVqv1qjrl5eXKZrMpp9OpPB6PysvLU2VlZUop\n",
              "pY4fP64efPBB1dbWppRSqqKiQqWlpV2zrYKCAvXCCy9onydPnqyOHz9+Q/1WSqmVK1fe8L5CCP/o\n",
              "9nTvxIkTjB079qr/7rvvPsaOHXvNfZqamqiuriY1NRWAlJQUTp8+TV1dnVe9mpoaxo8fj9FoxGAw\n",
              "MHHiRLZs2QJ0rZDscrm4dOkS0HW2FBsbe1VbTqeTbdu28dhjj3V3SEKIm0C3p3tDhw6ltLTUp4Pb\n",
              "7Xaio6MJCelqxmAwYDabaWho8FoGKyEhgfLycjIyMggLC6OyspL6+noA7rjjDrKyskhKSqJXr14Y\n",
              "jUbWr19/VVs7d+5k4MCB3HnnnV7br0wH77rrLhYuXEjv3r19GoMQomd1O6SMRiP9+/cPSCesVisN\n",
              "DQ1kZGQQHh7OuHHj2LdvHwCnTp1i165d7Ny5k5iYGNatW8ezzz7LO++843WMjRs3kpaW5rVt3bp1\n",
              "9OvXD5fLxSuvvMLixYspKysLyBiEEIHR7emeUsrng5vNZhobG7UFG5RS2O12+vXr51XPYDCQk5ND\n",
              "RUUFGzZsIC4ujri4OKDrDCk+Pp6YmBigK9COHDlCR0eHtv+pU6c4duwYM2bM8DrulXZCQ0OZPXs2\n",
              "n332mc9jEEL0rG6HVEVFhc8H79OnDwkJCWzduhWAHTt2EBMTc9WKx06nk9bWVqBrGffS0lLmzZsH\n",
              "wMCBAzly5Ajt7e0A7Nmz56q3gm7atInk5GSioqK0bRcvXuTChQva5+3btzNixAifxyCE6Fk39NI7\n",
              "XxQUFJCbm8uaNWuIjIyksLAQgLy8PCwWC0lJSTgcDmw2G0FBQXg8HjIzM7FYLABMmTKFL7/8krS0\n",
              "NIxGIxEREbz00kva8T0eD++//z6rVq3yarepqYmcnBw6OzsBGDBgwFV1hBD6Z1A3Mo/7kSgsLCQ3\n",
              "N7enuyHEj5osnCeE0DUJKSGErklICSF0TUJKCKFrElJCCF2TkBJC6JqElBBC1ySkhBC6JiElhNA1\n",
              "CSkhhK5JSAkhdE1CSgihaxJSQghdk5ASQuiahJQQQtckpIQQuiYhJYTQNQkpIYSuSUgJIXRNQkoI\n",
              "oWsSUkIIXQv4kla1tbUsWbKElpYWTCYTRUVFDBs2zKuOx+OhuLiYvXv34na7GT16NPn5+draeqWl\n",
              "pVRUVBAaGkpYWBhLly5l1KhRAAwfPpz4+HiCgrrydtmyZYwZMwaAY8eOsWzZMpxOJzExMRQXF2uL\n",
              "jAohbhIqwGw2m9q0aZNSSqnKykpltVqvqlNeXq5sNptyOp3K4/GovLw8VVZWppRS6vjx4+rBBx9U\n",
              "bW1tSimlKioqVFpamrZvfHy8am1tveqYnZ2dKjk5WR04cEAppdTatWtVTk6OT31fuXKlT/WFEP4X\n",
              "0OleU1MT1dXVpKamApCSksLp06epq6vzqldTU8P48eMxGo0YDAYmTpzIli1bgK4l2F0uF5cuXQLA\n",
              "4XAQGxv7d9uurq4mODiYxMREAJ588kl2796N0+n05xCFEAEW0Ome3W4nOjqakJCuZgwGA2azmYaG\n",
              "Bq+l1hMSEigvLycjI4OwsDAqKyupr68H4I477iArK4ukpCR69eqF0Whk/fr1Xu1kZWXhdrsZN24c\n",
              "CxYsICIiArvdTv/+/bU6JpMJk8nE2bNnGThwYCCHLYTwI11cOLdarUyYMIGMjAxsNhtDhgzRgu3U\n",
              "qVPs2rWLnTt38tFHH5GVlcWzzz6r7bt79242b97Mhg0baG5u5sUXX+yhUQghAiGgIWU2m2lsbMTt\n",
              "dgOglMJut9OvXz+vegaDgZycHCoqKtiwYQNxcXHExcUBsHPnTuLj47UL3larlSNHjtDR0QGgHSsi\n",
              "IoJZs2Zx+PBhre0rZ2MAbW1tOBwO+vbtG8ghCyH8LKAh1adPHxISEti6dSsAO3bsICYmxmuqB+B0\n",
              "OmltbQWgubmZ0tJS5s2bB8DAgQM5cuQI7e3tAOzZs4chQ4ZgNBppbW3VrlV5PB4+/PBD7rzzTgBG\n",
              "jhyJ2+3m4MGDAJSXl2OxWAgLCwvkkIUQfhbwWxAKCgrIzc1lzZo1REZGUlhYCEBeXh4Wi4WkpCQc\n",
              "Dgc2m42goCA8Hg+ZmZlYLBYApkyZwpdffklaWhpGo5GIiAheeuklAE6ePMny5csxGAx0dnYyYsQI\n",
              "8vLyAAgKCqK4uJjly5fT0dFB3759ZSooxE3IoJRSPd0JvSosLCQ3N7enuyHEj5ouLpwLIcT1SEgJ\n",
              "IXRNQkoIoWsSUkIIXZOQEkLomoSUEELXJKSEELomISWE0DUJKSGErklICSF0TUJKCKFrElJCCF2T\n",
              "kBJC6JqElBBC1ySkhBC6JiElhNA1CSkhhK5JSAkhdE1CSgihaxJSQghdk5ASQuhawJe0qq2tZcmS\n",
              "JbS0tGAymSgqKmLYsGFedTweD8XFxezduxe3283o0aPJz8/HaDQCUFpaSkVFBaGhoYSFhbF06VJG\n",
              "jRrFmTNneP755/nrX/+K0WhkyJAhFBQU0Lt3bwAsFguhoaGEh4cDkJ2dzbRp0wI9ZCGEP6kAs9ls\n",
              "atOmTUoppSorK5XVar2qTnl5ubLZbMrpdCqPx6Py8vJUWVmZUkqp48ePqwcffFC1tbUppZSqqKhQ\n",
              "aWlpSimlGhsb1aeffqodp6ioSC1evFj7PHnyZHX8+PEb7vvKlStveF8hhH8EdLrX1NREdXU1qamp\n",
              "AKSkpHD69Gnq6uq86tXU1DB+/HiMRiMGg4GJEyeyZcsWoGsJdpfLpa1U7HA4iI2NBeC2225jzJgx\n",
              "2nHuvvtur6XVhRA3v4BO9+x2O9HR0YSEdDVjMBgwm800NDR4LbWekJBAeXk5GRkZhIWFUVlZqYXN\n",
              "HXfcQVZWFklJSfTq1Quj0cj69euvaquzs5P169eTlJTktX3RokUA3HXXXSxcuFCbCgohbg66uHBu\n",
              "tVqZMGECGRkZ2Gw2hgwZogXbqVOn2LVrFzt37uSjjz4iKyuLZ5991mt/pRQFBQVERUWRmZmpbV+3\n",
              "bh3btm1j8+bN3HrrrSxevPiHHJYQwg8CGlJms5nGxkbcbjfQFSZ2u51+/fp51TMYDOTk5FBRUcGG\n",
              "DRuIi4sjLi4OgJ07dxIfH09MTAzQFWhHjhyho6ND23/FihXY7XZefvllgoL+d0hX2gkNDWX27Nl8\n",
              "9tlngRyuECIAAhpSffr0ISEhga1btwKwY8cOYmJivKZ6AE6nk9bWVgCam5spLS1l3rx5AAwcOJAj\n",
              "R47Q3t4OwJ49exgyZIj2zd+KFSuoq6ujpKRE2wZw8eJFLly4oH3evn07I0aMCNxghRABEfBbEAoK\n",
              "CsjNzWXNmjVERkZSWFgIQF5eHhaLhaSkJBwOBzabjaCgIDweD5mZmVgsFgCmTJnCl19+SVpaGkaj\n",
              "kYiICF566SUADh8+zFtvvcXtt9/O448/DsCAAQMoKSmhqamJnJwcOjs7te2rVq0K9HCFEH5mUEqp\n",
              "nu6EXhUWFpKbm9vT3RDiR00XF86FEOJ6Aj7dE0L837L/L+dYd+gbvj7XxtDbTGTcP4jxcbcFrD0J\n",
              "KSFEt+3/yzmWbP6Six1uwkOD+eTrJqrrWymy3hWwoJLpnhCi29Yd+oaLHW5io8K5NcJIbFQ4Fzvc\n",
              "rD/0TcDalJASQnTb1+faCA8NxmAwAF33OIaHBnPyXFvA2pSQEkJ029DbTFx2dXLlpgClFJddndwe\n",
              "bQpYmxJSQohuy7h/EBHGEE5fuEzLxQ5OX7hMhDGE9PsHBaxNCSkhRLeNj7uNIutd3D+0Dz8JD+H+\n",
              "oX0oSruL8f8g3+4JIXRifNxtAb3l4G/JmZQQQtckpIQQuiYhJYTQNQkpIYSuSUgJIXRNQkoIoWvy\n",
              "PqnvMH/+fAYMGNDT3RDiptavXz9mz559w/tLSAkhdE2me0IIXZOQEkLomoSUEELXJKSEELomISWE\n",
              "0DUJKSGErklICSF0TUJKCKFr8tI7namtrWXJkiW0tLRgMpkoKipi2LBhXnU8Hg/FxcXs3bsXt9vN\n",
              "6NGjyc/Px2g0AlBaWkpFRQWhoaGEhYWxdOlSRo0aBcDw4cOJj48nKKjr36dly5YxZswYXY9n7dq1\n",
              "VFRU4PF4GDp0KIWFhURFRQFw7Ngxli1bhtPpJCYmhuLiYmJiYgI2nh9iTD/072jFihVUVVVRX19P\n",
              "RUUFd9555zXrvffee5SVleHxeEhMTOTXv/41oaGh36usW5TQFZvNpjZt2qSUUqqyslJZrdar6pSX\n",
              "lyubzaacTqfyeDwqLy9PlZWVKaWUOn78uHrwwQdVW1ubUkqpiooKlZaWpu0bHx+vWltbf4CRdPm+\n",
              "4/n444/V1KlTlcPhUEopVVJSovLz85VSSnV2dqrk5GR14MABpZRSa9euVTk5OTf1mJT64X9Hn3zy\n",
              "ibLb7Wry5Mnq+PHj16zzzTffqAceeECdPXtWeTwelZ2drdatW/e9yrpLpns60tTURHV1NampqQCk\n",
              "pKRw+vRp6urqvOrV1NQwfvx4jEYjBoOBiRMnsmXLFqBriSGXy8WlS5cAcDgcxMbG/rAD+f/8MZ6a\n",
              "mhruvfdeTKau1UgmTZqklVVXVxMcHExiYiIATz75JLt378bpdN60Y+oJ991339/9f2THjh1YLBai\n",
              "o6MxGAzMnDmTDz744HuVdZeElI7Y7Xaio6MJCemahRsMBsxmMw0NDV71EhISqKqqoq2tDZfLRWVl\n",
              "JfX19QDccccdZGVlkZSUxMSJE3njjTdYtmyZ1/5ZWVmkpqZSWFjIxYsXdT2ehIQE9u/fT2NjI0op\n",
              "tm3bRnt7O+fPn8dut9O/f3/tOCaTCZPJxNmzZ2/aMV3xQ/2Ouutvf9b9+/fHbrd/r7LukpC6CVmt\n",
              "ViZMmEBGRgY2m40hQ4Zof2lOnTrFrl272LlzJx999BFZWVk8++yz2r67d+9m8+bNbNiwgebmZl58\n",
              "8cUeGsX/+q7xJCYmMmfOHLKzs3niiSfo3bs3gFauV99nTHr8HfUkCSkdMZvNNDY24na7ga6FF+12\n",
              "O/369fOqZzAYyMnJoaKigg0bNhAXF0dcXBwAO3fuJD4+Xrt4bLVaOXLkCB0dHQDasSIiIpg1axaH\n",
              "Dx/W9XgA0tPT2bx5M++99x5jx44lNjYWk8mE2WzWzk4A2tracDgc9O3b96YdE/ywv6Pu+tufdX19\n",
              "PWaz+XuVdZeElI706dOHhIQEtm7dCnTN52NiYhg8eLBXPafTSWtrKwDNzc2UlpYyb948AAYOHMiR\n",
              "I0dob28HYM+ePQwZMgSj0Uhra6t2rcrj8fDhhx9e95scvYwH0KZvly5dYvXq1VrZyJEjcbvdHDx4\n",
              "EIDy8nIsFgthYWE37Zh+6N9Rd6WkpFBVVaVNUd955x2mT5/+vcq6S94npTMnT54kNzeX8+fPExkZ\n",
              "SWFhIcOHDycvLw+LxUJSUhLnzp3DZrMRFBSEx+MhMzOTmTNnAl3/sv/bv/0bu3btwmg0EhERwdKl\n",
              "Sxk5ciSff/45y5cvx2Aw0NnZyYgRI8jLy+OWW27R7XgAZsyYgcfjweVykZqayvz58zEYDADamDo6\n",
              "Oujbty8vvviiz/9S62lMPfE7Wr58OXv27OHcuXPccsstREZGsmvXLq/xALz77ruUlpYCMHbsWAoK\n",
              "CrRbCW60rDskpIQQuibTPSGErklICSF0TUJKCKFrElLihlksFh566CHt63jouuXh0KFDPdir63vk\n",
              "kUdoa2vr6W4IH0lIie+lo6ODjRs39nQ3umXLli3avUji5iEhJb6XnJwcXn/9de3eniuWLFnCG2+8\n",
              "oX1etWoVr776KgCvvvoqCxYs4Be/+AUpKSlkZ2fz3//938ydO5eUlBR+9atf4fF4vrPdzz//nJkz\n",
              "Z5KamsqMGTP4z//8T62dtLQ0HnnkEdLT0zl58qS2z/Dhw7lw4QLNzc1YLBaOHj0KwJ/+9CdSU1O5\n",
              "fPkyjY2N2Gw2rFYr06dP54UXXtD6cvToUaxWK4888ggPP/wwb7/99vf98Ynu8PmRaSH+vytPzS9c\n",
              "uFC9/vrrSimlfvazn6mDBw+qxYsXqz/84Q9a3aKiIrV69WqllFKrV69WFotFnT9/Xnk8HpWenq4e\n",
              "f/xx5XA4lMvlUqmpqWr37t3XbbelpUWNGzdOffrpp0qprrchtLS0KKWUampq0up98MEHas6cOdrn\n",
              "b79d4NNPP1VJSUnq2LFjasKECerkyZNKKaUuX76svUHC7Xarf/7nf1YffPCBUkqpX/ziF2rbtm3a\n",
              "8c6fP38jPzbhI30/ACVuCgsWLODxxx/nqaee6vY+DzzwAL169QJgxIgRGI1GbSo2YsQIamtrr7vv\n",
              "0aNHGTp0qPaOpaCgIO1mx3379rFu3Tra29vxeDzaXd9/a8yYMTz22GM89dRTrFq1iqFDhwJdd3n/\n",
              "9re/5fDhwyilaG5uZtiwYUyfPp3777+f119/ndraWhITEwP6jifxvySkxPc2YMAAHn74Yf793/9d\n",
              "2xYcHOw1ZXM6nURERGifv/3oSnBwsNfnoKAgOjs7fe5HQ0MDv/nNb9i4cSODBg2ipqaGjIyM69Y/\n",
              "fvw4vXv39noq/w9/+ANNTU289957hIWFUVhYqL365crbJQ4cOMDLL7/MsGHDyM/P97mfwjdyTUr4\n",
              "xdNPP83WrVu1Z9IGDx7MF198AUBLSwv/9V//5be27rnnHurq6vjss8+ArrOf8+fP43A4CAkJITo6\n",
              "GqUU69evv+4x1q1bx4ULF9iyZQvl5eXaQ7wXLlwgOjqasLAwGhsb+dOf/qTtc/LkSQYOHMgTTzxB\n",
              "dnY2x44d89uYxPXJmZTwi969e2Oz2Vi9ejUATzzxBM888wxTp05l4MCB/PSnP/VbW7169eK1116j\n",
              "qKiI9vZ2goKCWLBgARaLhWnTpjF9+nRuueUWkpOTr7n/n//8Z/7jP/6Dd999lz59+lBcXMxzzz3H\n",
              "xo0byczM5JlnnmH69On07duX8ePHa/utX7+egwcPEhoaSlBQEIsXL/bbmMT1ybN7Qghdk+meEELX\n",
              "ZLondGv58uXXvO5TXl5OeHh4D/RI9ASZ7gkhdE2me0IIXZOQEkLomoSUEELXJKSEELomISWE0DUJ\n",
              "KSGErklICSF0TUJKCKFr/w/G7cF5GVFA4QAAAABJRU5ErkJggg==\n",
              "\">\n",
              "        \n",
              "      </div>\n",
              "      <script></script>\n",
              "      <script type=\"text/javascript\">\n",
              "        (() => {\n",
              "          const chartElement = document.getElementById(\"chart-fdba5113-4306-47a3-8b2d-96600c5c5a2d\");\n",
              "          async function getCodeForChartHandler(event) {\n",
              "            const chartCodeResponse =  await google.colab.kernel.invokeFunction(\n",
              "                'getCodeForChart', [\"chart-fdba5113-4306-47a3-8b2d-96600c5c5a2d\"], {});\n",
              "            const responseJson = chartCodeResponse.data['application/json'];\n",
              "            await google.colab.notebook.addCell(responseJson.code, 'code');\n",
              "          }\n",
              "          chartElement.onclick = getCodeForChartHandler;\n",
              "        })();\n",
              "      </script>\n",
              "      <style>\n",
              "        .colab-quickchart-chart-with-code  {\n",
              "            display: block;\n",
              "            float: left;\n",
              "            border: 1px solid transparent;\n",
              "        }\n",
              "\n",
              "        .colab-quickchart-chart-with-code:hover {\n",
              "            cursor: pointer;\n",
              "            border: 1px solid #aaa;\n",
              "        }\n",
              "      </style>"
            ]
          },
          "metadata": {}
        },
        {
          "output_type": "display_data",
          "data": {
            "text/plain": [
              "<google.colab._quickchart_helpers.SectionTitle at 0x785be63347c0>"
            ],
            "text/html": [
              "<h4 class=\"colab-quickchart-section-title\">Time series</h4>\n",
              "<style>\n",
              "  .colab-quickchart-section-title {\n",
              "      clear: both;\n",
              "  }\n",
              "</style>"
            ]
          },
          "metadata": {}
        },
        {
          "output_type": "display_data",
          "data": {
            "text/plain": [
              "import numpy as np\n",
              "from google.colab import autoviz\n",
              "\n",
              "def time_series_multiline(df, timelike_colname, value_colname, series_colname, figscale=1, mpl_palette_name='Dark2'):\n",
              "  from matplotlib import pyplot as plt\n",
              "  import seaborn as sns\n",
              "  figsize = (10 * figscale, 5.2 * figscale)\n",
              "  palette = list(sns.palettes.mpl_palette(mpl_palette_name))\n",
              "  def _plot_series(series, series_name, series_index=0):\n",
              "    if value_colname == 'count()':\n",
              "      counted = (series[timelike_colname]\n",
              "                 .value_counts()\n",
              "                 .reset_index(name='counts')\n",
              "                 .rename({'index': timelike_colname}, axis=1)\n",
              "                 .sort_values(timelike_colname, ascending=True))\n",
              "      xs = counted[timelike_colname]\n",
              "      ys = counted['counts']\n",
              "    else:\n",
              "      xs = series[timelike_colname]\n",
              "      ys = series[value_colname]\n",
              "    plt.plot(xs, ys, label=series_name, color=palette[series_index % len(palette)])\n",
              "\n",
              "  fig, ax = plt.subplots(figsize=figsize, layout='constrained')\n",
              "  df = df.sort_values(timelike_colname, ascending=True)\n",
              "  if series_colname:\n",
              "    for i, (series_name, series) in enumerate(df.groupby(series_colname)):\n",
              "      _plot_series(series, series_name, i)\n",
              "    fig.legend(title=series_colname, bbox_to_anchor=(1, 1), loc='upper left')\n",
              "  else:\n",
              "    _plot_series(df, '')\n",
              "  sns.despine(fig=fig, ax=ax)\n",
              "  plt.xlabel(timelike_colname)\n",
              "  plt.ylabel(value_colname)\n",
              "  return autoviz.MplChart.from_current_mpl_state()\n",
              "\n",
              "chart = time_series_multiline(correlation, *['Tempo_Entrega', 'Num_caixas', None], **{})\n",
              "chart"
            ],
            "text/html": [
              "      <div class=\"colab-quickchart-chart-with-code\" id=\"chart-3c21fe74-108f-416e-9020-3b8476d318e6\">\n",
              "        <img src=\"data:image/png;base64,iVBORw0KGgoAAAANSUhEUgAAAf8AAAEPCAYAAABMY82nAAAAOXRFWHRTb2Z0d2FyZQBNYXRwbG90\n",
              "bGliIHZlcnNpb24zLjcuMSwgaHR0cHM6Ly9tYXRwbG90bGliLm9yZy/bCgiHAAAACXBIWXMAAA9h\n",
              "AAAPYQGoP6dpAABJjElEQVR4nO3deXxM9/7H8deZrCSCEBGC0EgQO1ViT2jUEiSWKglVrbaaVi+N\n",
              "JSi9ekOordXbhm5KiyxNBGmE2NeWoJagVQRBIhLZTJY5vz/yM7epVjU1Jsvn+Xj0cWW+3znz+ebc\n",
              "k/eZs3yPoqqqihBCCCEqDY2xCxBCCCHEkyXhL4QQQlQyEv5CCCFEJSPhL4QQQlQyEv5CCCFEJSPh\n",
              "L4QQQlQyEv5CCCFEJSPhL4QQQlQyEv4P8dVXXxm7BCGEEOKxk/B/iOvXrxu7BCGEEOKxk/AXQggh\n",
              "KhkJfyGEEKKSkfAXQgghKhkJfyGEEKKSkfAXQgghKhmDh//8+fPx8PDA1dWVs2fP/mm/sLAwnn32\n",
              "Wfr06cOsWbMoKCgwaJsQQghRWRk8/L28vPjmm2+oX7/+n/ZJTk5m+fLlrFu3jvj4eNLS0ti4caPB\n",
              "2oQQQojKzODh//TTT1O3bt2H9omLi8PDwwM7OzsURWHUqFFs3rzZYG1PWkpOJm/v3cg3549QoCsy\n",
              "Sg1CCCHEfWXinH9KSkqJIwP169cnJSXFYG1P2tFblwn7+RiB+yPpFfkBYReOUig7AUIIIYykTIR/\n",
              "RdffqSVzOw2ktqU1l7PSeXtfGB7fLeW7X45TpNMZuzwhhBCVTJkIfwcHB65du6b/+dq1azg4OBis\n",
              "7UnTKBomuHXjwLBAZnZ8jpoWVbl4N42APevpG72MzZd+QqfKToAQQogno0yEv5eXFwkJCaSmpqKq\n",
              "Kt9++y0DBgwwWJuxVDUz5/VWPTk4fBqB7Z+lurkl5zNu8erOdfTb9CFxl0+jqqpRaxRCCFHxKaqB\n",
              "02bOnDns2rWLtLQ0atSogZWVFfHx8QQFBeHh4YGnpycAGzduJDQ0FIBOnToxb948zMzMDNb2KIKD\n",
              "g5kxY8Zj+C38sUxtHqvP7GP16X1kFWgBaF2rPlPa9cXD0RVFUQz22UIIISovg4d/eWbo8L/vjjaX\n",
              "0FN7+ezMfnIL8wFob9eQqe360r2es+wECCGEeKzKxGH/yq6mRVWmdfDi4PBAXm3ZA0sTM46lXuGF\n",
              "bZ8xLPZTDqT8YuwShRBCVCAS/mVILUtrZj3dnwPDAnmpRVcsTEw5fPMSI75fxcjvV/HDzUvGLlEI\n",
              "IUQFIOFfBtWpWo15zwxir+87jG3WGTONCftTfmHo1k8Yve1zElOTjV2iEEKIckzCvwyrZ1Wd97sM\n",
              "Ya/vVF5w6YSpomH3tfMM2ryScdu/5Ke0a3+9ECGEEOJ3JPzLAUfrmoR09WG37xRGOHdAoyhsT07i\n",
              "uZgPmbDja86m3zB2iUIIIcoRCf9ypFG1WizpPpxdQ//F0CZtUVD4/spp+kYv47Wd33Ah45axSxRC\n",
              "CFEOSPiXQ02q2/Fhz+fZMXQyA51aARBz6SSeUUt5c88GLmamGblCIYQQZZmEfznmUsOeT3qPZtvg\n",
              "t/Bq2AKdqhL5SyK9v1vClH1hXMlKN3aJQgghyiAJ/wqgha0Dn3n6s3XQG3g6NqNI1bHhwlF6RCxm\n",
              "2v5IrmVnGLtEIYQQZYiEfwXSurYjX/Udx6aBr9OzXlMKVR3rzh+he8Qigg5Gk5KTaewShRBClAES\n",
              "/hVQe7uGrPN6icj+r+Jetwn5uiK+SjpIt4hFzD0cw63cLGOXKIQQwogk/CuwTvZObHzuFTb0e5mn\n",
              "6zRCW1TI6jP7cQ8PYf4PW0m/l2PsEoUQQhiBhH8l0NXhKSL7v8q6Z8fTzq4B94oK+OTUHrqELWTh\n",
              "0TjuaHONXaIQQognSMK/klAUhZ71Xdg04HW+6jOOVrXqk1OYz4cnd+IetpAPEuO5m3/P2GUKIYR4\n",
              "AiT8KxlFUfBs0Iytg95gtYcfzWrWJatAy9LjO+gStoAVJxLILtAau0whhBAGJOFfSSmKQr9Gbmwb\n",
              "/Caf9HqBptXrkJl/j5Bj2+gStpCPf9pNbkG+scsUQghhABL+lZxG0TCwcWu2D5nMih4jaWxTmzva\n",
              "XP7zYyzu4SGsPr2PvMICY5cphBDiMZLwFwCYaDT4PNWOnUPfZkm3YTS0tiXtXjZzj2ymW8Qivjx7\n",
              "EG1RobHLFEII8RgoqqqqhvyAS5cuMX36dO7cuYO1tTULFiygadOmJfrodDoWLVrE3r17KSwspH37\n",
              "9sydOxdzc3MAVq9eTVRUFDqdjsaNGxMcHIyNjQ3nzp0jMDBQv5ysrCyys7M5cuQIAB4eHpiZmWFp\n",
              "aQnAxIkT6d+//yPXHhwczIwZM/7pr6BcKtAVsfHCUZaf2MH1/58cqJ5Vdd5s48HIph0x05gYuUIh\n",
              "hBClZfDw9/f3Z8iQIfj4+PD999+zatUqIiIiSvTZuHEjmzdvZvXq1ZiZmTF79mycnJyYMGEC+/fv\n",
              "5/3332fjxo1YW1vz8ccfk5qayrvvvvvAZ7333nsoisLs2bOB4vBfuXIlzZs3L1XtlTn879MWFbL+\n",
              "/A+sOLmTm7l3AWhobctbbT3wfaodprITIIQQ5Y5BD/vfvn2bU6dO4e3tDYCXlxc3btzg8uXLJfol\n",
              "JSXh7u6Oubk5iqLQo0cPoqOj9W0dOnTA2toagJ49e+rbfkur1RITE8OwYcMMOaRKx8LElLHNu7Df\n",
              "9x3mdhqIXRVrrmSnM2VfOL0ilxDxSyJFOp2xyxRCCPE3GDT8U1JSsLOzw9TUFCi+wtzBwYHr16+X\n",
              "6Ofm5kZCQgLZ2dkUFBQQGxvLtWvX9G0HDhwgNTUVVVWJiYkhJyeHjIyMEsvYtm0bDRo0eOBbfmBg\n",
              "IIMGDWLmzJmkp8tT7krL0tSMCW7dODAskFkd+2NrYcWlrNu8tWcDfaKWEfPrSXSq7AQIIUR5UCYu\n",
              "+PPx8aF79+6MGTMGPz8/nJyc9DsMnTt3Zvz48UycOJERI0Zga2sLoG+/Lzw8HF9f3xKvrV27lpiY\n",
              "GCIjI6lZsybTpk17MgOqwKqYmvNqqx4cGB7I9A5eVDevwoXMW7y26xuejV5B7OVTGPhMkhBCiH/I\n",
              "oOHv4OBAamoqhYXFV4mrqkpKSgr16tUr0U9RFAICAoiKimL9+vU4Ozvj7Oysbx89ejSRkZGEhYXR\n",
              "qVMn6tatqz8NAJCcnMyJEycYNGhQieXe/xwzMzPGjh3Ljz/+aKihVjrWZha80bo3B4dPY0q7PlQz\n",
              "syDpzg1eTljLc5s+ZHvyWdkJEEKIMsqg4V+rVi3c3NzYtGkTAHFxcdjb29OoUaMS/bRaLZmZxVeU\n",
              "p6enExoayoQJE/Ttt27dAiAvL48VK1aUaAOIiIigT58+2NjY6F/Lzc3l7t27+p+3bNlCixYtHu8A\n",
              "BTbmlrzdtg8Hh0/jrTYeWJmacyr9OuO2f8WgzR+z69p52QkQQogyxuBX+1+8eJEZM2aQkZGBlZUV\n",
              "wcHBuLq6EhQUhIeHB56enqSlpeHn54dGo0Gn0+Hv78+oUaP0yxg0aBA6nY6CggK8vb2ZNGkSiqIA\n",
              "xbcJ9u7dm4ULF9K5c2f9e5KTkwkICKCoqAgAR0dHgoKCcHR0fOTa5Wr/vy/9Xg6fnNrDF2cP6CcH\n",
              "erpOI6a260vXes5/8W4hhBBPgsHDvzyT8C+91LwsPv5pN2uSDuknB+pStwlT2/XlmbqNjVydEEJU\n",
              "bmXigj9R8dhVqca7nQayf1gg45p3wVxjwsEbF/GN/ZQX4j7j6K0rxi5RCCEqLQl/YVB1q9owv/Ng\n",
              "9vq+wxjXZzBVNOy5foHBWz7GP/4LTqRdNXaJQghR6Uj4iyeivnUNFrgPZY/vVEY27YiJoiHh6jkG\n",
              "xHzESzvWcCb9+l8vRAghxGMh4S+eqIbVbPmg2zB2Dv0Xvk+1Q6MoxF05w7PRK5i4cx3n7tw0dolC\n",
              "CFHhSfgLo2hSvTbLe4xkx5C38W7cGgWFLZd+ok/UMt7YvZ5fMlONXaIQQlRYEv7CqJrWqMPHvV5g\n",
              "2+C3eK6RGyoqUReP0/u7Jby9dyOX7t42dolCCFHhSPiLMqG5bV1WefjxvXcAfRs0R6eqhP18jJ6R\n",
              "H/DO/giuZt8xdolCCFFhSPiLMqVlrfp80WcsmwdOold9F4pUHd+e/4HuEYuZeTCK6zmZxi5RCCHK\n",
              "PQl/USa1tWvA2mfHE9X/Nbo5OFOgK2JN0iG6RyxizqFN3My9+9cLEUII8Yck/EWZ1tG+Eev7TSDs\n",
              "uVd4xt4JbVEhn589QNfwRfz7yBZu38s2dolCCFHuSPiLcqFL3SaEPzeRb71eor1dQ+4VFfDp6b10\n",
              "CQsh+MfvuXMvx9glCiFEuSHhL8oNRVHoXq8p0QNeY03fF2lT25HcwnxW/rSLLuEhLDq2jUxtnrHL\n",
              "FEKIMk/CX5Q7iqLg4ejK5oGT+NzTnxa2DmQXaFl+IoEu4QtZdnwHWfn3jF2mEEKUWRL+otxSFIVn\n",
              "G7bge+8APu09Gtca9tzNv8fixHi6hIfw0cld5BRojV2mEEKUORL+otzTKBoGOLVi2+C3+Kjn8zSx\n",
              "qU2GNpcFR7/HPTyE0FN7ySssMHaZQghRZkj4iwrDRKNhSJO2JAx9m2Xdh9Oomi237+Xw3g9b6Boe\n",
              "wudn9nNPdgKEEELCX1Q8phoThjl3YJfPFBZ19cXRuga38rKYcziG7hGL+TrpEPlFhcYuUwghjEbC\n",
              "X1RYZhoTRrk8zR6fqQR3GULdqjak5GYy42AUPSIX8+35HyjQFRm7TCGEeOIk/EWFZ25iil+zzuzz\n",
              "fYf3nhlEnSrVuJqdwTv7I+gVuYTwn49SpNMZu0whhHhiFFVVVUN+wKVLl5g+fTp37tzB2tqaBQsW\n",
              "0LRp0xJ9dDodixYtYu/evRQWFtK+fXvmzp2Lubk5AKtXryYqKgqdTkfjxo0JDg7GxsYGAFdXV1xc\n",
              "XNBoivdjZs+eTceOHQE4ceIEs2fPRqvVYm9vz6JFi7C3t3/k2oODg5kxY8bj+DWIMiSvsICvkw6x\n",
              "8qdd3P7/yYGeqm7Hv9r2YVDjVmgU2ScWQlRsBv8rN2fOHEaMGEFcXBwvv/wy06dPf6BPeHg4p0+f\n",
              "JjIyktjYWDQaDWvWrAFg//79REZGsn79erZu3YqbmxtLly4t8f5169YRHR1NdHS0Pvh1Oh1Tp05l\n",
              "5syZxMXF0bNnT95//31DD1eUA1VMzXilZXcODAtkRod+1LCoyi+ZqUza/S19o5az5dJP6FQ5EiCE\n",
              "qLgMGv63b9/m1KlTeHt7A+Dl5cWNGze4fPlyiX5JSUm4u7tjbm6Ooij06NGD6OhofVuHDh2wtrYG\n",
              "oGfPnvq2hzl16hQmJiZ07twZgJEjR7Jz5060WrnvWxSzMrNgUuteHBwWyDvt+lLd3JJzGTeZuHMd\n",
              "/TZ9yLYrZzDwgTEhhDAKg4Z/SkoKdnZ2mJqaAsWTsjg4OHD9+vUS/dzc3EhISCA7O5uCggJiY2O5\n",
              "du2avu3AgQOkpqaiqioxMTHk5OSQkZGhf/+4cePw9vYmODiY3Nxc/WfXr19f38fa2hpra2tu3bpl\n",
              "yCGLcqiauSVvtfXkwLBpTG7ribWZBWfSUxi/Yw0DN68k4eo52QkQQlQoZeLkpo+PD927d2fMmDH4\n",
              "+fnh5OSk32Ho3Lkz48ePZ+LEiYwYMQJbW1sAffvOnTv1pwXS09MJCQkx2jhE+VbdogpT2/Xl4LBA\n",
              "3mjdi6qm5pxIu4p//BcM2fJf9l6/IDsBQogKwaDh7+DgQGpqKoWFxfdUq6pKSkoK9erVK9FPURQC\n",
              "AgKIiopi/fr1ODs74+zsrG8fPXo0kZGRhIWF0alTJ+rWras/DXB/WVWrVuWFF17g6NGj+s++f/QA\n",
              "IDs7m6ysLOrUqWPIIYsKoKalFdM79OPAsEAmunXHwsSUo6lXGBX3GcNiQzl446KxSxRCiH/EoOFf\n",
              "q1Yt3Nzc2LRpEwBxcXHY29vTqFGjEv20Wi2ZmZkApKenExoayoQJE/Tt9w/V5+XlsWLFCn1bZmYm\n",
              "eXnFT3HT6XRs3bqV5s2bA9CyZUsKCws5dOgQABs2bMDDwwMLCwsDjlhUJLWrWDO70wAODAtkfHN3\n",
              "LExMOXzzV4bHhvL896v58eblv16IEEKUQQa/1e/ixYvMmDGDjIwMrKysCA4OxtXVlaCgIDw8PPD0\n",
              "9CQtLQ0/Pz80Gg06nQ5/f39GjRqlX8agQYPQ6XQUFBTg7e3NpEmTUBSFxMRE5syZg6IoFBUV0aJF\n",
              "C4KCgqhRowaAvj0/P586deoQEhKCg4PDI9cut/qJ37qek8lHJ3eWmByoV30XprbrS1u7BkauTggh\n",
              "Hp3Bw788k/AXfyQ5K50VJ3ey8cJRiv7/lsC+DZoztV1f3GrV+4t3CyGE8ZWJC/6EKE8aVLNlUVdf\n",
              "dvtMYbhzezSKQnzyWbw2reDlhK9JunPD2CUKIcRDSfgLUUpONrVY2n0EO4f+i8FN2qCgEHv5NH2j\n",
              "lvP6rm/4OUNuKxVClE0S/kL8Q09Vt2Nlz1FsHzKZAU6tUFHZ9OtJPKKW8taeDfx6N83YJQohRAkS\n",
              "/kI8Jq417fm092i2DX4Tr4Yt0KkqEb8k0ityCVP2hXMlK93YJQohBCDhL8Rj18K2Hp95+rN10Bt4\n",
              "OLpSpOrYcOFHekQsZvqB77ienWHsEoUQlZyEvxAG0rq2I2v6vkj0gNfpUa8phaqOtecO0y1iEbMO\n",
              "RXMj966xSxRCVFIS/kIYWIc6DfnG6yUinptIl7pNyNcV8eXZg3QND2Hekc2k5mUZu0QhRCUj4S/E\n",
              "E/JM3caEPfcKG7wm0LFOI7RFhaw6vQ/38BDe/yGW9Hs5xi5RCFFJSPgL8YR1refMd/1fZe2z42lb\n",
              "uwF5hQX899RuuoQtJORoHBnaXGOXKISo4CT8hTACRVHoVd+FmIGv82WfsbS0rUdOYT4rTu6kS9hC\n",
              "liRu527+PWOXKYSooEoV/uvXrycrq/g85bx58/Dx8eGHH354rIUJURkoikKfBs2J9Q5glccYmtWs\n",
              "S1aBliXHt9MlbCEfnthJToHW2GUKISqYUoX/unXrqFatGkePHuXChQu8/fbbLFy48HHXJkSloSgK\n",
              "zzVqybbBb/LfXi/gXN2OzPw8Fh6Lo0tYCJ/8tIe8wnxjlymEqCBKFf6mpqYAHDp0iMGDB9O9e3eK\n",
              "iooea2FCVEYaRcOgxq3ZMeRtlvcYiVO1WqRrc5j/41bcw0NYfXof9woLjF2mEKKcK1X4K4rC1q1b\n",
              "iY2Nxd3dHYCCAvmDJMTjYqLR4PtUO3b5/IsPug2jgXVNUvOymXtkM10jFvHV2YNoiwqNXaYQopwq\n",
              "Vfi/++67bN68meHDh1O/fn1+/fVXOnfu/LhrE6LSM9WYMLJpR3b7TGGB+1DqWVXnZu5dgg5F0yNi\n",
              "MevOHaFAJ0fdhBB/j6KqqmrsIsqq4OBgZsyYYewyhNDTFhXy7fkf+PBEAjf/f3Kghta2TG7rgc9T\n",
              "7TDVmBi5QiFEeVDq8N+6dStJSUlotf+7ErmiBaWEvyir8goLWHfuMB+d3EXavWwAGtvU5u22ngxu\n",
              "3AYTjdzFK4T4c6X6CzF//nw2bdpEZGQkiqIQFxenv/VPCGF4VUzNmODWjQPDAgnq+Bw1Lary6900\n",
              "3tyzgb7Ry9j860l0qs7YZQohyqhShf/hw4f5+OOPsbW1Zfr06YSFhXHz5s0/7Hvp0iWef/55vLy8\n",
              "8PX15cKFCw/00el0LFy4kIEDB9KvXz9mzpxJfv7/bmtavXo1AwcOpH///kyaNIm7d4sfiHLz5k1e\n",
              "euklvLy8GDRoEAEBAaSn/++xqR4eHnh5eTF48GAGDx7M1q1bSzNcIcqsqmbmvNaqJweHT2Naey+q\n",
              "m1fhfMYtXt31DV7RK/j+8mnkzJ4Q4vdKFf7m5uZoNBoURaGgoAA7Oztu3br1h33nzJnDiBEjiIuL\n",
              "4+WXX2b69OkP9AkPD+f06dNERkYSGxuLRqNhzZo1AOzfv5/IyEjWr1/P1q1bcXNzY+nSpQCYmJjw\n",
              "2muvERcXR0xMDI6OjoSEhJRY9rJly4iOjiY6Opr+/fuXZrhClHnWZhYEtOnNweHT+FfbPlQzs+Ds\n",
              "nRtMSPia/jEfsSM5SXYChBB6pQp/Kysr8vLy6NChA++88w7z58/H0tLygX63b9/m1KlTeHt7A+Dl\n",
              "5cWNGze4fPlyiX5JSUm4u7tjbm6Ooij06NGD6OhofVuHDh2wtrYGoGfPnvq22rVr07FjR/1y2rRp\n",
              "w7Vr10ozJCEqBBtzS/7Vrg8Hhk/jzda9sTI156fb1xi7/Uu8t3zM7mvnZSdACFG68F+yZAkmJiYE\n",
              "Bgbi6uqKmZkZK1aseKBfSkoKdnZ2+kmBFEXBwcGB69evl+jn5uZGQkIC2dnZFBQUEBsbqw9xNzc3\n",
              "Dhw4QGpqKqqqEhMTQ05ODhkZGSWWUVRUxLp16/D09CzxemBgIIMGDWLmzJklTgkIUZHVtKhKYAcv\n",
              "Dg6fxmste2JpYkZiajKjt32Ob+yn7E/5xdglCiGMyLQ0b7KxscHc3ByA1157DYDMzMxSF+Hj48P1\n",
              "69cZM2YMlpaWdOnShf379wPQuXNnxo8fz8SJEzExMaFv377FhZv+r3RVVZk3bx42Njb4+/vrX1+7\n",
              "di316tWjoKCAZcuWMW3aNFatWlXqOoUob2wtrQh6+jleadmNlSd38fW5wxy5eYmR36/CvW4TprZ/\n",
              "lk72TsYuUwjxhJXqm/+IESO4cuWK/ufExESGDRv2QD8HBwdSU1MpLCyeiUxVVVJSUqhXr16Jfoqi\n",
              "EBAQQFRUFOvXr8fZ2RlnZ2d9++jRo4mMjCQsLIxOnTpRt25d/WkAKL77ICUlhaVLl6L5zS1O9z/H\n",
              "zMyMsWPH8uOPP5ZmuEKUe3ZVqjH3mUHsHxbI2GZdMNeYcODGRXy2fsLouM84lnrlrxcihKgwShX+\n",
              "r776Kv7+/mzdupXVq1fzzjvvPHChHUCtWrVwc3Nj06ZNAMTFxWFvb0+jRo1K9NNqtfojB+np6YSG\n",
              "hjJhwgR9+/2LCfPy8lixYkWJtvnz53P58mVWrlypPxoBkJubq78rAGDLli20aNGiNMMVosKoW9WG\n",
              "97sMZq/vO4x26YSpomH39Qt4b/6YsfFf8lOaXDMjRGVQ6kl+Tp48yahRo7C1tSU6OhpbW9s/7Hfx\n",
              "4kVmzJhBRkYGVlZWBAcH4+rqSlBQEB4eHnh6epKWloafnx8ajQadToe/vz+jRo3SL2PQoEHodDoK\n",
              "Cgrw9vZm0qRJKIrC0aNHeeGFF2jSpIk++B0dHVm5ciXJyckEBAToHzjk6OhIUFAQjo6OjzxGmeRH\n",
              "VHRXstJZfmIH4T8nUvT/8wJ4NWzBlHZ9aWHrYOTqhBCGUqrwP3nyJFOnTsXX15czZ86QlZXF4sWL\n",
              "/3QHoLyS8BeVxcXMNJad2MF3vxxHpfhPwkCnVvyrXR9catgbuTohxONWqvD38PAgJCREf5vd2rVr\n",
              "+eKLL9ixY8djL9CYJPxFZXMh4xZLErcTc+kkAAoKQ5q04e22njSpbmfk6oQQj0upwj89Pf2Bb/ln\n",
              "zpypcOfUJfxFZXU2/QYfJMbz/ZXTAGgUhWFPteetth40qlbLyNUJIf6pv3XBX25uLlA8w192dnaJ\n",
              "/xo2bGiQAoUQT15z27qs9vQjdlAAfRo0Q6eqbPz5KD0jPiBwfyRXs+8Yu0QhxD/wt775Dx06lO++\n",
              "+45mzZqhKAqqqpb437Nnzxqy1idOvvkLUSwxNZnFifHsvnYeADONCS+4PM0brXvjYFXdyNUJIf6u\n",
              "Ul/tXxlI+AtR0g83L7E4MV4/Q6CFiSljXJ9hUqte1KlazcjVCSEelTz0WwjxyJ62d2JDv5fZ2O9l\n",
              "Otk7oS0q5LMz+3EPD+HfP2zl9r1sY5cohHgEpZre99KlS8yfP5+kpKQSj949cuTIYytMCFF2uTs8\n",
              "RUTdJuy9/jOLEreRmJrMp6f28HXSIca3cGdiyx7UtKhq7DKFEH+iVN/8Z8+ejY+PD9WrV+frr7/G\n",
              "y8uL8ePHP+7ahBBlmKIo9KjflE0DXuerPuNoXas+uYX5fHRyF13CFrI4MZ5MbZ6xyxRC/IFShX92\n",
              "djb9+/dHo9Hg6urKe++9x/bt2x93bUKIckBRFDwbNGPLoDf4zMOP5jXrkl2gZdnxHbiHL2T58R1k\n",
              "F2iNXaYQ4jdKFf73n6hnZWXF1atXyc/P584dufVHiMpMURS8GrkRN/hNPuk9GpcadcjMv8eixHi6\n",
              "hC3k4592k1uQ/9cLEkIYXKnO+Xfs2JE7d+4wevRofH19MTMz47nnnnvctQkhyiGNomGgUyuea+hG\n",
              "zKWTLEnczsW7afznx1hCT+1lUuuejHHtTBVTM2OXKkSl9Y9v9UtJSSErKwsXF5fHVVOZIbf6CfHP\n",
              "FeqKiLp4nKXHd3A5Kx0A+yrVeKN1b15w7YSFSam+gwgh/oFSHfZPSEjQPy7XwcEBe3t7du3a9Tjr\n",
              "EkJUEKYaE4Y5d2CXzxRCuvpQ36oGN/OymH14E93CF7E26TD5RYXGLlOISqVU4b98+XJsbGz0P9vY\n",
              "2LB8+fLHVpQQouIpnhWwE3t9p/KfLkOoW9WGlNxMph/8jp6RH7D+/A8U6oqMXaYQlcJjmeRHURSK\n",
              "imSjFUL8NXMTU/ybdWaf7zvMe2YQdlWsSc6+w9T9EfSKXEL4z8co0umMXaYQFVqpwt/Kyopjx47p\n",
              "fz569ChWVlaPrSghRMVnaWrGSy26cmBYILOf7o+thRWXsm4zee9GPKOWsuniCXSq7AQIYQiluuAv\n",
              "MTGRN954gyZNmgDFM/6tXLmS1q1bP/YCjUku+BPiyckp0PLF2YN8cmoPGdriJ4i61rBnSru+9GvU\n",
              "Ao0is5EL8biU+mr/zMxMjh8/DkC7du1KXAOQn5+Pubn5YynQmCT8hXjysvLv8dmZ/YSe3svd/HsA\n",
              "uNk6MLVdX/o0aI6iKEauUIjyzyBP9bv/6N/yTsJfCOPJ0Oay6vQ+PjuzXz9DYJvajkxt15de9V1k\n",
              "J0CIf8Agx9F+uz9x6dIlnn/+eby8vPD19eXChQsP9NfpdCxcuJCBAwfSr18/Zs6cWeKBQatXr2bg\n",
              "wIH079+fSZMm6W8zBDhx4gTe3t54eXnh7+/PzZs3H6lNCFG21bCoyjvtn+XgsEAmtepFFVMzTqRd\n",
              "xS/+C4Zu/YR9139GnkguROkYJPx/u0c+Z84cRowYQVxcHC+//DLTp09/oH94eDinT58mMjKS2NhY\n",
              "NBoNa9asAWD//v1ERkayfv16tm7dipubG0uXLgWKdxqmTp3KzJkziYuLo2fPnrz//vt/2SaEKD9q\n",
              "Wloxo2M/Dg6bxitu3bAwMeXHW5d5Pm41w2JDOXTjorFLFKLcMegVNLdv3+bUqVN4e3sD4OXlxY0b\n",
              "N7h8+XKJfklJSbi7u2Nubl78pLAePYiOjta3dejQAWtrawB69uypbzt16hQmJiZ07twZgJEjR7Jz\n",
              "5060Wu1D24QQ5U/tKtbM6TSQA8MCebG5O+YaEw7f/JVhsaGMilvN0VuX/3ohQgjAwIf9U1JSsLOz\n",
              "0z8ISFEUHBwcuH79eon+bm5uJCQkkJ2dTUFBAbGxsVy7dk3fduDAAVJTU1FVlZiYGHJycsjIyCAl\n",
              "JYX69evrl2NtbY21tTW3bt16aJsQovyyr2rDvzt7s29YIH6uz2CmMWHv9Z8ZvOW/+G37ghNpV41d\n",
              "ohBlnkEm1W7Tps3f6u/j48P169cZM2YMlpaWdOnShf379wPQuXNnxo8fz8SJEzExMaFv377A/54s\n",
              "KISonOpZVSfYfSivt+rJ8hMJhP18jJ3XzrHz2jmebdCcKe364larnrHLFKJMKnWC7t69m8uXL5eY\n",
              "2e/FF18EYN68eUDxvP+pqakUFhZiamqKqqqkpKRQr17JDVJRFAICAggICABgy5YtODs769tHjx7N\n",
              "6NGjATh+/Dh169bF2toaBwcH/RECgOzsbLKysqhTpw537tz50zYhRMXRoJoti7sNY1LrXiw/nkDk\n",
              "xUS2JZ9lW/JZ+jdqyZR2fXGtaW/sMoUoU0p12H/KlCksXbqUs2fP8ssvv/DLL79w8eKDF93UqlUL\n",
              "Nzc3Nm3aBEBcXBz29vY0atSoRD+tVktmZiYA6enphIaGMmHCBH37/UP1eXl5rFixQt/WsmVLCgsL\n",
              "OXToEAAbNmzAw8MDCwuLh7YJISqexja1WdZjBAlD3mZw4zYoKGy9fIo+UcuYtOtbfslMNXaJQpQZ\n",
              "pbrPv1+/fmzZsgUTE5O/7Hvx4kVmzJhBRkYGVlZWBAcH4+rqSlBQEB4eHnh6epKWloafnx8ajQad\n",
              "Toe/vz+jRo3SL2PQoEHodDoKCgrw9vZm0qRJ+jsKEhMTmTNnDvn5+dSpU4eQkBAcHBz+su1RyH3+\n",
              "QpRfSXdusCRxO1svnwJAoyj4NGnHW209aGxT28jVCWFcpQr/l156iY8++ogqVaoYoqYyQ8JfiPLv\n",
              "9O3rfJAYz7bkswCYKBqGO7fnrTYeNKhma+TqhDCOUoX/hQsXmD17Np06dSoxje8bb7zxWIszNgl/\n",
              "ISqOE2lXWXwsnp3XzgHFjxh+vmlHAlr3pp51DeMWJ8QTVqpz/h988AFmZmZotVpycnL0/wkhRFnV\n",
              "prYjXz/7ItEDXqN7PWcKdEV8fe4w3SIWMfvQJm7m3v3rhQhRQZTqav9ff/2VuLi4x12LEEIYXIc6\n",
              "jfjWawKHblxkcWI8h278yhdnD/DN+SOMbdaZ11v1onYVa2OXKYRBleqbf+PGjcnOzn7ctQghxBPT\n",
              "uW4Twvq9wnqvCXSwa4i2qJDQ0/voEr6Q//wYy517cjRTVFyl+uZvaWnJ0KFD6dq1a4lb5+T8uBCi\n",
              "PFEUhW71nOnq8BS7rp1ncWI8J9Ku8vFPu/nq7EEmuHXjZbdu1LCoauxShXisShX+zs7OJSbhEUKI\n",
              "8kxRFHo7utKrvgvbk8+yODGe0+kpLD+RwBdnD/CyWzcmtOhGNXNLY5cqxGNRqqv9Kwu52l+Iykmn\n",
              "6vj+8hk+SIznXEbxo8BrWFTl1ZY9eLF5F6zMZLIwUb6V6pv/Rx999IevV7Rb/YQQlZNG0dDfqSX9\n",
              "GrVg868/seT4dn7OTGXB0e9ZdXovr7fqiX+zzlQxNf/rhQlRBpXqgr/f3t53584doqKiuHTp0mMu\n",
              "TQghjEujaPBu0oYdQ95meY+ROFWrxe17Ofz7h610DV/EZ2f2c6+wwNhlCvG3PZbD/nfu3GHGjBl8\n",
              "8sknj6OmMkMO+wshfqtQV0T4z8dYfiKB5Ow7ANStasObbTx4vmlHzE3kaaOifCjVN//fq1mzJsnJ\n",
              "yY9jUUIIUWaZakx43uVpdvtMYUGXoThUrc6N3LvMPBhF94jFfHP+CAW6or9ekBBGVqrd1DVr1uj/\n",
              "rdPpOHnyJLVry4MyhBCVg7mJKWOaPcPwph345twRPjq5k2s5GQTuj2TlyV1MbuPJ0KfaYqr564ef\n",
              "CWEMpQr/s2fP6v9tYmJCs2bNGDly5GMrSgghygMLE1NebOHO8y5Ps/bcIVae3M3lrHTe3hfGhyd3\n",
              "8nbbPng3bo2J5rEcZBXisflb5/x/+OGHh7Y//fTT/7igskTO+Qsh/o7cgny+TDrIf3/azR1tLgAu\n",
              "Nerwr3Z96d/IDY0iOwGibPhb4e/r6/vgAhSFW7dukZqaWuKIQEUg4S+EKI3sAi2fn9nPp6f2kJl/\n",
              "D4AWtg5MaduHZxu2QFEUI1coKru/ddg/IiKixM8ZGRn897//ZdOmTQQEBDzWwoQQoryyNrPgzTYe\n",
              "jG3WhdVn9rH69D7OpKfwUsLXtK5Vnynt+uLh6Co7AcJoSnUMSqvV8umnnzJgwAAAtm7dyuuvv/5Y\n",
              "CxNCiPKuukUVprTry4Hh0who3ZuqpuacvH2Nsdu/ZPCW/7Ln2gVkklVhDH8r/HU6HRs2bODZZ5/l\n",
              "4sWLbNy4kRkzZlCzZk1D1SeEEOVeTYuqTOvgxcHhgbzasgeWJmYcS73CC9s+Y1jspxxI+cXYJYpK\n",
              "5m+d8+/fvz/5+fm88cYbNGvW7IH2P3rt0qVLTJ8+nTt37mBtbc2CBQto2rRpiT46nY5Fixaxd+9e\n",
              "CgsLad++PXPnzsXcvHjqzNDQUKKiojAzM8PCwoJZs2bRunVrzp07R2BgoH45WVlZZGdnc+TIEQA8\n",
              "PDwwMzPD0rL4YRwTJ06kf//+jzpcOecvhDCIW7lZrPxpF2vPHUZbVAhAV4eneKfds3S0b2Tc4kSl\n",
              "8LfC38PD488XpCjs2LHjgdf9/f0ZMmQIPj4+fP/996xateqBawc2btzI5s2bWb16NWZmZsyePRsn\n",
              "JycmTJjA2bNnef3119m8eTNWVlZER0fz9ddfEx4e/sBnvffeeyiKwuzZs/X1rly5kubNmz/qEEuQ\n",
              "8BdCGFJKTiYfndzJN+d/0E8O1LO+C1Pb9aWdXQMjVycqsr91wV9CQsLfWvjt27c5deoUn3/+OQBe\n",
              "Xl78+9//5vLlyzRq9L+926SkJNzd3fXf9Hv06MGHH37IhAkTUBSFgoIC8vLysLKyIisri7p16z7w\n",
              "WVqtlpiYmBITEAkhRFnmYFWd97sM4fVWvVh+IoGNF35k97Xz7L52nj4NmjG1XV9a1qpv7DJFBWTQ\n",
              "iahTUlKws7PD1LT4YxRFwcHBgevXr5cIfzc3NzZs2MCYMWOwsLAgNjaWa9euAcWnEsaNG4enpyfV\n",
              "q1fH3NycdevWPfBZ27Zto0GDBg98y79/WqBVq1ZMnToVW1tbQw1XCCFKpb51DUK6+jCpdU+WH08g\n",
              "/JdjbE9OYntyEv0aujGlXV+a2z74pUeI0ioTM074+PjQvXt3xowZg5+fH05OTvodhuTkZOLj49m2\n",
              "bRt79uxh3LhxTJ48+YFlhIeHPzAPwdq1a4mJiSEyMpKaNWsybdq0JzEcIYQolUbVarGk+3B2Df0X\n",
              "Q5u0RUHh+yun6Ru9jNd2fsOFjFvGLlFUEAYNfwcHB1JTUyksLL6gRVVVUlJSqFevXol+iqIQEBBA\n",
              "VFQU69evx9nZGWdnZ6D4G72Liwv29vZA8Y7CsWPHyM/P178/OTmZEydOMGjQoBLLvf85ZmZmjB07\n",
              "lh9//NFgYxVCiMelSXU7Puz5PDuGTmagUysAYi6dxDNqKW/u2cDFzDQjVyjKO4OGf61atXBzc2PT\n",
              "pk0AxMXFYW9vX+KQPxSfr8/MzAQgPT2d0NBQJkyYAECDBg04duwYOTk5AOzatQsnJyf99QFQPPlQ\n",
              "nz59sLGx0b+Wm5vL3bt39T9v2bKFFi1aGGagQghhAC417Pmk92i2DX4Lr4Yt0Kkqkb8k0vu7JUzZ\n",
              "F8aVrHRjlyjKKYM/fHrevHnMmDGDTz/9FCsrK4KDgwEICgrCw8MDT09PsrKy8PPzQ6PRoNPp8Pf3\n",
              "199Z0LdvX3766Sd8fX0xNzenatWqfPDBB/rl63Q6vvvuOxYuXFjic2/fvk1AQABFRcVX0Do6Oj7Q\n",
              "RwghyoMWtg585unPybSrfJC4nR1Xk9hw4SgRPycysmlH3mzjQX3rGsYuU5Qjf+tWv8pGbvUTQpRF\n",
              "x1Kv8MGxeHZfvwCAucaEUS6deKN1Lxysqhu5OlEelIkL/oQQQjy69nYNWef1EpH9X8W9bhPydUV8\n",
              "lXSQbhGLmHs4hlu5WcYuUZRxEv5CCFFOdbJ3YuNzr7Ch38s8XacR2qJCVp/Zj3t4CPN/2Er6vRxj\n",
              "lyjKKAl/IYQo57o6PEVk/1dZ9+x42tk14F5RAZ+c2kOXsIUsPBrHHW2usUsUZYyEvxBCVACKotCz\n",
              "vgubBrzOV33G0apWfXIK8/nw5E7cwxbyQWI8d/PvGbtMUUZI+AshRAWiKAqeDZqxddAbrPbwo3nN\n",
              "umQVaFl6fAddwhby4YmdZBdojV2mMDIJfyGEqIAURaFfIzfiBr/JJ71eoGn1OmTm57HwWBzuYSH8\n",
              "96fd5BXm//WCRIUk4S+EEBWYRtEwsHFrtg+ZzIc9nqexTW3StTm8/2Ms7uEhrD69j7zCAmOXKZ4w\n",
              "CX8hhKgETDQahj7Vlp1D32Zpt+E0qmZLal42c49splvEIr48exBtUaGxyxRPiIS/EEJUIqYaE4Y3\n",
              "7cAunyksdPehnlV1bubeZdahaLpHLGLtucMU6IqMXaYwMAl/IYSohMw0Jox27cRe33d4v/Ng7Kva\n",
              "cD0nk+kHvqNnxAdsuPAjhbITUGFJ+AshRCVmYWLK2OZd2O/7DnM7DcSuijVXstOZsi+cXpFLiPgl\n",
              "kSKdzthlisdMwl8IIQSWpmZMcOvGgWGBzOrYH1sLKy5l3eatPRvoE7WMmF9PolNlJ6CikPAXQgih\n",
              "V8XUnFdb9eDA8ECmd/CiunkVLmTe4rVd3/Bs9ApiL59CngdX/kn4CyGEeIC1mQVvtO7NweHTmNKu\n",
              "D9XMLEi6c4OXE9by3KYP2Z58VnYCyjEJfyGEEH/KxtySt9v24eDwabzVxgMrU3NOpV9n3PavGLT5\n",
              "Y3ZdOy87AeWQhL8QQoi/VMOiKu+0f5aDw6fxequeVDE143haMmO2fY7P1k/Yf/1nY5co/gYJfyGE\n",
              "EI/M1tKKmR2f48CwQF5264aFiSk/3LrMyLjVDI8N5cjNS8YuUTwCCX8hhBB/m12VarzbaSD7hwUy\n",
              "rnkXzDUmHLxxEZ+tn/BC3GccvXXF2CWKh5DwF0IIUWp1q9owv/Ng9vm+wxjXZzBVNOy5foHBWz7G\n",
              "P/4LTqZdNXaJ4g+YGvoDLl26xPTp07lz5w7W1tYsWLCApk2bluij0+lYtGgRe/fupbCwkPbt2zN3\n",
              "7lzMzc0BCA0NJSoqCjMzMywsLJg1axatW7cGwNXVFRcXFzSa4v2Y2bNn07FjRwBOnDjB7Nmz0Wq1\n",
              "2Nvbs2jRIuzt7Q09ZCGEqHTqWddggftQJrXqybITCYT/fIyEq+dIuHoOr4YtmNKuDy1s6xm7THGf\n",
              "amB+fn5qRESEqqqqGhsbq/r4+DzQZ8OGDaqfn5+q1WpVnU6nBgUFqatWrVJVVVXPnDmj9urVS83O\n",
              "zlZVVVWjoqJUX19f/XtdXFzUzMzMB5ZZVFSk9unTRz148KCqqqq6evVqNSAg4G/V/p///Odv9RdC\n",
              "CFHsYmaq+ubu9WqDL6ar9T+fptb/fJr6SsJaNSn9hrFLE6qqGvSw/+3btzl16hTe3t4AeHl5cePG\n",
              "DS5fvlyiX1JSEu7u7pibm6MoCj169CA6OhoofiZ1QUEBeXl5AGRlZVG3bt2//OxTp05hYmJC586d\n",
              "ARg5ciQ7d+5Eq9U+ziEKIYT4A41tarO8x0gShryNd+PWKChsufQTfaKW8cbu9fySmWrsEis1g4Z/\n",
              "SkoKdnZ2mJoWn11QFAUHBweuX79eop+bmxsJCQlkZ2dTUFBAbGws165dA6BZs2aMGzcOT09PevTo\n",
              "wZdffsns2bNLvH/cuHF4e3sTHBxMbm6u/rPr16+v72NtbY21tTW3bt0y5JCFEEL8hnONOnzc6wW2\n",
              "DX6L5xq5oaISdfE4vb9bwtt7N3Lp7m1jl1gplYkL/nx8fOjevTtjxozBz88PJycn/Q5DcnIy8fHx\n",
              "bNu2jT179jBu3DgmT56sf+/OnTuJjIxk/fr1pKenExISYqRRCCGE+DPNbeuyysOP770D6NugOTpV\n",
              "JeznY/SM/IB39kdwNfuOsUusVAwa/g4ODqSmplJYWAiAqqqkpKRQr17Jiz4URSEgIICoqCjWr1+P\n",
              "s7Mzzs7OAGzbtg0XFxf9hXo+Pj4cO3aM/Px8AP2yqlatygsvvMDRo0f1n33/6AFAdnY2WVlZ1KlT\n",
              "x5BDFkII8RAta9Xniz5j2TxwEr3qu1Ck6vj2/A90j1jMzINRXM/JNHaJlYJBw79WrVq4ubmxadMm\n",
              "AOLi4rC3t6dRo0Yl+mm1WjIzi1d4eno6oaGhTJgwAYAGDRpw7NgxcnJyANi1axdOTk6Ym5uTmZmp\n",
              "vxZAp9OxdetWmjdvDkDLli0pLCzk0KFDAGzYsAEPDw8sLCwMOWQhhBCPoK1dA9Y+O56o/q/RzcGZ\n",
              "Al0Ra5IO0T1iEXMObeJm7l1jl1ihKapq2EmZL168yIwZM8jIyMDKyorg4GBcXV0JCgrCw8MDT09P\n",
              "0tLS8PPzQ6PRoNPp8Pf3Z9SoUUDx0YIlS5YQHx+Pubk5VatWZdasWbRs2ZLExETmzJmDoigUFRXR\n",
              "okULgoKCqFGjBoC+PT8/nzp16hASEoKDg8Mj1x4cHMyMGTMM8WsRQgjxGwdvXGTxsW0c/v8ZAi1N\n",
              "zBjbrDOvt+5JLUtr4xZXARk8/MszCX8hhHhyVFVlX8rPLDoWz7HU4hkCq5qa82Jzd15t2Z2allZG\n",
              "rrDiKBMX/AkhhBCKotC9XlOiB7zGmr4v0qa2I7mF+az8aRddwkNYnBhPpjbP2GVWCBL+QgghyhRF\n",
              "UfBwdGXzwEl87ulPC1sHsgu0LDu+A/fwhSw/voOs/HvGLrNck/AXQghRJimKwrMNW/C9dwCf9h6N\n",
              "aw17MvPvsSgxni7hIaw8uYvcgnxjl1kuSfgLIYQo0zSKhgFOrYgf8hYre47iqep2ZGhzCT76PV3C\n",
              "FxJ6ai95hQXGLrNckfAXQghRLmgUDYObtGHHkMks6z6CRtVqcfteDu/9sIWu4SF8fmY/92Qn4JFI\n",
              "+AshhChXTDUmDHNuzy6ff7G4qy+O1jW4lZfFnMMxdI9YzNdJh8gvKjR2mWWahL8QQohyyUxjwvMu\n",
              "T7PHZyoLugzFoWp1UnIzmXEwih6Ri/n2/A8U6IqMXWaZJOEvhBCiXDM3MWVMs2fY6zuV954ZRJ0q\n",
              "1biancE7+yPoFbmE8J+PUqTTGbvMMkXCXwghRIVgaWrG+BZd2T8skDlPD6CWpRWXs24zeW8YHlFL\n",
              "ib54Ap0qOwEg4S+EEKKCqWJqxistu3NgWCAzOvSjhkVVfslMZdLub+kbtZwtl36q9DsBEv5CCCEq\n",
              "JCszCya17sXBYYG8064v1c0tOZdxk4k719Fv04dsu3KGyjrDvYS/EEKICq2auSVvtfXkwLBpTG7r\n",
              "ibWZBWfSUxi/Yw0DN68k4eq5SrcTIOEvhBCiUqhuUYWp7fpycFggb7TuRVVTc06kXcU//guGbPkv\n",
              "e69fqDQ7ARL+QgghKpWallZM79CPA8MCmejWHQsTU46mXmFU3GcMiw3l0I2Lxi7R4CT8hRBCVEq1\n",
              "q1gzu9MADgwLZHxzdyxMTDl881eGxYby/PerOXrrsrFLNBgJfyGEEJWafVUb3uvszV7fd/Bv1hkz\n",
              "jQn7Un5m8Jb/Mmbb5xxPTTZ2iY+dhL8QQggB1LOqzn+6DGGv71RGuTyNiaJh17XzDNy8khe3f8Xp\n",
              "29eNXeJjI+EvhBBC/IajdU0WdfVlt88Uhju3R6MoxCefxWvTCl5O+JqkOzeMXeI/pqgGvrTx0qVL\n",
              "TJ8+nTt37mBtbc2CBQto2rRpiT46nY5Fixaxd+9eCgsLad++PXPnzsXc3ByA0NBQoqKiMDMzw8LC\n",
              "glmzZtG6dWtu3rzJzJkzuXr1Kubm5jg5OTFv3jxsbW0B8PDwwMzMDEtLSwAmTpxI//79H7n24OBg\n",
              "ZsyY8Zh+E0IIIcqji5mpLDm+g+iLJ1BRUVAY1LgV/2rbB+cadYxdXqkY/Jv/nDlzGDFiBHFxcbz8\n",
              "8stMnz79gT7h4eGcPn2ayMhIYmNj0Wg0rFmzBoCzZ8/y7bffEhYWRnR0NKNHj+a9994DwMTEhNde\n",
              "e424uDhiYmJwdHQkJCSkxLKXLVtGdHQ00dHRfyv4hRBCCIAm1e34qOfzbB8ymYFOrVBR2fTrSTyi\n",
              "lvLWng38ejfN2CX+bQYN/9u3b3Pq1Cm8vb0B8PLy4saNG1y+XPIKyqSkJNzd3TE3N0dRFHr06EF0\n",
              "dDQAiqJQUFBAXl4eAFlZWdStWxeA2rVr07FjR/1y2rRpw7Vr1ww5JCGEEJWUa017Puk9mm2D38Sr\n",
              "YQt0qkrEL4n0ilzClH3hXMlKN3aJj8zUkAtPSUnBzs4OU9Pij1EUBQcHB65fv06jRo30/dzc3Niw\n",
              "YQNjxozBwsKC2NhYfYg3a9aMcePG4enpSfXq1TE3N2fdunUPfFZRURHr1q3D09OzxOuBgYEAtGrV\n",
              "iqlTp+pPCQghhBCl0cK2Hp95+nMy7SqLE+NJuHqODRd+JOLnYzzv8jRvtu5NPesaxi7zocrEBX8+\n",
              "Pj50796dMWPG4Ofnh5OTk36HITk5mfj4eLZt28aePXsYN24ckydPLvF+VVWZN28eNjY2+Pv7619f\n",
              "u3YtMTExREZGUrNmTaZNm/YkhyWEEKICa13bkTV9XyR6wOv0qNeUQlXH2nOH6RaxiFmHormRe9fY\n",
              "Jf4pg4a/g4MDqampFBYWAsUhnZKSQr169Ur0UxSFgIAAoqKiWL9+Pc7Ozjg7OwOwbds2XFxcsLe3\n",
              "B4p3FI4dO0Z+fr7+/fPnzyclJYWlS5ei0fxvSPc/x8zMjLFjx/Ljjz8acrhCCCEqoQ51GvKN10tE\n",
              "PDeRLnWbkK8r4suzB+kaHsK8I5tJzcsydokPMGj416pVCzc3NzZt2gRAXFwc9vb2JQ75A2i1WjIz\n",
              "MwFIT08nNDSUCRMmANCgQQOOHTtGTk4OALt27cLJyUl/J8D8+fO5fPkyK1eu1L8GkJuby927/9vr\n",
              "2rJlCy1atDDcYIUQQlRqz9RtTNhzr7DBawId6zRCW1TIqtP7cA8P4f0fYkm/l2PsEvUMfqvfxYsX\n",
              "mTFjBhkZGVhZWREcHIyrqytBQUF4eHjg6elJWloafn5+aDQadDod/v7+jBo1Cig+WrBkyRLi4+Mx\n",
              "NzenatWqzJo1i5YtW3L06FFeeOEFmjRpog9+R0dHVq5cSXJyMgEBARQVFelfDwoKwtHR8ZFrl1v9\n",
              "hBBClIaqquy+foHFx+I5nlY8Q6CVqTkT3Lrxsls3alhUNWp9Bg//8kzCXwghxD+hqio7riax+Fg8\n",
              "p9KLZwi0MbfkZbduvNSiGzbmlkapq0xc8CeEEEJURIqi0KdBc2K9A1jlMYZmNetyN/8eHyRup0vY\n",
              "Qj46uZOcAu0Tr0vCXwghhDAwRVF4rlFLtg1+k//2eoGm1euQmZ/HgqNxeEWvQFtU+ETrMeh9/kII\n",
              "IYT4H42iYVDj1vRv1JLoX0/w4Ymd//+68kTrkPAXQgghnjATjQafp9rh81Q7o3y+HPYXQgghKhkJ\n",
              "fyGEEKKSkfAXQgghKhkJfyGEEKKSkfAXQgghKhkJfyGEEKKSkfAXQgghKhkJfyGEEKKSkQf7PMSk\n",
              "SZP+1lMAhRBCCGOrV68eY8eOfWgfCX8hhBCikpHD/kIIIUQlI+EvhBBCVDIS/kIIIUQlI+EvhBBC\n",
              "VDIS/kIIIUQlI+EvhBBCVDIS/kIIIUQlI+EvhBBCVDKmxi6gort06RLTp0/nzp07WFtbs2DBApo2\n",
              "bVqij06nY9GiRezdu5fCwkLat2/P3LlzMTc3ByA0NJSoqCjMzMywsLBg1qxZtG7dmps3bzJz5kyu\n",
              "Xr2Kubk5Tk5OzJs3D1tbWwA8PDwwMzPD0tISgIkTJ9K/f/8yPy4AV1dXXFxc0GiK909nz55Nx44d\n",
              "AThx4gSzZ89Gq9Vib2/PokWLsLe3L9NjOnfuHIGBgfrlZGVlkZ2dzZEjR4Cyv65Wr15NVFQUOp2O\n",
              "xo0bExwcjI2NDfDw9WGodWXocZX3beth68sY25ahx2Ws7Wv+/PkkJCRw7do1oqKiaN68+R/2CwsL\n",
              "Y9WqVeh0Ojp37sy7776LmZmZwdoeiSoMys/PT42IiFBVVVVjY2NVHx+fB/ps2LBB9fPzU7VararT\n",
              "6dSgoCB11apVqqqq6pkzZ9RevXqp2dnZqqqqalRUlOrr66uqqqqmpqaqP/zwg345CxYsUKdNm6b/\n",
              "uXfv3uqZM2fK3bhUVVVdXFzUzMzMB5ZZVFSk9unTRz148KCqqqq6evVqNSAgoFyM6bfmzZunvvfe\n",
              "e/qfy/K62rdvn/rcc8+pWVlZqqqq6sqVK9W5c+eqqvrw9WHIdWXocZXnbeth41JV42xbT2Jcv/Wk\n",
              "tq8jR46oKSkpD13+lStX1K5du6q3bt1SdTqdOnHiRHXt2rUGa3tUctjfgG7fvs2pU6fw9vYGwMvL\n",
              "ixs3bnD58uUS/ZKSknB3d8fc3BxFUejRowfR0dEAKIpCQUEBeXl5QPEebd26dQGoXbu2fo8doE2b\n",
              "Nly7dq3cj+thTp06hYmJCZ07dwZg5MiR7Ny5E61WW27GpNVqiYmJYdiwYf+o5kfxOMaVlJREhw4d\n",
              "sLa2BqBnz576toetD0OtqycxrvK8bT1sXA9TntfXbz3J7evpp5/+y79bcXFxeHh4YGdnh6IojBo1\n",
              "is2bNxus7VFJ+BtQSkoKdnZ2mJoWn11RFAUHBweuX79eop+bmxsJCQlkZ2dTUFBAbGys/g9Ns2bN\n",
              "GDduHJ6envTo0YMvv/yS2bNnP/BZRUVFrFu3Dk9PzxKvBwYGMmjQIGbOnEl6enq5Gte4cePw9vYm\n",
              "ODiY3Nxc/WfXr19f38fa2hpra2tu3bpVLsYEsG3bNho0aPDAIcKyuq7c3Nw4cOAAqampqKpKTEwM\n",
              "OTk5ZGRkPHR9GGpdPYlx/VZ527YeZVxPctt6kuOCJ7t9PYrf/17r169PSkqKwdoelYR/GeDj40P3\n",
              "7t0ZM2YMfn5+ODk56TeS5ORk4uPj2bZtG3v27GHcuHFMnjy5xPtVVWXevHnY2Njg7++vf33t2rXE\n",
              "xMQQGRlJzZo1mTZt2pMc1j8a186dO4mMjGT9+vWkp6cTEhLyRGv/M/90XQGEh4fj6+tb4rWyvK46\n",
              "d+7M+PHjmThxIiNGjNCf977fXpb903GVx23rr8ZVVrcteDz/PyyL21eZVKoTHeKRpKWlqe3atVML\n",
              "CgpUVVVVnU6nuru7q5cuXXro+zZv3qyOGjVKVdXi826zZs3St+Xk5KguLi6qVqvVv/bee++pEyZM\n",
              "KPHa7928eVNt27btPxmO3pMa133Hjh1TBw4cqKqqqp44cUL18vLSt2VlZalubm7qvXv3ysWYrly5\n",
              "orZp0+YPz7neV9bW1e8lJiaqPXr0UFX14evDUOtKVQ0/rvvK47b1e380rvuexLalqk9uXE96+7rv\n",
              "Yef8V61apc6ePVv/865du9Tnn3/eYG2PSr75G1CtWrVwc3Nj06ZNQPF5Gnt7exo1alSin1arJTMz\n",
              "E4D09HRCQ0OZMGECAA0aNODYsWPk5OQAsGvXLpycnPRXv86fP5/Lly+zcuVK/WsAubm53L17V//z\n",
              "li1baNGiRbkYV2Zmpv68uU6nY+vWrfpDeC1btqSwsJBDhw4BsGHDBjw8PLCwsCjTY7ovIiKCPn36\n",
              "6K+8hrK/rgD9od+8vDxWrFihb3vY+jDUunoS44Lyu209bFzG2LaexLjue9Lb16Pw8vIiISFBf7ri\n",
              "22+/ZcCAAQZre1SKqqrq4x2q+K2LFy8yY8YMMjIysLKyIjg4GFdXV4KCgvDw8MDT05O0tDT8/PzQ\n",
              "aDTodDr8/f0ZNWoUUHzYccmSJcTHx2Nubk7VqlWZNWsWLVu25OjRo7zwwgs0adJE/8fJ0dGRlStX\n",
              "kpycTEBAAEVFRfrXg4KCcHR0LPPjSkxMZM6cOSiKQlFRES1atCAoKIgaNWoA6Nvz8/OpU6cOISEh\n",
              "ODg4lOkxQfEf2969e7Nw4UL9RVVAmV9XAIMGDUKn01FQUIC3tzeTJk1CURTg4evDUOvK0OMqz9vW\n",
              "w8ZlrG3L0OMC42xfc+bMYdeuXaSlpVGjRg2srKyIj48vMSaAjRs3EhoaCkCnTp2YN2+e/rY8Q7Q9\n",
              "Cgl/IYQQopKRw/5CCCFEJSPhL4QQQlQyEv5CCCFEJSPhL4QQQlQyZX+WDiHEIxk8eDAABQUF/Prr\n",
              "r7i4uADQuHFjli1bZsTKHvT7B60AhISE4Orq+tD3ffnllwwYMAA7OztDlyhEhSbhL0QFcX+e86tX\n",
              "rzJkyJBHms/dmJYtW/anT0H7M2vWrOGZZ575w/DX6XQA+qfVCSH+nIS/EBXc3r17+fjjj9FqtWg0\n",
              "GqZOnUrnzp05fPgw//73v+nQoQPHjh0DYNGiRXz55ZecPn0aS0tLPvroI+zt7YmMjCQqKoqqVaty\n",
              "5coVatasycKFC3F0dKSoqIjFixezd+9eAJ555hmmTZtWYmKcv8PV1ZW3336b7du3k56ezqRJk/D1\n",
              "9eWjjz7i1q1bTJ48GUtLSxYsWMD27ds5f/48ubm5pKSk8MUXX3D+/Pk/HC/AihUriImJwcbGhm7d\n",
              "uhETE0NCQgKFhYVMnDiRO3fuoNVqadasGf/+97+pWrXq41kJQpQ1f2s+QCFEmZecnKx26NBBVdXi\n",
              "6U5HjBihfwzqpUuX1K5du6parVY9dOiQ2rx5c/Wnn35SVVVVly5dqnbq1En9+eefVVVV1blz56oL\n",
              "FixQVVVVIyIiVDc3N31baGio+uKLL6qqqqrr1q1Tx4wZo2q1WrWgoECdMGGC+umnnz60xt69e6vP\n",
              "Pvus6u3trf8vLy9PVdXiR85+9tlnqqqq6s8//6y2bdtWPy3s76dRXbFihdq1a1c1NTX1L8e7c+dO\n",
              "dcCAAWpWVpaq0+nU6dOnq71791ZVtXi62fT0dP2/58yZ85djEKI8k2/+QlRge/bs4fLly4wePVr/\n",
              "mqIo+qepNWzYUD8DYcuWLWnUqBFPPfUUAK1btyY+Pl7/vnbt2unbRo4cyfLlyykqKuLgwYMMHTpU\n",
              "/01/xIgRrFu3jldeeeWhtT3ssP+gQYMAeOqppzA1NSUtLe1PH53as2dPateu/ZfjPXjwIP369dM/\n",
              "EtbX15fDhw8DxbMzfvnll+zevZuioiKysrJo167dQ+sXojyT8BeiguvatSsffPDBA6/fvHmzxLzt\n",
              "JiYmJX7WaDT6KVH/jvvTrf4Tv6+jsLDwT/v+/tD8n433935bZ0xMDIcPH2bt2rVYW1uzZs0a/Rz3\n",
              "QlREcmWMEBVYt27dOHDgAElJSfrXTp48WaplHT9+nF9++QWAsLAwnnnmGUxMTOjSpQtRUVHk5+dT\n",
              "WFhIWFgYXbt2fSz1/56VlRVZWVl/2v6w8Xbu3Jm4uDhycnJQVZWIiAh9n7t371KjRg2sra3Jzs7m\n",
              "u+++M0j9QpQV8s1fiAqsUaNGfPDBB7z77rvk5eVRUFBAixYtHumb8e+1a9eOxYsXc+XKFWrUqMHC\n",
              "hQuB4lMAycnJ+Pj4AMUPGRk7duxfLu/+hXv3zZgxo8QDWf6Iv78/s2fP1l/w93sPG2/v3r05ceIE\n",
              "Q4YMoVq1anTq1Ilq1aoBMGTIEHbs2IGXlxe2trZ06NBBf2pEiIpIHuwjhPhLkZGRbN++nY8//tjY\n",
              "pfwj2dnZWFtbo6oqCxYs4N69e8ybN8/YZQnxxMk3fyFEpTFt2jSuXbuGVquladOmzJ0719glCWEU\n",
              "8s1fCGEQc+bM4cSJEw+8vmHDhhKH+4UQT56EvxBCCFHJyNX+QgghRCUj4S+EEEJUMhL+QgghRCUj\n",
              "4S+EEEJUMhL+QgghRCUj4S+EEEJUMhL+QgghRCXzf3aM/x/5DGdJAAAAAElFTkSuQmCC\n",
              "\">\n",
              "        \n",
              "      </div>\n",
              "      <script></script>\n",
              "      <script type=\"text/javascript\">\n",
              "        (() => {\n",
              "          const chartElement = document.getElementById(\"chart-3c21fe74-108f-416e-9020-3b8476d318e6\");\n",
              "          async function getCodeForChartHandler(event) {\n",
              "            const chartCodeResponse =  await google.colab.kernel.invokeFunction(\n",
              "                'getCodeForChart', [\"chart-3c21fe74-108f-416e-9020-3b8476d318e6\"], {});\n",
              "            const responseJson = chartCodeResponse.data['application/json'];\n",
              "            await google.colab.notebook.addCell(responseJson.code, 'code');\n",
              "          }\n",
              "          chartElement.onclick = getCodeForChartHandler;\n",
              "        })();\n",
              "      </script>\n",
              "      <style>\n",
              "        .colab-quickchart-chart-with-code  {\n",
              "            display: block;\n",
              "            float: left;\n",
              "            border: 1px solid transparent;\n",
              "        }\n",
              "\n",
              "        .colab-quickchart-chart-with-code:hover {\n",
              "            cursor: pointer;\n",
              "            border: 1px solid #aaa;\n",
              "        }\n",
              "      </style>"
            ]
          },
          "metadata": {}
        },
        {
          "output_type": "display_data",
          "data": {
            "text/plain": [
              "import numpy as np\n",
              "from google.colab import autoviz\n",
              "\n",
              "def time_series_multiline(df, timelike_colname, value_colname, series_colname, figscale=1, mpl_palette_name='Dark2'):\n",
              "  from matplotlib import pyplot as plt\n",
              "  import seaborn as sns\n",
              "  figsize = (10 * figscale, 5.2 * figscale)\n",
              "  palette = list(sns.palettes.mpl_palette(mpl_palette_name))\n",
              "  def _plot_series(series, series_name, series_index=0):\n",
              "    if value_colname == 'count()':\n",
              "      counted = (series[timelike_colname]\n",
              "                 .value_counts()\n",
              "                 .reset_index(name='counts')\n",
              "                 .rename({'index': timelike_colname}, axis=1)\n",
              "                 .sort_values(timelike_colname, ascending=True))\n",
              "      xs = counted[timelike_colname]\n",
              "      ys = counted['counts']\n",
              "    else:\n",
              "      xs = series[timelike_colname]\n",
              "      ys = series[value_colname]\n",
              "    plt.plot(xs, ys, label=series_name, color=palette[series_index % len(palette)])\n",
              "\n",
              "  fig, ax = plt.subplots(figsize=figsize, layout='constrained')\n",
              "  df = df.sort_values(timelike_colname, ascending=True)\n",
              "  if series_colname:\n",
              "    for i, (series_name, series) in enumerate(df.groupby(series_colname)):\n",
              "      _plot_series(series, series_name, i)\n",
              "    fig.legend(title=series_colname, bbox_to_anchor=(1, 1), loc='upper left')\n",
              "  else:\n",
              "    _plot_series(df, '')\n",
              "  sns.despine(fig=fig, ax=ax)\n",
              "  plt.xlabel(timelike_colname)\n",
              "  plt.ylabel(value_colname)\n",
              "  return autoviz.MplChart.from_current_mpl_state()\n",
              "\n",
              "chart = time_series_multiline(correlation, *['Tempo_Entrega', 'count()', None], **{})\n",
              "chart"
            ],
            "text/html": [
              "      <div class=\"colab-quickchart-chart-with-code\" id=\"chart-1c201777-13a5-4274-8889-dac899b7be60\">\n",
              "        <img src=\"data:image/png;base64,iVBORw0KGgoAAAANSUhEUgAAAf8AAAEPCAYAAABMY82nAAAAOXRFWHRTb2Z0d2FyZQBNYXRwbG90\n",
              "bGliIHZlcnNpb24zLjcuMSwgaHR0cHM6Ly9tYXRwbG90bGliLm9yZy/bCgiHAAAACXBIWXMAAA9h\n",
              "AAAPYQGoP6dpAAAd3klEQVR4nO3de1RVZf7H8c9BRRM0LzCKaFoqXijLTDM1y4NGZV5GWxopahNl\n",
              "ZTq11kxKKEk5C9RuVrYmbBpzMu+E6ehCjCxnZZeJsiytrFEJjwpqBl6OwHl+f7g8v8gkKDZHeN6v\n",
              "tVirs5+Hw/fbdvM5+8LeLmOMEQAAsEZQoAsAAAA1i/AHAMAyhD8AAJYh/AEAsAzhDwCAZQh/AAAs\n",
              "Q/gDAGAZwh8AAMvU+fB/9dVXA10CAAAXlDof/vv37w90CQAAXFDqfPgDAIDyCH8AACxD+AMAYBnC\n",
              "HwAAyxD+AABYhvAHAMAyhD8AAJYh/AEAsAzhDwCAZQh/AAAsQ/gDAGAZwh8AAMsQ/gAAWIbwBwDA\n",
              "MoQ/AACWIfwBALAM4Q8AgGUIfwAALEP4AwBgGcIfAADLEP4AAFiG8AcAwDKEPwAAliH8AQCwDOEP\n",
              "AIBlHA3/OXPmyO12q0uXLtq5c+d5561atUo33XSTBg8erJkzZ6qkpKTcuDFGEyZM0DXXXONkuQAA\n",
              "WMHR8I+NjdXrr7+uyMjI887Jy8vTggULtHTpUmVnZ6uwsFArV64sN2fx4sW65JJLnCwVAABrOBr+\n",
              "vXv3VuvWrSuck5WVJbfbrfDwcLlcLsXFxWn9+vX+8W+++UabN2/Wvffe62SpAABYo36gC/B4POWO\n",
              "DERGRsrj8UiSSkpKNGvWLP3tb39TUBCXJwAAUB0u6ER94YUXNGTIEHXs2DHQpQAAUGcEfM8/IiJC\n",
              "+/bt87/Oz89XRESEJOmjjz6Sx+PR0qVLVVpaquLiYrndbq1evVotWrQIVMkAANRqAQ//2NhYxcXF\n",
              "aerUqQoLC9OyZcs0dOhQSdLrr7/un/f9999r5MiRysnJCVSpAADUCY4e9k9OTtbAgQN14MAB3X33\n",
              "3RoyZIgkKSkpSW+99ZYkqV27dpo2bZri4uI0ZMgQtWjRQmPHjnWyLAAArOYyxphAF+Gk1NRUJSYm\n",
              "BroMAAAuGBf0BX8AAKD6Ef4AAFiG8AcAwDKEPwAAliH8AQCwDOEPAIBlCH8AACxD+AMAYBnCHwAA\n",
              "yxD+AABYhvAHAMAyhD8AAJYh/AEAsAzhDwCAZQh/AAAsQ/gDAGAZwh8AAMsQ/gAAWIbwBwDAMoQ/\n",
              "AACWIfwBALAM4Q8AgGUIfwAALEP4AwBgGcIfAADLEP4AAFiG8AcAwDKEPwAAliH8AQCwDOEPAIBl\n",
              "CH8AACzjaPjPmTNHbrdbXbp00c6dO887b9WqVbrppps0ePBgzZw5UyUlJZKkbdu26fbbb9ett96q\n",
              "oUOHat68efL5fE6WDABAnedo+MfGxur1119XZGTkeefk5eVpwYIFWrp0qbKzs1VYWKiVK1dKki6+\n",
              "+GI988wz2rBhgzIyMvTJJ58oMzPTyZIBAKjzHA3/3r17q3Xr1hXOycrKktvtVnh4uFwul+Li4rR+\n",
              "/XpJUvfu3dWuXTtJUsOGDdWtWzfl5+c7WTIAAHVewM/5ezyeckcGIiMj5fF4zplXUFCgrKws3Xjj\n",
              "jTVYHQAAdU/Aw78yiouLdd999ykhIUFXXHFFoMsBAKBWC3j4R0RElDuUn5+fr4iICP/r4uJiJSQk\n",
              "KCYmRnfddVcgSgQAoE4JePjHxsYqJydHBQUFMsZo2bJlGjp0qCTp+PHjSkhI0IABA/TAAw8EuFIA\n",
              "AOqG+k6+eXJysrZs2aLCwkLdfffdCgkJUXZ2tpKSkuR2uxUTE6N27dpp2rRpiouLkyT16dNHY8eO\n",
              "lSQtWbJEn3/+uU6ePKns7GxJ0s0336z777/fybIBAKjTXMYYE+ginJSamqrExMRAlwEAwAUj4If9\n",
              "AQBAzSL8AQCwDOEPAIBlCH8AACxD+AMAYBnCHwAAyxD+AABYhvAHAMAyhD8AAJYh/AEAsAzhDwCA\n",
              "ZQh/AAAsQ/gDAGAZwh8AAMsQ/gAAWIbwBwDAMoQ/AACWqf9bvmn37t06cOCAGjVqpKioKDVt2rS6\n",
              "6wIAAA6pdPgXFxfrlVde0cqVK3XRRRepZcuWOn36tPbt26cePXronnvu0XXXXedkrQAAoBpUOvwn\n",
              "TJigkSNHKjMzU2FhYf7lPp9P//3vf7V8+XLt3btXd9xxhyOFAgCA6lHp8F++fLmCg4PPWR4UFKQ+\n",
              "ffqoT58+On36dLUWBwAAql+lL/j7peD/LXMAAEBgVTr8J0+erNzc3F8c+/HHH/XKK69o+fLl1VYY\n",
              "AABwRqUP+z/88MN6+umntXv3bl1xxRUKCwuT1+vVd999p4MHD2rcuHEaPXq0k7UCAIBqUOnw79q1\n",
              "q9LT0+XxePThhx/q4MGDatSokYYNG6ZevXqpfv3f9FeDAACghlU5sY8dO6YRI0aUW7Zr1y517dq1\n",
              "2ooCAADOqfId/hITEyu1DAAAXJgqved/+PBhFRQU6NSpU/rqq69kjJF05uY/J06ccKxAAABQvSod\n",
              "/uvXr9err76qQ4cO6f777/cvb9KkiRISEhwpDgAAVL9Kh//EiRM1ceJELVy4UFOmTHGyJgAA4KAq\n",
              "X/A3ZcoU+Xw+FRQUqKyszL+8TZs21VoYAABwRpXD/4033tATTzyhBg0ayOVySZJcLpe2bdt2ztw5\n",
              "c+YoJydH+fn5yszMVLdu3X7xPVetWqVFixbJ5/Opb9++euyxx9SgQYNfHQMAAFVX5fBfuHChVq9e\n",
              "rcsuu+xX58bGxiohIUF33nnneefk5eVpwYIFeuONNxQWFqb7779fK1eu1Lhx4yocCwRjjE6WlgTk\n",
              "ZwMA6p6L6v//jnRNqnL4N2/evFLBL0m9e/f+1TlZWVlyu90KDw+XJMXFxenvf/+7xo0bV+FYTTPG\n",
              "6I8b/q7/Htpb4z8bAFA39f5De2Xcel+NfwCo8t/5Dx48WIsXL9bhw4dVXFzs//qtPB6PIiMj/a8j\n",
              "IyPl8Xh+dSwQav6zGQAA1a/Ke/7PPPOMJCktLU0ul0vGGLlcLu3cubPai7uQuFwuZdx6H4f9AQDV\n",
              "ptYc9t+1a1e1FhAREaF9+/b5X+fn5ysiIuJXxwLB5XKpcQMeWwwAqN2qfNi/usXGxionJ0cFBQUy\n",
              "xmjZsmUaOnTor44BAIDfpsp7/l27dv3FQxS/dNg/OTlZW7ZsUWFhoe6++26FhIQoOztbSUlJcrvd\n",
              "iomJUbt27TRt2jTFxcVJkvr06aOxY8dKUoVjAADgt3GZszfpr6Sf3sf/1KlTWrt2rcrKyi7YW/ym\n",
              "pqby4CEAAH6iyof9Gzdu7P9q0aKF7rrrLmVlZTlRGwAAcMDvPuf/7bff6ujRo9VRCwAAqAFVPuff\n",
              "u3dv/zn/0tJSSdKsWbOqtyoAAOCYKod/Zmbm/39z/foKCwtTvXr1qrMmAADgoCqHf2RkpE6ePOm/\n",
              "ur9p06a66KKLqr0wAADgjCqHf25urqZNm6awsDBJUmFhoZ5//nn17Nmz2osDAADVr8rhn5aWpgUL\n",
              "FqhXr16SznwYSE1N1cqVK6u9OAAAUP2qfLX/qVOn/MEvSVdffbW8Xm+1FgUAAJzzm/7O/7333vO/\n",
              "3rZtG+f8AQCoRap82H/mzJmaOnWqgoLOfG4wxuj555+v9sIAAIAzqhz+hw4d0po1a1RYWChJCgsL\n",
              "02effVbthQEAAGdU+bD/ggUL1KJFC0VFRSkqKkrNmzfXggULnKgNAAA44Hff3tflcqmsrKw6agEA\n",
              "ADWgyuEfEhKi3Nxc/+uPP/5YISEh1VoUAABwTpXP+f/1r3/Vgw8+qMsuu0yStGfPHi1cuLDaCwMA\n",
              "AM6ocvj37NlTGzZs0Keffup/3bRp0+quCwAAOKTK4S9JF198sW644YbqrgUAANSA333BHwAAqF0I\n",
              "fwAALEP4AwBgGcIfAADLEP4AAFiG8AcAwDKEPwAAliH8AQCwDOEPAIBlCH8AACxD+AMAYBnCHwAA\n",
              "yxD+AABYhvAHAMAyv+mRvpW1Z88ezZgxQ0ePHlVoaKjS0tLUuXPncnN8Pp/mz5+vrVu3qrS0VFdf\n",
              "fbVmz56t4OBgSVJ6eroyMzPVoEEDNWzYUDNnzlSPHj2cLBsAgDrN0T3/5ORkjRkzRllZWbrnnns0\n",
              "Y8aMc+asXr1aX3zxhTIyMrRx40YFBQVpyZIlkqSdO3dq2bJlWrVqldauXatx48bp8ccfd7JkAADq\n",
              "PMfC//Dhw9qxY4eGDx8uSYqNjdWBAwe0d+/ecvN27dqlfv36KTg4WC6XSwMHDtTatWslSS6XSyUl\n",
              "JTp58qQkqaioSK1bt3aqZAAArODYYX+Px6Pw8HDVr3/mR7hcLkVERGj//v1q3769f150dLRWrFih\n",
              "8ePHq2HDhtq4caPy8/MlSV27dtWkSZMUExOjiy++WMHBwVq6dKlTJQMAYIWAX/A3atQoXX/99Ro/\n",
              "frzi4+PVoUMH/weGvLw8ZWdna9OmTXr33Xc1adIkPfTQQ4EtGACAWs6x8I+IiFBBQYFKS0slScYY\n",
              "eTwetWnTptw8l8ulqVOnKjMzU8uXL1enTp3UqVMnSdKmTZsUFRWlVq1aSTrzQSE3N1enT592qmwA\n",
              "AOo8x8K/ZcuWio6O1ptvvilJysrKUqtWrcod8pckr9erY8eOSZKOHDmi9PR0JSQkSJLatWun3Nxc\n",
              "HT9+XJK0ZcsWdejQwf+XAAAAoOoc/VO/lJQUJSYm6qWXXlJISIhSU1MlSUlJSXK73YqJiVFRUZHi\n",
              "4+MVFBQkn8+nCRMmyO12S5KGDBmizz//XKNHj1ZwcLAaN26sp556ysmSAQCo81zGGBPoIpyUmpqq\n",
              "xMTEQJcBAMAFI+AX/AEAgJpF+AMAYBnCHwAAyxD+AABYhvAHAMAyhD8AAJYh/AEAsAzhDwCAZQh/\n",
              "AAAsQ/gDAGAZwh8AAMsQ/gAAWIbwBwDAMoQ/AACWIfwBALAM4Q8AgGUIfwAALEP4AwBgGcIfAADL\n",
              "EP4AAFiG8AcAwDKEPwAAliH8AQCwDOEPAIBlCH8AACxD+AMAYBnCHwAAyxD+AABYhvAHAMAyhD8A\n",
              "AJYh/AEAsIyj4b9nzx7dcccdio2N1ejRo/XNN9+cM8fn82nu3Lm67bbbdPPNN+vRRx/V6dOn/eP7\n",
              "9+/Xfffdp9jYWN16663617/+5WTJAADUeY6Gf3JyssaMGaOsrCzdc889mjFjxjlzVq9erS+++EIZ\n",
              "GRnauHGjgoKCtGTJEkmSMUYPPvigRowYoaysLG3YsEG33HKLkyUDAFDnORb+hw8f1o4dOzR8+HBJ\n",
              "UmxsrA4cOKC9e/eWm7dr1y7169dPwcHBcrlcGjhwoNauXStJ2rZtm4KDg8sFflhYmFMlAwBgBcfC\n",
              "3+PxKDw8XPXr15ckuVwuRUREaP/+/eXmRUdHKycnR8XFxSopKdHGjRuVn58vSdq9e7eaN2+uhx9+\n",
              "WCNHjtSUKVOUl5fnVMkAAFgh4Bf8jRo1Stdff73Gjx+v+Ph4dejQwf+BoaysTO+//74eeOABZWZm\n",
              "asCAAfrzn/8c4IoBAKjdHAv/iIgIFRQUqLS0VNKZ8/cej0dt2rQpN8/lcmnq1KnKzMzU8uXL1alT\n",
              "J3Xq1Mn/Ht27d1fnzp0lSSNGjNCXX36pkpISp8oGAKDOcyz8W7ZsqejoaL355puSpKysLLVq1Urt\n",
              "27cvN8/r9erYsWOSpCNHjig9PV0JCQmSpIEDB+rAgQM6ePCgJOmdd95Rx44d1aBBA6fKBgCgzqvv\n",
              "5JunpKQoMTFRL730kkJCQpSamipJSkpKktvtVkxMjIqKihQfH6+goCD5fD5NmDBBbrdbktS4cWOl\n",
              "pKTo3nvvlTFGTZo00dNPP+1kyQAA1HkuY4wJdBFOSk1NVWJiYqDLAADgghHwC/4AAEDNIvwBALAM\n",
              "4Q8AgGUIfwAALEP4AwBgGcIfAADLEP4AAFiG8AcAwDKEPwAAliH8AQCwDOEPAIBlCH8AACxD+AMA\n",
              "YBnCHwAAyxD+AABYhvAHAMAyhD8AAJYh/AEAsAzhDwCAZQh/AAAsQ/gDAGAZwh8AAMsQ/gAAWIbw\n",
              "BwDAMi5jjAl0EU6aMmWK2rZtG+gyAACoEW3atNHEiRMrnFPnwx8AAJTHYX8AACxD+AMAYBnCHwAA\n",
              "yxD+AABYhvAHAMAyhD8AAJYh/AEAsAzhDwCAZeoHuoDaYs+ePZoxY4aOHj2q0NBQpaWlqXPnzuXm\n",
              "+Hw+zZ8/X1u3blVpaamuvvpqzZ49W8HBwZKk9PR0ZWZmqkGDBmrYsKFmzpypHj166ODBg3r00Uf1\n",
              "/fffKzg4WB06dFBKSopatGghSXK73WrQoIEaNWokSZo8ebJuvfXWWtOfJHXp0kVRUVEKCjrzeXPW\n",
              "rFm65pprJEnbt2/XrFmz5PV61apVK82fP1+tWrWqFb199dVXeuSRR/zvU1RUpOLiYn344YeSas+6\n",
              "e/nll5WZmSmfz6dLL71Uqampatq0qaSK14/T687p/gK97Tm97gK53TndX6C3vTlz5ignJ0f5+fnK\n",
              "zMxUt27dfnHeqlWrtGjRIvl8PvXt21ePPfaYGjRo4NhYpRlUSnx8vFmzZo0xxpiNGzeaUaNGnTNn\n",
              "xYoVJj4+3ni9XuPz+UxSUpJZtGiRMcaYL7/80tx4442muLjYGGNMZmamGT16tDHGmIKCAvPRRx/5\n",
              "3yctLc1Mnz7d/3rQoEHmyy+/dKw3Y5ztzxhjoqKizLFjx855z7KyMjN48GCzbds2Y4wxL7/8spk6\n",
              "dWqt6u2nUlJSzOOPP+5/XRvW3X/+8x9zyy23mKKiImOMMQsXLjSzZ882xlS8fmpi3TndX6C3PSd7\n",
              "Myaw211N9PdTNb3tffjhh8bj8VT4c/bt22f69+9vDh06ZHw+n5k8ebJ57bXXHBurCg77V8Lhw4e1\n",
              "Y8cODR8+XJIUGxurAwcOaO/eveXm7dq1S/369VNwcLBcLpcGDhyotWvXSpJcLpdKSkp08uRJSWc+\n",
              "pbZu3VqSFBYW5v80LklXXnml8vPza6I1Sc73V5EdO3aoXr166tu3ryRp7Nixevvtt+X1emtdb16v\n",
              "V+vWrdPtt99eLbVXRnX0t2vXLvXq1UuhoaGSpBtuuME/VtH6cXrd1UR/gdz2nO6tInVh3f1UILa9\n",
              "3r17/+rvuKysLLndboWHh8vlcikuLk7r1693bKwqCP9K8Hg8Cg8PV/36Z86SuFwuRUREaP/+/eXm\n",
              "RUdHKycnR8XFxSopKdHGjRv9v0i6du2qSZMmKSYmRgMHDtTixYs1a9asc35WWVmZli5dqpiYmHLL\n",
              "H3nkEQ0bNkyPPvqojhw5Uiv7mzRpkoYPH67U1FSdOHHC/7MjIyP9c0JDQxUaGqpDhw7Vqt4kadOm\n",
              "TWrXrt05h/8u9HUXHR2t9957TwUFBTLGaN26dTp+/Lh++OGHCteP0+uuJvr7qZre9mqqt0BsdzXZ\n",
              "nxSYba8yfv7/OTIyUh6Px7GxqiD8q9GoUaN0/fXXa/z48YqPj1eHDh38//Dz8vKUnZ2tTZs26d13\n",
              "39WkSZP00EMPlft+Y4xSUlLUtGlTTZgwwb/8tdde07p165SRkaHmzZtr+vTpNdmW3+/p7+2331ZG\n",
              "RoaWL1+uI0eOaN68eQHp4Xx+77qTpNWrV2v06NHlltWGdde3b1/96U9/0uTJkzVmzBj/+e6z47XB\n",
              "7+3vQt72fk9vF/p2J1XPv80Ledu7YFX5RIGFCgsLTc+ePU1JSYkxxhifz2f69etn9uzZU+H3rV+/\n",
              "3sTFxRljzpxTmzlzpn/s+PHjJioqyni9Xv+yxx9/3CQkJJRb9nMHDx40V1111e9p5xw11d9Zubm5\n",
              "5rbbbjPGGLN9+3YTGxvrHysqKjLR0dHm1KlTv7svY2qut3379pkrr7zyF8+vnnWhrruf++STT8zA\n",
              "gQONMRWvH6fXnTHO93dWILa9murtrJrc7oypuf4Cte2dVdE5/0WLFplZs2b5X2/ZssXccccdjo1V\n",
              "BXv+ldCyZUtFR0frzTfflHTmnEurVq3Uvn37cvO8Xq+OHTsmSTpy5IjS09OVkJAgSWrXrp1yc3N1\n",
              "/PhxSdKWLVvUoUMH/xWtc+bM0d69e7Vw4UL/Mkk6ceKEfvzxR//rf//73+revXut6u/YsWP+8+U+\n",
              "n08bNmzwH567/PLLVVpaqvfff1+StGLFCrndbjVs2LBW9HbWmjVrNHjwYP9V1lLtWXeS/Id7T548\n",
              "qeeee84/VtH6cXrd1UR/UuC2Pad7C+R2VxP9nRWoba8yYmNjlZOT4z9tsWzZMg0dOtSxsapwGWNM\n",
              "9bVad3333XdKTEzUDz/8oJCQEKWmpqpLly5KSkqS2+1WTEyMCgsLFR8fr6CgIPl8Pk2YMEFxcXGS\n",
              "zhxWfPrpp5Wdna3g4GA1btxYM2fO1OWXX66PP/5Yd955py677DL/L5+2bdtq4cKFysvL09SpU1VW\n",
              "VuZfnpSUpLZt29aa/j755BMlJyfL5XKprKxM3bt3V1JSkpo1ayZJ/vHTp0/rD3/4g+bNm6eIiIha\n",
              "0Zt05hfroEGDNHfuXP8FVJJqzbqTpGHDhsnn86mkpETDhw/XlClT5HK5JFW8fpxed073F+htz8ne\n",
              "Ar3dOd2fFNhtLzk5WVu2bFFhYaGaNWumkJAQZWdnl+tNklauXKn09HRJUp8+fZSSkuL/szwnxiqL\n",
              "8AcAwDIc9gcAwDKEPwAAliH8AQCwDOEPAIBlas9dPABoxIgRkqSSkhL973//U1RUlCTp0ksv1bPP\n",
              "PhvAys718werSNK8efPUpUuXCr9v8eLFGjp0qMLDw50uEbAW4Q/UImfva/79999r5MiRlbqPeyA9\n",
              "++yz533a2fksWbJE11577S+Gv8/nkyT/U+oA/DaEP1AHbN26VS+++KK8Xq+CgoL0l7/8RX379tUH\n",
              "H3ygJ554Qr169VJubq4kaf78+Vq8eLG++OILNWrUSC+88IJatWqljIwMZWZmqnHjxtq3b5+aN2+u\n",
              "uXPnqm3btiorK9OTTz6prVu3SpKuvfZaTZ8+vdxNcaqiS5cuevjhh7V582YdOXJEU6ZM0ejRo/XC\n",
              "Cy/o0KFDeuihh9SoUSOlpaVp8+bN+vrrr3XixAl5PB7985//1Ndff/2L/UrSc889p3Xr1qlp06Ya\n",
              "MGCA1q1bp5ycHJWWlmry5Mk6evSovF6vunbtqieeeEKNGzeunpUA1CZVvicggIDLy8szvXr1Msac\n",
              "ub3pmDFj/I893bNnj+nfv7/xer3m/fffN926dTOff/65McaYZ555xvTp08fs3r3bGGPM7NmzTVpa\n",
              "mjHGmDVr1pjo6Gj/WHp6urnrrruMMcYsXbrUjB8/3ni9XlNSUmISEhLMSy+9VGGNgwYNMjfddJMZ\n",
              "Pny4/+vkyZPGmDOPmv3HP/5hjDFm9+7d5qqrrvLfBvbnt0t97rnnTP/+/U1BQcGv9vv222+boUOH\n",
              "mqKiIuPz+cyMGTPMoEGDjDFnbi975MgR/38nJyf/ag9AXcWeP1DLvfvuu9q7d6/GjRvnX+ZyufxP\n",
              "T7vkkkv8dyO8/PLL1b59e3Xs2FGS1KNHD2VnZ/u/r2fPnv6xsWPHasGCBSorK9O2bdv0xz/+0b+n\n",
              "P2bMGC1dulT33ntvhbVVdNh/2LBhkqSOHTuqfv36KiwsPO8jUm+44QaFhYX9ar/btm3TzTff7H8E\n",
              "7OjRo/XBBx9IOnOnxsWLF+udd95RWVmZioqK1LNnzwrrB+oqwh+oA/r376+nnnrqnOUHDx4sd7/2\n",
              "evXqlXsdFBTkvwVqVZy9verv8fM6SktLzzv354fmz9fvz/20znXr1umDDz7Qa6+9ptDQUC1ZssR/\n",
              "b3vANlw1A9RyAwYM0Hvvvaddu3b5l3322We/6b0+/fRTffvtt5KkVatW6dprr1W9evV03XXXKTMz\n",
              "U6dPn1ZpaalWrVql/v37V0v9PxcSEqKioqLzjlfUb9++fZWVlaXjx4/LGKM1a9b45/z4449q1qyZ\n",
              "QkNDVVxcrDfeeMOR+oHagD1/oJZr3769nnrqKT322GM6efKkSkpK1L1790rtGf9cz5499eSTT2rf\n",
              "vn1q1qyZ5s6dK+nMKYC8vDyNGjVK0pmHiUycOPFX3+/shXtnJSYmlnsAyy+ZMGGCZs2a5b/g7+cq\n",
              "6nfQoEHavn27Ro4cqSZNmqhPnz5q0qSJJGnkyJF66623FBsbqxYtWqhXr17+UyOAbXiwDwBJUkZG\n",
              "hjZv3qwXX3wx0KX8LsXFxQoNDZUxRmlpaTp16pRSUlICXRZwQWHPH0CdMn36dOXn58vr9apz586a\n",
              "PXt2oEsCLjjs+QP4zZKTk7V9+/Zzlq9YsaLc4X4AFxbCHwAAy3C1PwAAliH8AQCwDOEPAIBlCH8A\n",
              "ACxD+AMAYBnCHwAAyxD+AABY5v8AjS8akvGh7o0AAAAASUVORK5CYII=\n",
              "\">\n",
              "        \n",
              "      </div>\n",
              "      <script></script>\n",
              "      <script type=\"text/javascript\">\n",
              "        (() => {\n",
              "          const chartElement = document.getElementById(\"chart-1c201777-13a5-4274-8889-dac899b7be60\");\n",
              "          async function getCodeForChartHandler(event) {\n",
              "            const chartCodeResponse =  await google.colab.kernel.invokeFunction(\n",
              "                'getCodeForChart', [\"chart-1c201777-13a5-4274-8889-dac899b7be60\"], {});\n",
              "            const responseJson = chartCodeResponse.data['application/json'];\n",
              "            await google.colab.notebook.addCell(responseJson.code, 'code');\n",
              "          }\n",
              "          chartElement.onclick = getCodeForChartHandler;\n",
              "        })();\n",
              "      </script>\n",
              "      <style>\n",
              "        .colab-quickchart-chart-with-code  {\n",
              "            display: block;\n",
              "            float: left;\n",
              "            border: 1px solid transparent;\n",
              "        }\n",
              "\n",
              "        .colab-quickchart-chart-with-code:hover {\n",
              "            cursor: pointer;\n",
              "            border: 1px solid #aaa;\n",
              "        }\n",
              "      </style>"
            ]
          },
          "metadata": {}
        }
      ]
    }
  ]
}